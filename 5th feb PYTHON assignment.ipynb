{
 "cells": [
  {
   "cell_type": "markdown",
   "id": "cec3ad54",
   "metadata": {},
   "source": [
    "# 5th Feb Assignment 2023"
   ]
  },
  {
   "cell_type": "markdown",
   "id": "a2e6c3ef",
   "metadata": {},
   "source": [
    "## Python Assignment queries\n"
   ]
  },
  {
   "cell_type": "markdown",
   "id": "f44e0d9c",
   "metadata": {},
   "source": [
    "### Q1. Explain Class and Object with respect to Object-Oriented Programming. Give a suitable example"
   ]
  },
  {
   "cell_type": "markdown",
   "id": "9c1a03e5",
   "metadata": {},
   "source": [
    "A class is a blueprint or template for building objects that contain data and action in object-oriented programming (OOP). It specifies the characteristics and methods available to objects of that class. Objects are class instances that are produced from the class blueprint and have their own distinct state and behaviour."
   ]
  },
  {
   "cell_type": "code",
   "execution_count": null,
   "id": "5f134e42",
   "metadata": {},
   "outputs": [],
   "source": [
    "# To give an example, let's consider a class called Car. \n",
    "#This class could have attributes such as make, model, year, color, and mileage. It could also have methods such as start, stop, accelerate, and brake."
   ]
  },
  {
   "cell_type": "code",
   "execution_count": 1,
   "id": "e5a1a36d",
   "metadata": {},
   "outputs": [
    {
     "name": "stdout",
     "output_type": "stream",
     "text": [
      "Honda\n",
      "Corolla\n",
      "The car is starting.\n",
      "The car is accelerating.\n"
     ]
    }
   ],
   "source": [
    "class Car:\n",
    "    def __init__(self, make, model, year, color, mileage):\n",
    "        self.make = make\n",
    "        self.model = model\n",
    "        self.year = year\n",
    "        self.color = color\n",
    "        self.mileage = mileage\n",
    "\n",
    "    def start(self):\n",
    "        print(\"The car is starting.\")\n",
    "\n",
    "    def stop(self):\n",
    "        print(\"The car is stopping.\")\n",
    "\n",
    "    def accelerate(self):\n",
    "        print(\"The car is accelerating.\")\n",
    "\n",
    "    def brake(self):\n",
    "        print(\"The car is braking.\")\n",
    "\n",
    "# Create two Car objects\n",
    "car1 = Car(\"Honda\", \"Civic\", 2022, \"Blue\", 0)\n",
    "car2 = Car(\"Toyota\", \"Corolla\", 2021, \"Red\", 10000)\n",
    "\n",
    "# Access the attributes of the car objects\n",
    "print(car1.make)  # Output: \"Honda\"\n",
    "print(car2.model)  # Output: \"Corolla\"\n",
    "\n",
    "# Call the methods of the car objects\n",
    "car1.start()  # Output: \"The car is starting.\"\n",
    "car2.accelerate()  # Output: \"The car is accelerating.\"\n"
   ]
  },
  {
   "cell_type": "code",
   "execution_count": null,
   "id": "c4fe619f",
   "metadata": {},
   "outputs": [],
   "source": []
  },
  {
   "cell_type": "markdown",
   "id": "c492b306",
   "metadata": {},
   "source": [
    "### Q2. Name the four pillars of OOPs"
   ]
  },
  {
   "cell_type": "markdown",
   "id": "b0248274",
   "metadata": {},
   "source": [
    "* Encapsulation: This is the process of concealing an object's interior workings and exposing just the essential information to the outer world. Encapsulation helps to prevent outsiders from directly manipulating an object's data, ensuring that the entity stays valid and consistent."
   ]
  },
  {
   "cell_type": "markdown",
   "id": "aa31e102",
   "metadata": {},
   "source": [
    "* Inheritance: refers to an object's capacity to inherit characteristics and actions from a parent object. Inheritance enables code reuse and aids in the formation of hierarchies of linked items, with more generic objects at the top and more particular ones at the bottom."
   ]
  },
  {
   "cell_type": "markdown",
   "id": "9c542d6e",
   "metadata": {},
   "source": [
    "* Polymorphism:- refers to an object's ability to take on various shapes or exhibit multiple behaviours. Polymorphism enables more flexible and dynamic code by allowing objects to respond to the same method call differently based on their individual type."
   ]
  },
  {
   "cell_type": "markdown",
   "id": "ba20d6c3",
   "metadata": {},
   "source": [
    "* Abstraction is the process of representing real-world items in code as reduced and abstract representations. By breaking down a system into smaller, more manageable sections, abstraction helps to reduce complexity and promote modularity in programming. It also contributes to the creation of a clean and straightforward interface for an item, concealing extraneous features and making the thing easier to use."
   ]
  },
  {
   "cell_type": "markdown",
   "id": "8de0a6d9",
   "metadata": {},
   "source": [
    "### Q3. Explain why the __init__() function is used. Give a suitable example."
   ]
  },
  {
   "cell_type": "markdown",
   "id": "0ab980a0",
   "metadata": {},
   "source": [
    "The __init__() function is a Python special method used to initialise an object when it is created. A function Object() { [native code] } method is so named because it builds or initialises the object's characteristics or properties."
   ]
  },
  {
   "cell_type": "markdown",
   "id": "a5a5417c",
   "metadata": {},
   "source": [
    "* The __init__() method is called automatically whenever a class object is formed, and it can take parameters that are used to configure the object's initial state. We may ensure that every object in the class has a consistent beginning state by defining a __init__() method."
   ]
  },
  {
   "cell_type": "code",
   "execution_count": 2,
   "id": "e3736879",
   "metadata": {},
   "outputs": [],
   "source": [
    "class Person:\n",
    "    def __init__(self, name, age):\n",
    "        self.name = name\n",
    "        self.age = age\n"
   ]
  },
  {
   "cell_type": "code",
   "execution_count": 3,
   "id": "d0d343fc",
   "metadata": {},
   "outputs": [],
   "source": [
    "person1 = Person(\"Alice\", 25)\n"
   ]
  },
  {
   "cell_type": "markdown",
   "id": "e36a5b21",
   "metadata": {},
   "source": [
    "* In this example, we create a Person class with a __init__() function that accepts two parameters: name and age. When a Person object is created, the __init__() method is invoked with the required arguments, and the object's name and age properties are initialised with the values supplied."
   ]
  },
  {
   "cell_type": "markdown",
   "id": "f4eb6dcd",
   "metadata": {},
   "source": [
    "* Overall, the __init__() function is important because it allows us to initialize the properties of an object when it is created, ensuring that the object is in a valid state from the beginning of its lifecycle."
   ]
  },
  {
   "cell_type": "markdown",
   "id": "5a95032e",
   "metadata": {},
   "source": [
    "### Q4. Why self is used in OOPs?"
   ]
  },
  {
   "cell_type": "markdown",
   "id": "ba2d2490",
   "metadata": {},
   "source": [
    "* Self is a specific keyword in Object-Oriented Programming (OOP) that refers to the instance of a class that is being modified or accessed. It's a pointer to the object that's calling the function or getting at the attribute.\n",
    "\n",
    "* When you define a class in Python, you must include self as the initial parameter for all methods, including the __init__() function. When you call a method on a class instance, Python automatically sends the instance as the method's first parameter (i.e., self)."
   ]
  },
  {
   "cell_type": "code",
   "execution_count": 4,
   "id": "8c6c9aeb",
   "metadata": {},
   "outputs": [],
   "source": [
    "class Person:\n",
    "    def __init__(self, name, age):\n",
    "        self.name = name\n",
    "        self.age = age\n",
    "\n",
    "    def introduce(self):\n",
    "        print(\"Hello, my name is \" + self.name + \" and I am \" + str(self.age) + \" years old.\")\n"
   ]
  },
  {
   "cell_type": "code",
   "execution_count": 5,
   "id": "6c8f7229",
   "metadata": {},
   "outputs": [
    {
     "name": "stdout",
     "output_type": "stream",
     "text": [
      "Hello, my name is Alice and I am 25 years old.\n"
     ]
    }
   ],
   "source": [
    "person1 = Person(\"Alice\", 25)\n",
    "person1.introduce()\n"
   ]
  },
  {
   "cell_type": "markdown",
   "id": "078f8e3b",
   "metadata": {},
   "source": [
    "* In OOP, using self is significant since it allows us to alter or access the characteristics of a class instance. We can distinguish between the characteristics of multiple instances of the same class by using self, and we can verify that each instance keeps its own state."
   ]
  },
  {
   "cell_type": "markdown",
   "id": "40f93087",
   "metadata": {},
   "source": [
    "### Q5. What is inheritance? Give an example for each type of inheritance."
   ]
  },
  {
   "cell_type": "markdown",
   "id": "4b5443e6",
   "metadata": {},
   "source": [
    "* In object-oriented programming, inheritance is a basic notion that allows one class (called the subclass or derived class) to inherit attributes and behaviours from another class (called the superclass or base class). The derived class can then add, change, or override the inherited properties and behaviours while also defining its own distinct attributes and behaviours."
   ]
  },
  {
   "cell_type": "markdown",
   "id": "b4dafe90",
   "metadata": {},
   "source": [
    "* There are four different forms of inheritance:\n",
    "\n",
    "Single inheritance: In single inheritance, a derived class inherits from a single base class. This is the most basic and widespread sort of inheritance. As an example:"
   ]
  },
  {
   "cell_type": "code",
   "execution_count": 10,
   "id": "b018497c",
   "metadata": {},
   "outputs": [
    {
     "name": "stdout",
     "output_type": "stream",
     "text": [
      "I am an animal\n",
      "Meow\n"
     ]
    }
   ],
   "source": [
    "class Animal:\n",
    "    def speak(self):\n",
    "        print(\"I am an animal\")\n",
    "\n",
    "class cat(Animal):\n",
    "    def meow(self):\n",
    "        print(\"Meow\")\n",
    "\n",
    "cat = cat()\n",
    "cat.speak() # Output: \"I am an animal\"\n",
    "cat.meow() # Output: \"meow\"\n"
   ]
  },
  {
   "cell_type": "markdown",
   "id": "a79dbbe1",
   "metadata": {},
   "source": [
    "* Multiple inheritance: In multiple inheritance, a derived class inherits from two or more base classes. For example:"
   ]
  },
  {
   "cell_type": "code",
   "execution_count": 11,
   "id": "07711560",
   "metadata": {},
   "outputs": [
    {
     "name": "stdout",
     "output_type": "stream",
     "text": [
      "I can hop\n",
      "I can walk\n",
      "Using pouch to carry babies\n"
     ]
    }
   ],
   "source": [
    "class Animal:\n",
    "    def hop(self):\n",
    "        print(\"I can hop\")\n",
    "\n",
    "class Mammal:\n",
    "    def walk(self):\n",
    "        print(\"I can walk\")\n",
    "\n",
    "class kangaroo(Animal, Mammal):\n",
    "    def marsupium(self):\n",
    "        print(\"Using pouch to carry babies\")\n",
    "\n",
    "kangaroo = kangaroo()\n",
    "kangaroo.hop() # Output: \"I can hop\"\n",
    "kangaroo.walk() # Output: \"I can walk\"\n",
    "kangaroo.marsupium() # Output: \"Using pouch to carry babies \"\n"
   ]
  },
  {
   "cell_type": "markdown",
   "id": "051f9141",
   "metadata": {},
   "source": [
    "* Hierarchical inheritance: In hierarchical inheritance, a derived class inherits from a single base class, but there are multiple levels of inheritance. For example:"
   ]
  },
  {
   "cell_type": "code",
   "execution_count": 8,
   "id": "1074763d",
   "metadata": {},
   "outputs": [
    {
     "name": "stdout",
     "output_type": "stream",
     "text": [
      "Starting engine\n",
      "Driving a car\n",
      "Starting engine\n",
      "Hauling cargo\n",
      "Starting engine\n",
      "Driving a car\n",
      "Driving off-road\n"
     ]
    }
   ],
   "source": [
    "class Vehicle:\n",
    "    def start(self):\n",
    "        print(\"Starting engine\")\n",
    "\n",
    "class Car(Vehicle):\n",
    "    def drive(self):\n",
    "        print(\"Driving a car\")\n",
    "\n",
    "class Truck(Vehicle):\n",
    "    def haul(self):\n",
    "        print(\"Hauling cargo\")\n",
    "\n",
    "class SUV(Car):\n",
    "    def offroad(self):\n",
    "        print(\"Driving off-road\")\n",
    "\n",
    "car = Car()\n",
    "car.start() # Output: \"Starting engine\"\n",
    "car.drive() # Output: \"Driving a car\"\n",
    "\n",
    "truck = Truck()\n",
    "truck.start() # Output: \"Starting engine\"\n",
    "truck.haul() # Output: \"Hauling cargo\"\n",
    "\n",
    "suv = SUV()\n",
    "suv.start() # Output: \"Starting engine\"\n",
    "suv.drive() # Output: \"Driving a car\"\n",
    "suv.offroad() # Output: \"Driving off-road\"\n"
   ]
  },
  {
   "cell_type": "markdown",
   "id": "5929bca4",
   "metadata": {},
   "source": [
    "## Thank You"
   ]
  },
  {
   "cell_type": "code",
   "execution_count": null,
   "id": "cd47c9c6",
   "metadata": {},
   "outputs": [],
   "source": []
  }
 ],
 "metadata": {
  "kernelspec": {
   "display_name": "Python 3 (ipykernel)",
   "language": "python",
   "name": "python3"
  },
  "language_info": {
   "codemirror_mode": {
    "name": "ipython",
    "version": 3
   },
   "file_extension": ".py",
   "mimetype": "text/x-python",
   "name": "python",
   "nbconvert_exporter": "python",
   "pygments_lexer": "ipython3",
   "version": "3.9.12"
  }
 },
 "nbformat": 4,
 "nbformat_minor": 5
}
