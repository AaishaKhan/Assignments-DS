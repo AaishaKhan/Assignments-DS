{
 "cells": [
  {
   "cell_type": "markdown",
   "id": "5dcc282e",
   "metadata": {},
   "source": [
    "# 27th March 2023 Assignment"
   ]
  },
  {
   "cell_type": "markdown",
   "id": "8fe0b396",
   "metadata": {},
   "source": [
    "# Regression-2\n"
   ]
  },
  {
   "cell_type": "markdown",
   "id": "527723ef",
   "metadata": {},
   "source": [
    "### Q1. Explain the concept of R-squared in linear regression models. How is it calculated, and what does it represent?"
   ]
  },
  {
   "cell_type": "markdown",
   "id": "2af413d2",
   "metadata": {},
   "source": [
    "\"The coefficient of determination, or R2 , is a measure that provides information about the goodness of fit of a model. In the context of regression it is a statistical measure of how well the regression line approximates the actual data.\""
   ]
  },
  {
   "cell_type": "markdown",
   "id": "a46a688b",
   "metadata": {},
   "source": [
    "It is calculated as the ratio of explained variance to the total variance. The explained variance is the sum of squared differences between the actual and predicted values, while the total variance is the sum of squared differences between the actual values and the mean of the dependent variable."
   ]
  },
  {
   "cell_type": "markdown",
   "id": "dc47c17b",
   "metadata": {},
   "source": [
    "* R² = 1 - (SS_res / SS_tot)\n",
    "\n",
    "Where SS_res is the sum of squared residuals (the difference between the actual and predicted values) and SS_tot is the total sum of squared differences between the actual values and the mean of the dependent variable.\n",
    "\n",
    "R-squared ranges between 0 and 1, with higher values indicating that a larger proportion of variance is explained by the model and vice versa. A value of 1 indicates that the model perfectly fits the data, while a value of 0 indicates that the model does not explain any variability in the data."
   ]
  },
  {
   "cell_type": "markdown",
   "id": "c46a10e7",
   "metadata": {},
   "source": [
    "### Q2. Define adjusted R-squared and explain how it differs from the regular R-squared. "
   ]
  },
  {
   "cell_type": "markdown",
   "id": "80380156",
   "metadata": {},
   "source": [
    "Adjusted R-squared is a modified version of R-squared that has been adjusted for the number of predictors in the model. The adjusted R-squared increases when the new term improves the model more than would be expected by chance. It decreases when a predictor improves the model by less than expected."
   ]
  },
  {
   "cell_type": "markdown",
   "id": "a624787a",
   "metadata": {},
   "source": [
    "Adjusted R-squared = 1 - [(1 - R-squared) * (n - 1) / (n - k - 1)]\n",
    "\n",
    "Where n is the number of observations in the dataset and k is the number of independent variables. The adjusted R-squared value ranges from negative infinity to 1, where a higher value indicates a better fit of the model to the data."
   ]
  },
  {
   "cell_type": "markdown",
   "id": "801e63c8",
   "metadata": {},
   "source": [
    "### Q3. When is it more appropriate to use adjusted R-squared?"
   ]
  },
  {
   "cell_type": "markdown",
   "id": "d1ad50b8",
   "metadata": {},
   "source": [
    "Adjusted R-squared is more appropriate to use when comparing multiple regression models with different numbers of predictors. It addresses the limitation of R-squared by penalizing the addition of unnecessary predictors to the model.\n",
    "\n",
    "R-squared tends to increase as more predictors are added to the model, even if those predictors do not have a meaningful relationship with the dependent variable. This can lead to a misleading assessment of model fit. Adjusted R-squared adjusts for the number of predictors in the model and provides a more accurate measure of the model's explanatory power."
   ]
  },
  {
   "cell_type": "markdown",
   "id": "789c2172",
   "metadata": {},
   "source": [
    "Adjusted R-squared is calculated using the formula:\n",
    "\n",
    "Adjusted R² = 1 - [(1 - R²) * (n - 1) / (n - k - 1)]\n",
    "\n",
    "Where:\n",
    "\n",
    "R² is the unadjusted R-squared value.\n",
    "n is the number of observations.\n",
    "k is the number of predictors in the model."
   ]
  },
  {
   "cell_type": "markdown",
   "id": "bd4122b5",
   "metadata": {},
   "source": [
    "### Q4. What are RMSE, MSE, and MAE in the context of regression analysis? How are these metrics calculated, and what do they represent?"
   ]
  },
  {
   "cell_type": "markdown",
   "id": "c8166cba",
   "metadata": {},
   "source": [
    "RMSE, MSE, and MAE are commonly used evaluation metrics in regression analysis to assess the accuracy and performance of regression models. They provide measures of the average prediction error between the predicted values and the actual values of the dependent variable."
   ]
  },
  {
   "cell_type": "markdown",
   "id": "42b54c5d",
   "metadata": {},
   "source": [
    "* Root Mean Squared Error (RMSE):\n",
    "RMSE is a widely used metric that measures the average magnitude of the prediction errors. It is calculated by taking the square root of the mean of the squared differences between the predicted values and the corresponding actual values.\n",
    "RMSE = sqrt(mean((y_predicted - y_actual)^2))\n",
    "\n",
    "RMSE penalizes large errors more heavily due to the squaring operation. It is measured in the same units as the dependent variable, making it easily interpretable. A lower RMSE value indicates better model performance, with values of zero indicating a perfect fit."
   ]
  },
  {
   "cell_type": "markdown",
   "id": "bffe60e8",
   "metadata": {},
   "source": [
    "* Mean Squared Error (MSE):\n",
    "MSE is another measure of the average prediction error. It is calculated by taking the mean of the squared differences between the predicted values and the actual values.\n",
    "MSE = mean((y_predicted - y_actual)^2)\n",
    "\n",
    "Like RMSE, MSE penalizes larger errors more heavily due to squaring. However, MSE is not in the original units of the dependent variable, as it involves squaring the differences. It is useful for comparing the performance of different models, but it does not have a direct interpretation in the original units of the dependent variable."
   ]
  },
  {
   "cell_type": "markdown",
   "id": "c1681554",
   "metadata": {},
   "source": [
    "* Mean Absolute Error (MAE):\n",
    "MAE is a metric that measures the average absolute difference between the predicted values and the actual values. It is calculated by taking the mean of the absolute differences.\n",
    "MAE = mean(|y_predicted - y_actual|)\n",
    "\n",
    "MAE does not involve squaring, so it does not penalize large errors as heavily as RMSE and MSE. It is also measured in the same units as the dependent variable, making it easily interpretable. MAE is less sensitive to outliers compared to RMSE and MSE."
   ]
  },
  {
   "cell_type": "markdown",
   "id": "93154822",
   "metadata": {},
   "source": [
    "### Q5. Discuss the advantages and disadvantages of using RMSE, MSE, and MAE as evaluation metrics in regression analysis."
   ]
  },
  {
   "cell_type": "markdown",
   "id": "57eb48ba",
   "metadata": {},
   "source": [
    "* Advantages of RMSE:\n",
    "\n",
    "* Sensitivity to outliers: RMSE gives higher weight to larger errors due to the squaring of residuals. This makes it more sensitive to outliers, ensuring that models with large errors are penalized accordingly.\n",
    "\n",
    "* Interpretability: RMSE has the same unit of measurement as the dependent variable, making it easier to interpret in the context of the problem at hand.\n",
    "\n",
    "* Differentiability: RMSE is differentiable, which is beneficial in optimization algorithms that rely on gradients, such as gradient descent."
   ]
  },
  {
   "cell_type": "markdown",
   "id": "077a72c6",
   "metadata": {},
   "source": [
    "Disadvantages of RMSE:\n",
    "\n",
    "* Magnitude bias: RMSE is affected by the magnitude of the target variable. Models with larger target values tend to have higher RMSE values compared to those with smaller target values, which might bias the evaluation if the scale of the target variable varies significantly across different datasets.\n",
    "\n",
    "* Lack of intuition: The squared nature of RMSE might not be as intuitive as MAE, making it harder to explain the error metric to non-technical stakeholders."
   ]
  },
  {
   "cell_type": "markdown",
   "id": "bbc55820",
   "metadata": {},
   "source": [
    "Advantages of MSE:\n",
    "\n",
    "* Mathematical properties: MSE is a mathematically convenient metric due to the squaring of residuals. It allows for easier mathematical analysis and manipulation in certain contexts.\n",
    "\n",
    "* Optimization: The squared errors in MSE allow for the use of efficient optimization techniques, such as ordinary least squares, which minimize the sum of squared errors."
   ]
  },
  {
   "cell_type": "markdown",
   "id": "cb584fca",
   "metadata": {},
   "source": [
    "Disadvantages of MSE:\n",
    "\n",
    "* Similar to the disadvantages of RMSE, MSE is also sensitive to outliers and influenced by the magnitude of the target variable.\n",
    "\n",
    "* Interpretation: MSE lacks the same unit of measurement as the dependent variable, making it less interpretable in practical terms."
   ]
  },
  {
   "cell_type": "markdown",
   "id": "ae684de7",
   "metadata": {},
   "source": [
    "Advantages of MAE:\n",
    "\n",
    "* Robustness to outliers: Unlike RMSE and MSE, MAE does not square the residuals, making it less sensitive to outliers and large errors.\n",
    "\n",
    "    * Intuition: MAE is intuitive as it represents the average absolute difference between the predicted and actual values, which is easier to grasp and explain to non-technical stakeholders.\n",
    "* Scale independence: MAE is not influenced by the scale of the target variable, making it suitable for datasets with varying scales."
   ]
  },
  {
   "cell_type": "markdown",
   "id": "59c4fec2",
   "metadata": {},
   "source": [
    "Disadvantages of MAE:\n",
    "\n",
    "* Less sensitivity to errors: Since MAE does not square the residuals, it does not differentiate between small and large errors. In cases where larger errors need to be penalized more, MAE might not provide sufficient differentiation.\n",
    "\n",
    "    * Non-differentiability: MAE is not differentiable at zero, which can be problematic in certain optimization algorithms that rely on gradients."
   ]
  },
  {
   "cell_type": "markdown",
   "id": "39b148ef",
   "metadata": {},
   "source": [
    "### Q6. Explain the concept of Lasso regularization. How does it differ from Ridge regularization, and when is it more appropriate to use?"
   ]
  },
  {
   "cell_type": "markdown",
   "id": "19265f27",
   "metadata": {},
   "source": [
    "Lasso (Least Absolute Shrinkage and Selection Operator) regularization is a technique used in linear regression and other models to introduce a penalty term that encourages sparse solutions. It achieves this by adding the sum of the absolute values of the model's coefficients to the cost function being optimized. The goal of Lasso regularization is to drive some of the coefficients to exactly zero, effectively performing feature selection by shrinking less important coefficients to zero."
   ]
  },
  {
   "cell_type": "markdown",
   "id": "7d213b97",
   "metadata": {},
   "source": [
    "Differences from Ridge regularization:\n",
    "\n",
    "* Penalty term: Lasso regularization adds the sum of the absolute values of the coefficients (L1 norm), while Ridge regularization adds the sum of the squared values of the coefficients (L2 norm).\n",
    "\n",
    "    * Effect on coefficients: Lasso tends to force some coefficients to exactly zero, effectively eliminating them from the model, leading to a sparse solution. Ridge regularization, on the other hand, shrinks the coefficients towards zero but rarely drives them to zero completely."
   ]
  },
  {
   "cell_type": "markdown",
   "id": "da250a58",
   "metadata": {},
   "source": [
    "When to use Lasso regularization:\n",
    "\n",
    "* Feature selection: Lasso regularization is particularly useful when dealing with high-dimensional datasets where feature selection is desired.\n",
    "    \n",
    "    * Interpretability: Lasso's tendency to drive some coefficients to zero can result in a more interpretable model by reducing the number of predictors."
   ]
  },
  {
   "cell_type": "markdown",
   "id": "b92e5722",
   "metadata": {},
   "source": [
    " there are a few considerations when using Lasso regularization:\n",
    "\n",
    "* Overfitting: Lasso's feature selection capability can be advantageous, but it may also lead to overfitting if the number of predictors is close to or exceeds the number of samples. It is important to tune the regularization parameter (alpha) carefully to find the right balance between sparsity and model performance.\n",
    "\n",
    "    * Bias: Lasso regularization tends to introduce a bias in coefficient estimates, particularly when the true model has non-zero coefficients that are forced to zero by Lasso. Ridge regularization, in comparison, does not completely eliminate any predictors, allowing for a less biased estimation."
   ]
  },
  {
   "cell_type": "markdown",
   "id": "6b1cf637",
   "metadata": {},
   "source": [
    "### Q7. How do regularized linear models help to prevent overfitting in machine learning? Provide an example to illustrate."
   ]
  },
  {
   "cell_type": "markdown",
   "id": "b5d659a9",
   "metadata": {},
   "source": [
    "Regularized linear models help prevent overfitting in machine learning by adding a penalty term to the loss function being optimized. The penalty term discourages complex models with overly large coefficients, thus promoting simpler models that generalize better to unseen data. By controlling the magnitude of the coefficients, regularization reduces the model's sensitivity to noise and reduces overfitting."
   ]
  },
  {
   "cell_type": "code",
   "execution_count": 1,
   "id": "8fdaf038",
   "metadata": {},
   "outputs": [
    {
     "data": {
      "image/png": "[encoded data removed]",
      "text/plain": [
       "<Figure size 432x288 with 1 Axes>"
      ]
     },
     "metadata": {
      "needs_background": "light"
     },
     "output_type": "display_data"
    }
   ],
   "source": [
    "x = [1, 2, 3, 4, 5, 6, 7, 8, 9, 10]\n",
    "y = [2, 4, 5, 8, 9, 12, 13, 16, 17, 20]\n",
    "\n",
    "import matplotlib.pyplot as plt\n",
    "plt.scatter(x, y)\n",
    "plt.xlabel('x')\n",
    "plt.ylabel('y')\n",
    "plt.show()\n"
   ]
  },
  {
   "cell_type": "code",
   "execution_count": 2,
   "id": "21d5de74",
   "metadata": {},
   "outputs": [
    {
     "data": {
      "image/png": "[encoded data removed]",
      "text/plain": [
       "<Figure size 432x288 with 1 Axes>"
      ]
     },
     "metadata": {
      "needs_background": "light"
     },
     "output_type": "display_data"
    }
   ],
   "source": [
    "import numpy as np\n",
    "from sklearn.linear_model import LinearRegression\n",
    "\n",
    "# Fit OLS model\n",
    "X = np.array(x).reshape(-1, 1)\n",
    "reg_ols = LinearRegression()\n",
    "reg_ols.fit(X, y)\n",
    "\n",
    "# Predict using OLS model\n",
    "y_pred_ols = reg_ols.predict(X)\n",
    "\n",
    "plt.scatter(x, y)\n",
    "plt.plot(x, y_pred_ols, color='r', label='OLS')\n",
    "plt.xlabel('x')\n",
    "plt.ylabel('y')\n",
    "plt.legend()\n",
    "plt.show()\n"
   ]
  },
  {
   "cell_type": "code",
   "execution_count": null,
   "id": "0566d3a6",
   "metadata": {},
   "outputs": [],
   "source": []
  },
  {
   "cell_type": "code",
   "execution_count": null,
   "id": "a4563efe",
   "metadata": {},
   "outputs": [],
   "source": []
  },
  {
   "cell_type": "markdown",
   "id": "6236bda5",
   "metadata": {},
   "source": [
    "### Q8. Discuss the limitations of regularized linear models and explain why they may not always be the best choice for regression analysis."
   ]
  },
  {
   "cell_type": "markdown",
   "id": "bceb594f",
   "metadata": {},
   "source": [
    "* Linear assumption: Regularized linear models assume a linear relationship between the predictors and the target variable. If the true relationship is highly nonlinear, regularized linear models may not capture the underlying patterns accurately, leading to suboptimal performance."
   ]
  },
  {
   "cell_type": "markdown",
   "id": "2e6f5654",
   "metadata": {},
   "source": [
    "* Feature interactions: Regularized linear models are based on additive effects, assuming that the predictors have independent and additive contributions to the target variable. However, in many real-world scenarios, there can be complex interactions and non-additive relationships between predictors, which linear models may fail to capture.\n",
    "\n",
    "* Feature engineering: Regularized linear models rely heavily on the choice of features. If the available features do not adequately represent the underlying patterns or important information is missing, the model's performance may suffer. Feature engineering and selection play a crucial role in the effectiveness of regularized linear models."
   ]
  },
  {
   "cell_type": "markdown",
   "id": "bbfacf42",
   "metadata": {},
   "source": [
    "* Sensitivity to outliers: While regularization can help mitigate the impact of outliers to some extent, regularized linear models can still be sensitive to extreme outliers. Outliers with large residuals can disproportionately influence the model's coefficients, potentially leading to biased predictions.\n",
    "    \n",
    "    * Hyperparameter tuning: Regularized linear models introduce additional hyperparameters (e.g., regularization parameter) that need to be tuned. "
   ]
  },
  {
   "cell_type": "markdown",
   "id": "cfd69ad3",
   "metadata": {},
   "source": [
    "* Scalability: Regularized linear models may face challenges when dealing with large-scale datasets, especially if the number of features is significantly larger than the number of samples. The computational cost of optimization can increase, making it less practical for big data problems."
   ]
  },
  {
   "cell_type": "markdown",
   "id": "18201b5b",
   "metadata": {},
   "source": [
    "### Q9. You are comparing the performance of two regression models using different evaluation metrics. Model A has an RMSE of 10, while Model B has an MAE of 8. Which model would you choose as the better performer, and why? Are there any limitations to your choice of metric?"
   ]
  },
  {
   "cell_type": "markdown",
   "id": "17bd2785",
   "metadata": {},
   "source": [
    "RMSE is a metric that measures the average magnitude of the residuals (prediction errors) in the same unit as the dependent variable. It is sensitive to larger errors due to the squaring of residuals. In this case, Model A has an RMSE of 10, indicating that, on average, its predictions deviate by 10 units from the actual values."
   ]
  },
  {
   "cell_type": "markdown",
   "id": "96b642d8",
   "metadata": {},
   "source": [
    "On the other hand, MAE measures the average absolute difference between the predicted and actual values. It is not influenced by the scale of the dependent variable and is less sensitive to outliers compared to RMSE. Model B has an MAE of 8, implying that, on average, its predictions deviate by 8 units from the actual values."
   ]
  },
  {
   "cell_type": "markdown",
   "id": "45ea1d10",
   "metadata": {},
   "source": [
    "Considering these metrics, we can infer that Model B (with the lower MAE of 8) performs better than Model A (with the higher RMSE of 10) in terms of the average magnitude of prediction errors. Model B has, on average, smaller absolute errors compared to Model A."
   ]
  },
  {
   "cell_type": "markdown",
   "id": "ad09ea4b",
   "metadata": {},
   "source": [
    "### Q10. You are comparing the performance of two regularized linear models using different types of regularization. Model A uses Ridge regularization with a regularization parameter of 0.1, while Model B uses Lasso regularization with a regularization parameter of 0.5. Which model would you choose as the better performer, and why? Are there any trade-offs or limitations to your choice of regularization method?"
   ]
  },
  {
   "cell_type": "markdown",
   "id": "72a61ee9",
   "metadata": {},
   "source": [
    "Comparing the performance of two regularized linear models using different types of regularization, Model A with Ridge regularization (α=0.1) and Model B with Lasso regularization (α=0.5), involves considering the characteristics of each regularization method and the specific goals of the analysis.\n",
    "\n",
    "Ridge regularization adds a penalty term that is proportional to the sum of squared coefficients (L2 norm) to the loss function being optimized. It encourages smaller coefficients and reduces the impact of less important features while maintaining all features in the model."
   ]
  },
  {
   "cell_type": "markdown",
   "id": "3f6deac8",
   "metadata": {},
   "source": [
    "Lasso regularization, on the other hand, adds a penalty term proportional to the sum of the absolute values of the coefficients (L1 norm) to the loss function. Lasso regularization encourages sparse solutions by driving some coefficients exactly to zero, effectively performing feature selection."
   ]
  },
  {
   "cell_type": "markdown",
   "id": "e606bffc",
   "metadata": {},
   "source": [
    "In summary, the choice between Model A with Ridge regularization and Model B with Lasso regularization depends on the specific goals of the analysis. Ridge regularization maintains all features while reducing their magnitudes, whereas Lasso regularization performs feature selection by driving some coefficients to zero. Considering the trade-offs and limitations of each regularization method is essential in selecting the better performer based on the specific requirements of the problem."
   ]
  },
  {
   "cell_type": "markdown",
   "id": "328423c5",
   "metadata": {},
   "source": [
    "## THANK YOU"
   ]
  },
  {
   "cell_type": "code",
   "execution_count": null,
   "id": "453fd022",
   "metadata": {},
   "outputs": [],
   "source": []
  }
 ],
 "metadata": {
  "kernelspec": {
   "display_name": "Python 3 (ipykernel)",
   "language": "python",
   "name": "python3"
  },
  "language_info": {
   "codemirror_mode": {
    "name": "ipython",
    "version": 3
   },
   "file_extension": ".py",
   "mimetype": "text/x-python",
   "name": "python",
   "nbconvert_exporter": "python",
   "pygments_lexer": "ipython3",
   "version": "3.9.12"
  }
 },
 "nbformat": 4,
 "nbformat_minor": 5
}
