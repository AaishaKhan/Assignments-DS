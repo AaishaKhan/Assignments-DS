{
 "cells": [
  {
   "cell_type": "markdown",
   "id": "c3358292",
   "metadata": {},
   "source": [
    "# 23rd Feb assignment 2023"
   ]
  },
  {
   "cell_type": "markdown",
   "id": "74279ebd",
   "metadata": {},
   "source": [
    "# Pandas basic\n"
   ]
  },
  {
   "cell_type": "code",
   "execution_count": 1,
   "id": "19b053f1",
   "metadata": {},
   "outputs": [],
   "source": [
    "import pandas as pd"
   ]
  },
  {
   "cell_type": "markdown",
   "id": "5178ef7a",
   "metadata": {},
   "source": [
    "### Q1. Create a Pandas Series that contains the following data: 4, 8, 15, 16, 23, and 42. Then, print the series"
   ]
  },
  {
   "cell_type": "code",
   "execution_count": 2,
   "id": "81faf064",
   "metadata": {},
   "outputs": [
    {
     "name": "stdout",
     "output_type": "stream",
     "text": [
      "0     4\n",
      "1     8\n",
      "2    15\n",
      "3    16\n",
      "4    23\n",
      "5    42\n",
      "dtype: int64\n"
     ]
    }
   ],
   "source": [
    "a = [4,8,15,16,23,42]\n",
    "df = pd.Series(a)   \n",
    "print(df)"
   ]
  },
  {
   "cell_type": "markdown",
   "id": "c8439c82",
   "metadata": {},
   "source": [
    "### Q2. Create a variable of list type containing 10 elements in it, and apply pandas.Series function on the variable print it."
   ]
  },
  {
   "cell_type": "code",
   "execution_count": 4,
   "id": "87abeef3",
   "metadata": {},
   "outputs": [
    {
     "name": "stdout",
     "output_type": "stream",
     "text": [
      "0    a\n",
      "1    b\n",
      "2    c\n",
      "3    d\n",
      "4    e\n",
      "5    f\n",
      "6    g\n",
      "7    h\n",
      "8    i\n",
      "9    j\n",
      "dtype: object\n"
     ]
    }
   ],
   "source": [
    "list1 = ['a','b','c','d','e','f','g','h','i','j'] #create a list containing 10 elements so i take alphabetes\n",
    "#list can cantains bool/float/str\n",
    "df1 = pd.Series(list1)\n",
    "print(df1)"
   ]
  },
  {
   "cell_type": "markdown",
   "id": "752d7af6",
   "metadata": {},
   "source": [
    "### Q3. Create a Pandas DataFrame that contains the following data:"
   ]
  },
  {
   "cell_type": "code",
   "execution_count": 5,
   "id": "ccc3575a",
   "metadata": {},
   "outputs": [
    {
     "name": "stdout",
     "output_type": "stream",
     "text": [
      "     Name  Age  Gender\n",
      "0   Alice   25  Female\n",
      "1     Bob   30    Male\n",
      "2  Claire   27  Female\n"
     ]
    }
   ],
   "source": [
    "table = {\"Name\": [\"Alice\", \"Bob\", \"Claire\"],\n",
    "      \"Age\" : [25,30,27],\n",
    "      \"Gender\" : [\"Female\",\"Male\",\"Female\"]}\n",
    "df2 = pd.DataFrame(table) #calling dataframe in-built function for creating table\n",
    "#now print \n",
    "print(df2)"
   ]
  },
  {
   "cell_type": "markdown",
   "id": "e1f0ef3f",
   "metadata": {},
   "source": [
    "### Q4. What is ‘DataFrame’ in pandas and how is it different from pandas.series? Explain with an example"
   ]
  },
  {
   "cell_type": "markdown",
   "id": "0b3f6697",
   "metadata": {},
   "source": [
    "*A pandas series is a one-dimensional data structure that comprises of key-value pair, where keys/labels are the indices and values are the values stored on that index. It is similar to a python dictionary, except it provides more freedom to manipulate and edit the data."
   ]
  },
  {
   "cell_type": "code",
   "execution_count": 7,
   "id": "f334d8b6",
   "metadata": {},
   "outputs": [
    {
     "name": "stdout",
     "output_type": "stream",
     "text": [
      "Fruit series:\n",
      "0     apples\n",
      "1    oranges\n",
      "2    bananas\n",
      "Name: fruit_series, dtype: object\n"
     ]
    }
   ],
   "source": [
    "#for example of series\n",
    "\n",
    "fruit = pd.Series([\"apples\", \"oranges\", \"bananas\"], name = \"fruit_series\")\n",
    "\n",
    "print(\"Fruit series:\")\n",
    "print(fruit)"
   ]
  },
  {
   "cell_type": "markdown",
   "id": "9c1c0b53",
   "metadata": {},
   "source": [
    "*A pandas DataFrame is a two-dimensional data structure that can be thought of as a spreadsheet. It can also be thought of as a collection of two or more series with common indices."
   ]
  },
  {
   "cell_type": "code",
   "execution_count": 9,
   "id": "0b3bdfa8",
   "metadata": {},
   "outputs": [
    {
     "name": "stdout",
     "output_type": "stream",
     "text": [
      "Dataframe with default indices:\n",
      "         ash's         mate's\n",
      "0  Watermelon  custard apple\n",
      "1   Raspberry      Tangerine\n",
      "2       berry    Pomegranate \n",
      "\n"
     ]
    }
   ],
   "source": [
    "# for example of dataframe\n",
    "import pandas as pd\n",
    "\n",
    "##### INITIALIZATION #####\n",
    "\n",
    "fruit_ash = [\"Watermelon\", \"Raspberry\", \"berry\"]\n",
    "fruit_mate = [\"custard apple\", \"Tangerine\", \"Pomegranate\"]\n",
    "index = [\"a\", \"b\", \"c\"]\n",
    "all_fruits = {\"ash's\": fruit_ash, \"mate's\": fruit_mate}\n",
    "\n",
    "fruits_default_index = pd.DataFrame(all_fruits)\n",
    "print(\"Dataframe with default indices:\\n\", fruits_default_index, \"\\n\")\n"
   ]
  },
  {
   "cell_type": "markdown",
   "id": "80c58fbf",
   "metadata": {},
   "source": [
    "### Q5. What are some common functions you can use to manipulate data in a Pandas DataFrame? Can you give an example of when you might use one of these functions?"
   ]
  },
  {
   "cell_type": "markdown",
   "id": "114889bb",
   "metadata": {},
   "source": [
    "* df.shape: returns the dimensions of the DataFrame (number of rows and columns).\n",
    " Example: Suppose you have a DataFrame with information about a population, and you want to know how many people are in the dataset. You can use df.shape[0] to get the number of rows.\n",
    "\n",
    "* df.info(): provides information about the DataFrame such as data types and missing values.\n",
    "Example: Suppose you have a DataFrame with data about a company's sales, and you want to know if there are any missing values in the data. You can use df.info() to get this information."
   ]
  },
  {
   "cell_type": "code",
   "execution_count": 12,
   "id": "f2ede78b",
   "metadata": {},
   "outputs": [
    {
     "name": "stdout",
     "output_type": "stream",
     "text": [
      "(6,)\n",
      "count     10\n",
      "unique    10\n",
      "top        a\n",
      "freq       1\n",
      "dtype: object\n"
     ]
    }
   ],
   "source": [
    "print(df.shape)\n",
    "# from above table\n",
    "print(df1.describe())"
   ]
  },
  {
   "cell_type": "code",
   "execution_count": 13,
   "id": "5ac1dccd",
   "metadata": {},
   "outputs": [
    {
     "name": "stdout",
     "output_type": "stream",
     "text": [
      "<class 'pandas.core.series.Series'>\n",
      "RangeIndex: 10 entries, 0 to 9\n",
      "Series name: None\n",
      "Non-Null Count  Dtype \n",
      "--------------  ----- \n",
      "10 non-null     object\n",
      "dtypes: object(1)\n",
      "memory usage: 208.0+ bytes\n",
      "None\n"
     ]
    }
   ],
   "source": [
    "print(df1.info())"
   ]
  },
  {
   "cell_type": "markdown",
   "id": "73abcc7a",
   "metadata": {},
   "source": [
    "* df.head(n): returns the first n rows of the DataFrame.\n",
    "Example: Suppose you have a DataFrame with information about a company's employees, and you want to see the first five rows of the DataFrame. You can use df.head(5) to do this.\n",
    "\n",
    "* df.tail(n): returns the last n rows of the DataFrame.\n",
    "Example: Suppose you have a DataFrame with stock price data for a particular stock, and you want to see the last ten rows of the DataFrame. You can use df.tail(10) to do this."
   ]
  },
  {
   "cell_type": "markdown",
   "id": "c4745a1d",
   "metadata": {},
   "source": [
    "### Q6. Which of the following is mutable in nature Series, DataFrame, Panel?"
   ]
  },
  {
   "cell_type": "markdown",
   "id": "d5eb9862",
   "metadata": {},
   "source": [
    "* In Pandas, both Series and DataFrame are mutable in nature, meaning that you can modify their contents after they are created. However, Panel is not mutable in nature, meaning that once it is created, its contents cannot be changed directly. Instead, you can create a new Panel with the desired modifications.\n",
    "\n",
    "* In general, it is good practice to avoid modifying the contents of a Series or DataFrame directly and instead create a new Series or DataFrame with the desired modifications."
   ]
  },
  {
   "cell_type": "markdown",
   "id": "01c163fd",
   "metadata": {},
   "source": [
    "### Q7. Create a DataFrame using multiple Series. Explain with an example."
   ]
  },
  {
   "cell_type": "code",
   "execution_count": 15,
   "id": "2fd210d5",
   "metadata": {},
   "outputs": [],
   "source": [
    "names = pd.Series(['Ash', 'mate', 'sam', 'joy', 'mus'])\n",
    "salaries = pd.Series([50000, 60000, 75000, 90000, 55000])\n",
    "#if we have to series or multiple we can just combine them by using dataframe() function\n",
    "df3 = pd.DataFrame({'Name': names, 'Salary': salaries})\n"
   ]
  },
  {
   "cell_type": "code",
   "execution_count": 16,
   "id": "afc74df7",
   "metadata": {},
   "outputs": [
    {
     "data": {
      "text/html": [
       "<div>\n",
       "<style scoped>\n",
       "    .dataframe tbody tr th:only-of-type {\n",
       "        vertical-align: middle;\n",
       "    }\n",
       "\n",
       "    .dataframe tbody tr th {\n",
       "        vertical-align: top;\n",
       "    }\n",
       "\n",
       "    .dataframe thead th {\n",
       "        text-align: right;\n",
       "    }\n",
       "</style>\n",
       "<table border=\"1\" class=\"dataframe\">\n",
       "  <thead>\n",
       "    <tr style=\"text-align: right;\">\n",
       "      <th></th>\n",
       "      <th>Name</th>\n",
       "      <th>Salary</th>\n",
       "    </tr>\n",
       "  </thead>\n",
       "  <tbody>\n",
       "    <tr>\n",
       "      <th>0</th>\n",
       "      <td>Ash</td>\n",
       "      <td>50000</td>\n",
       "    </tr>\n",
       "    <tr>\n",
       "      <th>1</th>\n",
       "      <td>mate</td>\n",
       "      <td>60000</td>\n",
       "    </tr>\n",
       "    <tr>\n",
       "      <th>2</th>\n",
       "      <td>sam</td>\n",
       "      <td>75000</td>\n",
       "    </tr>\n",
       "    <tr>\n",
       "      <th>3</th>\n",
       "      <td>joy</td>\n",
       "      <td>90000</td>\n",
       "    </tr>\n",
       "    <tr>\n",
       "      <th>4</th>\n",
       "      <td>mus</td>\n",
       "      <td>55000</td>\n",
       "    </tr>\n",
       "  </tbody>\n",
       "</table>\n",
       "</div>"
      ],
      "text/plain": [
       "   Name  Salary\n",
       "0   Ash   50000\n",
       "1  mate   60000\n",
       "2   sam   75000\n",
       "3   joy   90000\n",
       "4   mus   55000"
      ]
     },
     "execution_count": 16,
     "metadata": {},
     "output_type": "execute_result"
    }
   ],
   "source": [
    "df3"
   ]
  }
 ],
 "metadata": {
  "kernelspec": {
   "display_name": "Python 3 (ipykernel)",
   "language": "python",
   "name": "python3"
  },
  "language_info": {
   "codemirror_mode": {
    "name": "ipython",
    "version": 3
   },
   "file_extension": ".py",
   "mimetype": "text/x-python",
   "name": "python",
   "nbconvert_exporter": "python",
   "pygments_lexer": "ipython3",
   "version": "3.9.12"
  }
 },
 "nbformat": 4,
 "nbformat_minor": 5
}
