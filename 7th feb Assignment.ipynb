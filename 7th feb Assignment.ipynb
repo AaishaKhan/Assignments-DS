{
 "cells": [
  {
   "cell_type": "markdown",
   "id": "dbbda333",
   "metadata": {},
   "source": [
    "# 7th Feb Assignement 2023"
   ]
  },
  {
   "cell_type": "markdown",
   "id": "1f9f1f6f",
   "metadata": {},
   "source": [
    "#### Q1. You are writing code for a company. The requirement of the company is that you create a python function that will check whether the password entered by the user is correct or not. The function should take the password as input and return the string “Valid Password” if the entered password follows the below-given password guidelines else it should return “Invalid Password”.\n",
    "\n",
    "\n",
    "Note: 1. The Password should contain at least two uppercase letters and at least two lowercase letters.\n",
    "\n",
    "2. The Password should contain at least a number and three special characters.\n",
    "\n",
    "3. The length of the password should be 10 characters long"
   ]
  },
  {
   "cell_type": "code",
   "execution_count": 1,
   "id": "3647afe2",
   "metadata": {},
   "outputs": [],
   "source": [
    "import re\n",
    "\n",
    "def validate_password(password):\n",
    "    # Check if password meets all requirements\n",
    "    if (len(password) == 10 and\n",
    "        re.search(r'[a-z].*[a-z]', password) and\n",
    "        re.search(r'[A-Z].*[A-Z]', password) and\n",
    "        re.search(r'\\d', password) and\n",
    "        re.search(r'[!@#$%^&*()_+}{\":?><,./;\\'\\[\\]]{3,}', password)):\n",
    "        return \"Valid Password\"\n",
    "    else:\n",
    "        return \"Invalid Password\"\n"
   ]
  },
  {
   "cell_type": "code",
   "execution_count": 2,
   "id": "3073a909",
   "metadata": {},
   "outputs": [
    {
     "name": "stdout",
     "output_type": "stream",
     "text": [
      "Invalid Password\n"
     ]
    }
   ],
   "source": [
    "password = \"MyPassw0rd!!!\"\n",
    "result = validate_password(password)\n",
    "print(result)  # Output: Valid Password\n"
   ]
  },
  {
   "cell_type": "markdown",
   "id": "dc508ebb",
   "metadata": {},
   "source": [
    "#### Q2. Solve the below-given questions using at least one of the following: \n",
    "\n",
    "* 1. Lambda function\n",
    "* 2. Filter function\n",
    "* 3. Zap function\n",
    "* 4. List Comprehension\n",
    "B Check if the string starts with a particular letterY\n",
    "B Check if the string is numericY\n",
    "B Sort a list of tuples having fruit names and their quantity. [(\"mango\",99),(\"orange\",80), (\"grapes\", 1000)-\n",
    "B Find the squares of numbers from 1 to 10\n",
    "B Find the cube root of numbers from 1 to 10\n",
    "B Check if a given number is even\n",
    "B Filter odd numbers from the given list.\n",
    "\n",
    " [1,2,3,4,5,6,7,8,9,10-\n",
    "B Sort a list of integers into positive and negative integers lists.\n",
    "\n",
    " [1,2,3,4,5,6,-1,-2,-3,-4,-5,0]"
   ]
  },
  {
   "cell_type": "code",
   "execution_count": null,
   "id": "ad215baf",
   "metadata": {},
   "outputs": [],
   "source": [
    "#Check if the string starts with a particular letter"
   ]
  },
  {
   "cell_type": "code",
   "execution_count": 3,
   "id": "650a8d70",
   "metadata": {},
   "outputs": [
    {
     "name": "stdout",
     "output_type": "stream",
     "text": [
      "['banana']\n",
      "['banana']\n"
     ]
    }
   ],
   "source": [
    "# Using filter function\n",
    "string_list = [\"apple\", \"banana\", \"cherry\", \"durian\"]\n",
    "letter = \"b\"\n",
    "result = list(filter(lambda x: x.startswith(letter), string_list))\n",
    "print(result)  # Output: ['banana']\n",
    "\n",
    "# Using list comprehension\n",
    "string_list = [\"apple\", \"banana\", \"cherry\", \"durian\"]\n",
    "letter = \"b\"\n",
    "result = [x for x in string_list if x.startswith(letter)]\n",
    "print(result)  # Output: ['banana']\n"
   ]
  },
  {
   "cell_type": "code",
   "execution_count": null,
   "id": "9baffbfb",
   "metadata": {},
   "outputs": [],
   "source": [
    "#Check if the string is numeric"
   ]
  },
  {
   "cell_type": "code",
   "execution_count": 4,
   "id": "9735bc9d",
   "metadata": {},
   "outputs": [
    {
     "name": "stdout",
     "output_type": "stream",
     "text": [
      "['123', '456', '789']\n",
      "['123', '456', '789']\n"
     ]
    }
   ],
   "source": [
    "# Using filter function\n",
    "string_list = [\"123\", \"abc\", \"456\", \"789\", \"xyz\"]\n",
    "result = list(filter(lambda x: x.isnumeric(), string_list))\n",
    "print(result)  # Output: ['123', '456', '789']\n",
    "\n",
    "# Using list comprehension\n",
    "string_list = [\"123\", \"abc\", \"456\", \"789\", \"xyz\"]\n",
    "result = [x for x in string_list if x.isnumeric()]\n",
    "print(result)  # Output: ['123', '456', '789']\n"
   ]
  },
  {
   "cell_type": "code",
   "execution_count": null,
   "id": "36486c25",
   "metadata": {},
   "outputs": [],
   "source": [
    "#Sort a list of tuples having fruit names and their quantity:"
   ]
  },
  {
   "cell_type": "code",
   "execution_count": 5,
   "id": "b6578f74",
   "metadata": {},
   "outputs": [
    {
     "name": "stdout",
     "output_type": "stream",
     "text": [
      "[('orange', 80), ('mango', 99), ('grapes', 1000)]\n",
      "[('orange', 80), ('mango', 99), ('grapes', 1000)]\n"
     ]
    }
   ],
   "source": [
    "# Using lambda function\n",
    "fruits = [(\"mango\",99),(\"orange\",80), (\"grapes\", 1000)]\n",
    "sorted_fruits = sorted(fruits, key=lambda x: x[1])\n",
    "print(sorted_fruits)  # Output: [('orange', 80), ('mango', 99), ('grapes', 1000)]\n",
    "\n",
    "# Using itemgetter function from operator module\n",
    "from operator import itemgetter\n",
    "fruits = [(\"mango\",99),(\"orange\",80), (\"grapes\", 1000)]\n",
    "sorted_fruits = sorted(fruits, key=itemgetter(1))\n",
    "print(sorted_fruits)  # Output: [('orange', 80), ('mango', 99), ('grapes', 1000)]\n"
   ]
  },
  {
   "cell_type": "code",
   "execution_count": null,
   "id": "cbf56d67",
   "metadata": {},
   "outputs": [],
   "source": [
    "#Find the squares of numbers from 1 to 10:"
   ]
  },
  {
   "cell_type": "code",
   "execution_count": 6,
   "id": "826097ec",
   "metadata": {},
   "outputs": [
    {
     "name": "stdout",
     "output_type": "stream",
     "text": [
      "[1, 4, 9, 16, 25, 36, 49, 64, 81, 100]\n",
      "[1, 4, 9, 16, 25, 36, 49, 64, 81, 100]\n"
     ]
    }
   ],
   "source": [
    "# Using lambda function and map function\n",
    "numbers = list(range(1, 11))\n",
    "squares = list(map(lambda x: x**2, numbers))\n",
    "print(squares)  # Output: [1, 4, 9, 16, 25, 36, 49, 64, 81, 100]\n",
    "\n",
    "# Using list comprehension\n",
    "numbers = list(range(1, 11))\n",
    "squares = [x**2 for x in numbers]\n",
    "print(squares)  # Output: [1, 4, 9, 16, 25, 36, 49, 64, 81, 100]\n"
   ]
  },
  {
   "cell_type": "code",
   "execution_count": null,
   "id": "dc9e01a3",
   "metadata": {},
   "outputs": [],
   "source": [
    "#Find the cube root of numbers from 1 to 10"
   ]
  },
  {
   "cell_type": "code",
   "execution_count": 7,
   "id": "aa8abcf6",
   "metadata": {},
   "outputs": [
    {
     "name": "stdout",
     "output_type": "stream",
     "text": [
      "[1.0, 1.2599210498948732, 1.4422495703074083, 1.5874010519681994, 1.7099759466766968, 1.8171205928321397, 1.912931182772389, 2.0, 2.080083823051904, 2.154434690031884]\n"
     ]
    },
    {
     "data": {
      "text/plain": [
       "<function print>"
      ]
     },
     "execution_count": 7,
     "metadata": {},
     "output_type": "execute_result"
    }
   ],
   "source": [
    "# Using lambda function and map function\n",
    "numbers = list(range(1, 11))\n",
    "cube_roots = list(map(lambda x: x**(1/3), numbers))\n",
    "print(cube_roots)  # Output: [1.0, 1.2599210498948732, 1.4422495703074083, 1.5874010519681994, 1.7099759466766968, 1.8171205928321397, 1.912931182772389, 2.0, 2.080083823051904, 2.154434690031884]\n",
    "\n",
    "# Using list comprehension\n",
    "numbers = list(range(1, 11))\n",
    "cube_roots = [x**(1/3) for x in numbers]\n",
    "print\n"
   ]
  },
  {
   "cell_type": "markdown",
   "id": "eccd3db6",
   "metadata": {},
   "source": [
    "## Thank You"
   ]
  }
 ],
 "metadata": {
  "kernelspec": {
   "display_name": "Python 3 (ipykernel)",
   "language": "python",
   "name": "python3"
  },
  "language_info": {
   "codemirror_mode": {
    "name": "ipython",
    "version": 3
   },
   "file_extension": ".py",
   "mimetype": "text/x-python",
   "name": "python",
   "nbconvert_exporter": "python",
   "pygments_lexer": "ipython3",
   "version": "3.9.12"
  }
 },
 "nbformat": 4,
 "nbformat_minor": 5
}
