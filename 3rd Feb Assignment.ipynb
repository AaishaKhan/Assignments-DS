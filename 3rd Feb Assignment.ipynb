{
 "cells": [
  {
   "cell_type": "markdown",
   "id": "b5264de3",
   "metadata": {},
   "source": [
    "# 3rd Feb 2023 Assignment!!"
   ]
  },
  {
   "cell_type": "markdown",
   "id": "756d23fa",
   "metadata": {},
   "source": [
    "### Q1.Which keyword is used to create a function? Create a function to return a list of odd numbers in the range of 1 to 25."
   ]
  },
  {
   "cell_type": "code",
   "execution_count": 1,
   "id": "de777f54",
   "metadata": {},
   "outputs": [
    {
     "data": {
      "text/plain": [
       "[1, 3, 5, 7, 9, 11, 13, 15, 17, 19, 21, 23, 25]"
      ]
     },
     "execution_count": 1,
     "metadata": {},
     "output_type": "execute_result"
    }
   ],
   "source": [
    "l = range(1,26)\n",
    "[i for i in l if i % 2 !=0 ]"
   ]
  },
  {
   "cell_type": "markdown",
   "id": "26d90072",
   "metadata": {},
   "source": [
    "### Q2. Why *args and **kwargs is used in some functions? Create a function each for *args and **kwargs to demonstrate their use."
   ]
  },
  {
   "cell_type": "code",
   "execution_count": null,
   "id": "5db42ee6",
   "metadata": {},
   "outputs": [],
   "source": [
    "* args is used to pass a variable number of non-keyworded arguments to a function. These arguments are collected into a tuple. **kwargs is used to pass a variable number of keyworded arguments to a function. These arguments are collected into a dictionary."
   ]
  },
  {
   "cell_type": "code",
   "execution_count": 16,
   "id": "ede12168",
   "metadata": {},
   "outputs": [
    {
     "name": "stdout",
     "output_type": "stream",
     "text": [
      "the sum of all number :  81\n"
     ]
    }
   ],
   "source": [
    "#args This function accepts any number of arguments and adds them all together. \n",
    "\n",
    "def add(*args):\n",
    "    calculate = 0\n",
    "    for num in args:\n",
    "        calculate += num\n",
    "    return calculate\n",
    "print(\"the sum of all number : \" ,add(23,45,6,7))"
   ]
  },
  {
   "cell_type": "code",
   "execution_count": 17,
   "id": "52d18a34",
   "metadata": {},
   "outputs": [
    {
     "name": "stdout",
     "output_type": "stream",
     "text": [
      "n: ash\n",
      "designation: student\n",
      "passout: 2022\n",
      "subject: ['Bio', 'physics', 'chemistry']\n",
      "n: harpreet\n",
      "designation: Doctor\n",
      "passout: 2018\n",
      "subject: ['anatomy', 'biochem', 'genetics']\n"
     ]
    }
   ],
   "source": [
    "#kwargs This function accepts any number of keyword arguments and prints them out.\n",
    "def demo(**kwargs):\n",
    "    for key, value in kwargs.items():\n",
    "        print(f\"{key}: {value}\")\n",
    "\n",
    "demo(n ='ash', designation ='student', passout = 2022, subject = ['Bio','physics','chemistry'])\n",
    "demo(n= 'harpreet', designation = 'Doctor', passout = 2018, subject = ['anatomy','biochem','genetics'])\n"
   ]
  },
  {
   "cell_type": "markdown",
   "id": "696d1aee",
   "metadata": {},
   "source": [
    "### Q3.  What is an iterator in python? Name the method used to initialise the iterator object and the method used for iteration. Use these methods to print the first five elements of the given list [2, 4, 6, 8, 10, 12, 14,16, 18, 20]."
   ]
  },
  {
   "cell_type": "markdown",
   "id": "65f6af88",
   "metadata": {},
   "source": [
    "In python,an iterator is an object that allows you to iterate over a collection of items. An iterator must implement two methods: __iter__() and __next__(). The __iter__() method is used to initialize the iterator object, and the __next__() method is used to retrieve the next item in the collection."
   ]
  },
  {
   "cell_type": "code",
   "execution_count": 18,
   "id": "d961d024",
   "metadata": {},
   "outputs": [
    {
     "name": "stdout",
     "output_type": "stream",
     "text": [
      "2\n",
      "4\n",
      "6\n",
      "8\n",
      "10\n"
     ]
    }
   ],
   "source": [
    "l = [2, 4, 6, 8, 10, 12, 14, 16, 18, 20]\n",
    "\n",
    "# initialize the iterator object\n",
    "l_iter = iter(l)\n",
    "\n",
    "# iterate over the first five elements using the next() function\n",
    "for i in range(5):\n",
    "    print(next(l_iter))\n"
   ]
  },
  {
   "cell_type": "markdown",
   "id": "e3588ab0",
   "metadata": {},
   "source": [
    "### Q4.  What is a generator function in python? Why yield keyword is used? Give an example of a generator function."
   ]
  },
  {
   "cell_type": "markdown",
   "id": "8e476f00",
   "metadata": {},
   "source": [
    "A generator function is defined like a regular function, but instead of using the return keyword to return a value, it uses the yield keyword. When a generator function is called, it returns a generator object, which can be used to iterate over the series of values produced by the generator function."
   ]
  },
  {
   "cell_type": "markdown",
   "id": "9a783a28",
   "metadata": {},
   "source": [
    "* The yield keyword is used to specify the value that the generator should \"yield\" or produce as the next value in the sequence. When the yield statement is executed, the generator function is paused, and the value is returned to the caller. The next time the generator is called, execution resumes immediately after the yield statement, and the generator continues producing the next value in the sequence."
   ]
  },
  {
   "cell_type": "code",
   "execution_count": 22,
   "id": "ec3b0c25",
   "metadata": {},
   "outputs": [],
   "source": [
    "def test_fib1():\n",
    "    a,b = 0,1\n",
    "    while True:\n",
    "        yield a \n",
    "        a,b = b , a+b"
   ]
  },
  {
   "cell_type": "code",
   "execution_count": 23,
   "id": "6c70a1a0",
   "metadata": {},
   "outputs": [],
   "source": [
    "fib = test_fib1()"
   ]
  },
  {
   "cell_type": "code",
   "execution_count": 24,
   "id": "b236d6fd",
   "metadata": {},
   "outputs": [
    {
     "data": {
      "text/plain": [
       "generator"
      ]
     },
     "execution_count": 24,
     "metadata": {},
     "output_type": "execute_result"
    }
   ],
   "source": [
    "type(fib)"
   ]
  },
  {
   "cell_type": "code",
   "execution_count": 25,
   "id": "4b0aa46e",
   "metadata": {},
   "outputs": [
    {
     "name": "stdout",
     "output_type": "stream",
     "text": [
      "0\n",
      "1\n",
      "1\n",
      "2\n",
      "3\n",
      "5\n",
      "8\n",
      "13\n",
      "21\n",
      "34\n"
     ]
    }
   ],
   "source": [
    "for i in range(10):\n",
    "    print(next(fib))"
   ]
  },
  {
   "cell_type": "markdown",
   "id": "35bb438b",
   "metadata": {},
   "source": [
    "### Q5. Create a generator function for prime numbers less than 1000. Use the next() method to print the first 20 prime numbers."
   ]
  },
  {
   "cell_type": "markdown",
   "id": "a6b624e3",
   "metadata": {},
   "source": [
    "This generator function generates prime numbers using a simple algorithm that checks if each number is divisible by any integer between 2 and the square root of the number. If no such integer exists, the number is considered prime and is yielded by the generator."
   ]
  },
  {
   "cell_type": "code",
   "execution_count": 26,
   "id": "b2278437",
   "metadata": {},
   "outputs": [],
   "source": [
    "def primes():\n",
    "    number = 2\n",
    "    while number < 1000:\n",
    "        if all(number % i != 0 for i in range(2, int(number ** 0.5) + 1)):\n",
    "            yield number\n",
    "        number += 1\n"
   ]
  },
  {
   "cell_type": "code",
   "execution_count": 27,
   "id": "1279b8f5",
   "metadata": {},
   "outputs": [
    {
     "name": "stdout",
     "output_type": "stream",
     "text": [
      "2\n",
      "3\n",
      "5\n",
      "7\n",
      "11\n",
      "13\n",
      "17\n",
      "19\n",
      "23\n",
      "29\n",
      "31\n",
      "37\n",
      "41\n",
      "43\n",
      "47\n",
      "53\n",
      "59\n",
      "61\n",
      "67\n",
      "71\n"
     ]
    }
   ],
   "source": [
    "prime_gen = primes()\n",
    "for i in range(20):\n",
    "    print(next(prime_gen))\n"
   ]
  },
  {
   "cell_type": "markdown",
   "id": "f0f0d233",
   "metadata": {},
   "source": [
    "### Q6. Write a python program to print the first 10 Fibonacci numbers using a while loop."
   ]
  },
  {
   "cell_type": "markdown",
   "id": "5bd37622",
   "metadata": {},
   "source": [
    "This program initializes the first two numbers in the Fibonacci sequence to 0 and 1, and then uses a while loop to print the first 10 numbers in the sequence. Inside the loop, the program prints the current value of a, updates a and b to be the next pair of numbers in the sequence, and increments the count variable to keep track of how many numbers have been printed. The loop continues until count reaches 10, at which point the program terminates."
   ]
  },
  {
   "cell_type": "code",
   "execution_count": 28,
   "id": "3dc06a8a",
   "metadata": {},
   "outputs": [
    {
     "name": "stdout",
     "output_type": "stream",
     "text": [
      "0\n",
      "1\n",
      "1\n",
      "2\n",
      "3\n",
      "5\n",
      "8\n",
      "13\n",
      "21\n",
      "34\n"
     ]
    }
   ],
   "source": [
    "# initialize the first two numbers in the sequence\n",
    "a, b = 0, 1\n",
    "\n",
    "# print the first 10 Fibonacci numbers\n",
    "count = 0\n",
    "while count < 10:\n",
    "    print(a)\n",
    "    a, b = b, a + b\n",
    "    count += 1\n"
   ]
  },
  {
   "cell_type": "markdown",
   "id": "73e74989",
   "metadata": {},
   "source": [
    "### Q7.Write a List Comprehension to iterate through the given string: ‘pwskills’. Expected output: ['p', 'w', 's', 'k', 'i', 'l', 'l', 's']"
   ]
  },
  {
   "cell_type": "code",
   "execution_count": 29,
   "id": "a53a37a4",
   "metadata": {},
   "outputs": [],
   "source": [
    " l = 'pwskills'"
   ]
  },
  {
   "cell_type": "code",
   "execution_count": 30,
   "id": "cbf34a07",
   "metadata": {},
   "outputs": [
    {
     "data": {
      "text/plain": [
       "['p', 'w', 's', 'k', 'i', 'l', 'l', 's']"
      ]
     },
     "execution_count": 30,
     "metadata": {},
     "output_type": "execute_result"
    }
   ],
   "source": [
    "[i for i in l]"
   ]
  },
  {
   "cell_type": "markdown",
   "id": "b532b8d3",
   "metadata": {},
   "source": [
    "### Q8.Write a python program to check whether a given number is Palindrome or not using a while loop"
   ]
  },
  {
   "cell_type": "code",
   "execution_count": 31,
   "id": "4026006f",
   "metadata": {},
   "outputs": [
    {
     "name": "stdout",
     "output_type": "stream",
     "text": [
      "Enter a number: 1212\n",
      "The number is not a palindrome.\n"
     ]
    }
   ],
   "source": [
    "# get the number from the user\n",
    "num = input(\"Enter a number: \")\n",
    "\n",
    "# initialize variables for the original and reversed numbers\n",
    "original_num, reversed_num = num, \"\"\n",
    "\n",
    "# reverse the number using a while loop\n",
    "i = len(num) - 1\n",
    "while i >= 0:\n",
    "    reversed_num += num[i]\n",
    "    i -= 1\n",
    "\n",
    "# check if the original and reversed numbers are equal\n",
    "if original_num == reversed_num:\n",
    "    print(\"The number is a palindrome!\")\n",
    "else:\n",
    "    print(\"The number is not a palindrome.\")\n"
   ]
  },
  {
   "cell_type": "markdown",
   "id": "6775f903",
   "metadata": {},
   "source": [
    "### Q9. Write a code to print odd numbers from 1 to 100 using list comprehension.\n",
    "\n",
    "* Note: Use a list comprehension to create a list from 1 to 100 and use another List comprehension to filter out odd numbers."
   ]
  },
  {
   "cell_type": "code",
   "execution_count": 32,
   "id": "202865e4",
   "metadata": {},
   "outputs": [],
   "source": [
    "l = range(1,101)"
   ]
  },
  {
   "cell_type": "code",
   "execution_count": 37,
   "id": "135b6573",
   "metadata": {},
   "outputs": [
    {
     "name": "stdout",
     "output_type": "stream",
     "text": [
      "[1, 3, 5, 7, 9, 11, 13, 15, 17, 19, 21, 23, 25, 27, 29, 31, 33, 35, 37, 39, 41, 43, 45, 47, 49, 51, 53, 55, 57, 59, 61, 63, 65, 67, 69, 71, 73, 75, 77, 79, 81, 83, 85, 87, 89, 91, 93, 95, 97, 99]\n"
     ]
    }
   ],
   "source": [
    "odd_num = [i for i in l if i%2 !=0]\n",
    "print(odd_num)"
   ]
  },
  {
   "cell_type": "code",
   "execution_count": 38,
   "id": "bd054d73",
   "metadata": {
    "scrolled": true
   },
   "outputs": [
    {
     "name": "stdout",
     "output_type": "stream",
     "text": [
      "[1, 2, 3, 4, 5, 6, 7, 8, 9, 10, 11, 12, 13, 14, 15, 16, 17, 18, 19, 20, 21, 22, 23, 24, 25, 26, 27, 28, 29, 30, 31, 32, 33, 34, 35, 36, 37, 38, 39, 40, 41, 42, 43, 44, 45, 46, 47, 48, 49, 50, 51, 52, 53, 54, 55, 56, 57, 58, 59, 60, 61, 62, 63, 64, 65, 66, 67, 68, 69, 70, 71, 72, 73, 74, 75, 76, 77, 78, 79, 80, 81, 82, 83, 84, 85, 86, 87, 88, 89, 90, 91, 92, 93, 94, 95, 96, 97, 98, 99, 100]\n"
     ]
    }
   ],
   "source": [
    "#creating a list from 1 to 100 by using list comprehension\n",
    "l1 = [i for i in l]\n",
    "print(l1)"
   ]
  },
  {
   "cell_type": "markdown",
   "id": "76b1ae53",
   "metadata": {},
   "source": [
    "## Thank You"
   ]
  },
  {
   "cell_type": "code",
   "execution_count": null,
   "id": "f1c5a706",
   "metadata": {},
   "outputs": [],
   "source": []
  }
 ],
 "metadata": {
  "kernelspec": {
   "display_name": "Python 3 (ipykernel)",
   "language": "python",
   "name": "python3"
  },
  "language_info": {
   "codemirror_mode": {
    "name": "ipython",
    "version": 3
   },
   "file_extension": ".py",
   "mimetype": "text/x-python",
   "name": "python",
   "nbconvert_exporter": "python",
   "pygments_lexer": "ipython3",
   "version": "3.9.12"
  }
 },
 "nbformat": 4,
 "nbformat_minor": 5
}
