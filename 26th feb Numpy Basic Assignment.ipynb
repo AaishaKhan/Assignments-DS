{
 "cells": [
  {
   "cell_type": "markdown",
   "id": "da5da7bf",
   "metadata": {},
   "source": [
    "# 26th Feb Assignment 2023"
   ]
  },
  {
   "cell_type": "markdown",
   "id": "64b95c6f",
   "metadata": {},
   "source": [
    "# Numpy Basic"
   ]
  },
  {
   "cell_type": "markdown",
   "id": "202a6e97",
   "metadata": {},
   "source": [
    " Consider the below code to answer further questions:\n",
    "\n",
    "### Q1. Is there any difference in the data type of variables list_ and array_list? If there is then write a code to print the data types of both the variables."
   ]
  },
  {
   "cell_type": "code",
   "execution_count": 3,
   "id": "0a237a80",
   "metadata": {},
   "outputs": [
    {
     "name": "stdout",
     "output_type": "stream",
     "text": [
      "Data type of list_: <class 'list'>\n",
      "Data type of array_list: <class 'numpy.ndarray'>\n"
     ]
    }
   ],
   "source": [
    "import numpy as np\n",
    "list_ = ['1','2','3','4','5']\n",
    "array_list = np.array(object = list_)\n",
    "\n",
    "print(\"Data type of list_:\", type(list_))\n",
    "print(\"Data type of array_list:\", type(array_list))"
   ]
  },
  {
   "cell_type": "markdown",
   "id": "3d72cf86",
   "metadata": {},
   "source": [
    "True, the variables list_ and array list have different data types.\n",
    "\n",
    "The variable list_ is a Python list that can include members of many data types, such as integers, floats, texts, and so on. List_ has string items in this scenario.\n",
    "\n",
    "array list is a NumPy array that can only carry items of a single data type. The data type of the array members is deduced from the data type of the input object (in this example, list_). Since list_ contains string items, array list will contain string elements as well."
   ]
  },
  {
   "cell_type": "markdown",
   "id": "bef9985c",
   "metadata": {},
   "source": [
    "### Q2. Write a code to print the data type of each and every element of both the variables list_ and arra_list."
   ]
  },
  {
   "cell_type": "code",
   "execution_count": 4,
   "id": "39fd7b20",
   "metadata": {},
   "outputs": [
    {
     "name": "stdout",
     "output_type": "stream",
     "text": [
      "Data types of elements in list_:\n",
      "<class 'str'>\n",
      "<class 'str'>\n",
      "<class 'str'>\n",
      "<class 'str'>\n",
      "<class 'str'>\n",
      "Data types of elements in array_list:\n",
      "<class 'numpy.str_'>\n",
      "<class 'numpy.str_'>\n",
      "<class 'numpy.str_'>\n",
      "<class 'numpy.str_'>\n",
      "<class 'numpy.str_'>\n"
     ]
    }
   ],
   "source": [
    "import numpy as np\n",
    "\n",
    "list_ = ['1', '2', '3', '4', '5']\n",
    "array_list = np.array(object=list_)\n",
    "\n",
    "# Print data types of elements in list_\n",
    "print(\"Data types of elements in list_:\")\n",
    "for element in list_:\n",
    "    print(type(element))\n",
    "\n",
    "# Print data types of elements in array_list\n",
    "print(\"Data types of elements in array_list:\")\n",
    "for element in array_list:\n",
    "    print(type(element))\n"
   ]
  },
  {
   "cell_type": "markdown",
   "id": "da540c40",
   "metadata": {},
   "source": [
    "#### Q3. Considering the following changes in the variable, array_list:\n",
    "\n",
    "#### Will there be any difference in the data type of the elements present in both the variables, list_ and arra_list? If so then print the data types of each and every element present in both the variables, list_and arra_list."
   ]
  },
  {
   "cell_type": "markdown",
   "id": "f0491705",
   "metadata": {},
   "source": [
    "Yes, there will be a difference in the data type of the elements present in list_ and array_list after the following change:\n"
   ]
  },
  {
   "cell_type": "code",
   "execution_count": 5,
   "id": "74717546",
   "metadata": {},
   "outputs": [],
   "source": [
    "array_list = np.array(object=list_, dtype=int)\n"
   ]
  },
  {
   "cell_type": "code",
   "execution_count": 6,
   "id": "255d368e",
   "metadata": {},
   "outputs": [
    {
     "name": "stdout",
     "output_type": "stream",
     "text": [
      "Data types of elements in list_:\n",
      "<class 'str'>\n",
      "<class 'str'>\n",
      "<class 'str'>\n",
      "<class 'str'>\n",
      "<class 'str'>\n",
      "Data types of elements in array_list:\n",
      "<class 'numpy.int32'>\n",
      "<class 'numpy.int32'>\n",
      "<class 'numpy.int32'>\n",
      "<class 'numpy.int32'>\n",
      "<class 'numpy.int32'>\n"
     ]
    }
   ],
   "source": [
    "\n",
    "list_ = ['1', '2', '3', '4', '5']\n",
    "array_list = np.array(object=list_, dtype=int)\n",
    "\n",
    "# Print data types of elements in list_\n",
    "print(\"Data types of elements in list_:\")\n",
    "for element in list_:\n",
    "    print(type(element))\n",
    "\n",
    "# Print data types of elements in array_list\n",
    "print(\"Data types of elements in array_list:\")\n",
    "for element in array_list:\n",
    "    print(type(element))\n"
   ]
  },
  {
   "cell_type": "markdown",
   "id": "c29e1e3a",
   "metadata": {},
   "source": [
    "#### Q4. Write a code to find the following characteristics of variable, num_array:\n",
    "(i) shape\n",
    "(ii) size"
   ]
  },
  {
   "cell_type": "code",
   "execution_count": 7,
   "id": "af8ebf92",
   "metadata": {},
   "outputs": [
    {
     "name": "stdout",
     "output_type": "stream",
     "text": [
      "Shape of num_array: (2, 3)\n",
      "Size of num_array: 6\n"
     ]
    }
   ],
   "source": [
    "# Create a NumPy array\n",
    "num_list = [[1, 2, 3], [4, 5, 6]]\n",
    "num_array = np.array(object=num_list)\n",
    "\n",
    "# Find the shape and size of the array\n",
    "print(\"Shape of num_array:\", num_array.shape)\n",
    "print(\"Size of num_array:\", num_array.size)\n"
   ]
  },
  {
   "cell_type": "markdown",
   "id": "c12238ec",
   "metadata": {},
   "source": [
    "#### Q5. Write a code to create numpy array of 3*3 matrix containing zeros only, using a numpy array\n",
    "creation function.\n",
    "[Hint: The size of the array will be 9 and the shape will be (3,3).]"
   ]
  },
  {
   "cell_type": "code",
   "execution_count": 8,
   "id": "47a7f838",
   "metadata": {},
   "outputs": [
    {
     "name": "stdout",
     "output_type": "stream",
     "text": [
      "[[0. 0. 0.]\n",
      " [0. 0. 0.]\n",
      " [0. 0. 0.]]\n"
     ]
    }
   ],
   "source": [
    "# Create a 3x3 NumPy array containing zeros\n",
    "zeros_array = np.zeros(shape=(3, 3))\n",
    "\n",
    "# Print the array\n",
    "print(zeros_array)\n"
   ]
  },
  {
   "cell_type": "markdown",
   "id": "0619197c",
   "metadata": {},
   "source": [
    "#### Q6. Create an identity matrix of shape (5,5) using numpy functions?\n",
    "[Hint: An identity matrix is a matrix containing 1 diagonally and other elements will be 0.]"
   ]
  },
  {
   "cell_type": "code",
   "execution_count": 9,
   "id": "9732704e",
   "metadata": {},
   "outputs": [
    {
     "name": "stdout",
     "output_type": "stream",
     "text": [
      "[[1. 0. 0. 0. 0.]\n",
      " [0. 1. 0. 0. 0.]\n",
      " [0. 0. 1. 0. 0.]\n",
      " [0. 0. 0. 1. 0.]\n",
      " [0. 0. 0. 0. 1.]]\n"
     ]
    }
   ],
   "source": [
    "# Create a 5x5 identity matrix\n",
    "identity_matrix = np.identity(n=5)\n",
    "\n",
    "# Print the matrix\n",
    "print(identity_matrix)\n"
   ]
  },
  {
   "cell_type": "markdown",
   "id": "038090e4",
   "metadata": {},
   "source": [
    "## Thank You"
   ]
  }
 ],
 "metadata": {
  "kernelspec": {
   "display_name": "Python 3 (ipykernel)",
   "language": "python",
   "name": "python3"
  },
  "language_info": {
   "codemirror_mode": {
    "name": "ipython",
    "version": 3
   },
   "file_extension": ".py",
   "mimetype": "text/x-python",
   "name": "python",
   "nbconvert_exporter": "python",
   "pygments_lexer": "ipython3",
   "version": "3.9.12"
  }
 },
 "nbformat": 4,
 "nbformat_minor": 5
}
