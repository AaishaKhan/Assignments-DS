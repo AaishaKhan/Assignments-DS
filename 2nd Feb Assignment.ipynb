{
 "cells": [
  {
   "cell_type": "markdown",
   "id": "40e3300f",
   "metadata": {},
   "source": [
    "# 02 Feb Assignment 2023"
   ]
  },
  {
   "cell_type": "markdown",
   "id": "e9203400",
   "metadata": {},
   "source": [
    "### Q1. Explain with an example each when to use a for loop and a while loop."
   ]
  },
  {
   "cell_type": "markdown",
   "id": "38a1506c",
   "metadata": {},
   "source": [
    "A \"For\" loop is a control flow statement that repeats code for a specified number of iterations. In this control flow statement, the keyword used is for. When the number of iterations is already known, the for loop is utilised."
   ]
  },
  {
   "cell_type": "code",
   "execution_count": 1,
   "id": "0fe4dc70",
   "metadata": {},
   "outputs": [
    {
     "name": "stdout",
     "output_type": "stream",
     "text": [
      "ash\n",
      "23\n",
      "45\n",
      "6\n",
      "56.7\n"
     ]
    }
   ],
   "source": [
    "#for loop example\n",
    "\n",
    "n = ['ash',23,45,6, 56.7]  # Initialization\n",
    "for i in n:  # Condition and Updation\n",
    "    print(i)"
   ]
  },
  {
   "cell_type": "markdown",
   "id": "caa4c4af",
   "metadata": {},
   "source": [
    "* A loop that runs a single statement or a set of statements in response to a true condition.* "
   ]
  },
  {
   "cell_type": "markdown",
   "id": "f7f9ec23",
   "metadata": {},
   "source": [
    "When the number of iterations is uncertain, a \"while\" loop is used. The sentence is repeated until the boolean value is false."
   ]
  },
  {
   "cell_type": "code",
   "execution_count": 2,
   "id": "5467a43b",
   "metadata": {},
   "outputs": [
    {
     "name": "stdout",
     "output_type": "stream",
     "text": [
      "0\n",
      "1\n",
      "2\n",
      "3\n",
      "4\n",
      "5\n",
      "6\n",
      "7\n",
      "8\n",
      "9\n"
     ]
    }
   ],
   "source": [
    "#while loop example\n",
    "\n",
    "i = 0  # Initialization\n",
    "while i < 10:  # Condition\n",
    "    print(i)\n",
    "    i += 1  # Updation"
   ]
  },
  {
   "cell_type": "markdown",
   "id": "a302e907",
   "metadata": {},
   "source": [
    "### Q2. Write a python program to print the sum and product of the first 10 natural numbers using for and while loop."
   ]
  },
  {
   "cell_type": "code",
   "execution_count": 14,
   "id": "2b8f8b84",
   "metadata": {},
   "outputs": [
    {
     "name": "stdout",
     "output_type": "stream",
     "text": [
      "The sum is 55\n"
     ]
    }
   ],
   "source": [
    "# Sum of natural numbers up to num using while loop\n",
    "\n",
    "num = 10\n",
    "\n",
    "if num < 0:\n",
    "    print(\"Enter a positive number\")\n",
    "else:\n",
    "    sum = 0\n",
    "   # use while loop to iterate until zero\n",
    "while(num > 0):\n",
    "     sum += num\n",
    "     num -= 1\n",
    "print(\"The sum is\", sum)\n"
   ]
  },
  {
   "cell_type": "code",
   "execution_count": 18,
   "id": "84e012a4",
   "metadata": {},
   "outputs": [
    {
     "name": "stdout",
     "output_type": "stream",
     "text": [
      "sum is:  55\n",
      "Product is:  3628800\n"
     ]
    }
   ],
   "source": [
    "# Using For loop\n",
    "\n",
    "add = 0\n",
    "product = 1\n",
    "\n",
    "for num in range(1,11):\n",
    "    add += num\n",
    "    product *= num\n",
    "    \n",
    "print(f\"sum is: \", add)\n",
    "print(f\"Product is: \", product)"
   ]
  },
  {
   "cell_type": "markdown",
   "id": "f92eb9ea",
   "metadata": {},
   "source": [
    "#### Q3. Create a python program to compute the electricity bill for a household. The per-unit charges in rupees are as follows: For the first 100 units, the user will be charged Rs. 4.5 per unit, for the next 100 units, the user will be charged Rs. 6 per unit, and for the next 100 units, the user will  be charged Rs. 10 per unit, After 300 units and above the user will be charged Rs. 20 per unit You are required to take the units of electricity consumed in a month from the user as input. Your program must pass this test case: when the unit of electricity consumed by the user in a month is 310, the total electricity bill should be 2250."
   ]
  },
  {
   "cell_type": "code",
   "execution_count": 22,
   "id": "6e091c58",
   "metadata": {},
   "outputs": [
    {
     "name": "stdout",
     "output_type": "stream",
     "text": [
      "please enter the electricity unit consumed: 310\n",
      "total billing amount:  2250.0\n"
     ]
    }
   ],
   "source": [
    "electric_unit = int(input(\"please enter the electricity unit consumed: \"))\n",
    "\n",
    "if electric_unit > 0 and electric_unit <=100:\n",
    "    total = electric_unit*4.5\n",
    "    \n",
    "elif electric_unit <= 200:\n",
    "    total = (electric_unit-100)*6 + 100*4.5\n",
    "    \n",
    "elif electric_unit <= 300:\n",
    "    total = (electric_unit-200)*10 + 100*4.5 + 100*6\n",
    "    \n",
    "else:\n",
    "    total = (electric_unit-300)*20 + 100*10 + 100*6 + 100*4.5\n",
    "    print('total billing amount: ', total)"
   ]
  },
  {
   "cell_type": "markdown",
   "id": "cc5ed896",
   "metadata": {},
   "source": [
    "### Q4. Create a list of numbers from 1 to 100. Use for loop and while loop to calculate the cube of each number and if the cube of that number is divisible by 4 or 5 then append that number in a list and print that list."
   ]
  },
  {
   "cell_type": "code",
   "execution_count": 23,
   "id": "27f62283",
   "metadata": {},
   "outputs": [
    {
     "name": "stdout",
     "output_type": "stream",
     "text": [
      "List of numbers, those cubes are divisible by 4 or 5:  [2, 4, 5, 6, 8, 10, 12, 14, 15, 16, 18, 20, 22, 24, 25, 26, 28, 30, 32, 34, 35, 36, 38, 40, 42, 44, 45, 46, 48, 50, 52, 54, 55, 56, 58, 60, 62, 64, 65, 66, 68, 70, 72, 74, 75, 76, 78, 80, 82, 84, 85, 86, 88, 90, 92, 94, 95, 96, 98, 100]\n"
     ]
    }
   ],
   "source": [
    "#for loop\n",
    "num  = list(range(1,101))\n",
    "num2 = []\n",
    "for i in num:\n",
    "    cube = i**3\n",
    "    if cube%4 == 0 or cube%5 == 0:\n",
    "        num2.append(i)\n",
    "print(\"List of numbers, those cubes are divisible by 4 or 5: \",num2)"
   ]
  },
  {
   "cell_type": "code",
   "execution_count": 24,
   "id": "3fdd4cdd",
   "metadata": {},
   "outputs": [
    {
     "name": "stdout",
     "output_type": "stream",
     "text": [
      "List of numbers, those cubes are divisible by 4 or 5 are:  [2, 4, 5, 6, 8, 10, 12, 14, 15, 16, 18, 20, 22, 24, 25, 26, 28, 30, 32, 34, 35, 36, 38, 40, 42, 44, 45, 46, 48, 50, 52, 54, 55, 56, 58, 60, 62, 64, 65, 66, 68, 70, 72, 74, 75, 76, 78, 80, 82, 84, 85, 86, 88, 90, 92, 94, 95, 96, 98, 100]\n"
     ]
    }
   ],
   "source": [
    "#while loop\n",
    "start = 1\n",
    "num = []\n",
    "while(start <=100):\n",
    "    cube = start**3\n",
    "    if cube%4 == 0 or cube%5 == 0:\n",
    "        num.append(start)\n",
    "    start +=1\n",
    "print(\"List of numbers, those cubes are divisible by 4 or 5 are: \", num)"
   ]
  },
  {
   "cell_type": "markdown",
   "id": "4cd2bfea",
   "metadata": {},
   "source": [
    "### Q5.Write a program to filter count vowels in the below-given string. string = \"I want to become a data scientist\""
   ]
  },
  {
   "cell_type": "code",
   "execution_count": 26,
   "id": "9b481a8b",
   "metadata": {},
   "outputs": [
    {
     "name": "stdout",
     "output_type": "stream",
     "text": [
      "11\n"
     ]
    }
   ],
   "source": [
    "string = \"I Want To Become A Data Scientist\"\n",
    "count = 0\n",
    "for char in string:\n",
    "    if char in [\"a\",\"e\",\"i\",\"o\",\"u\"]:\n",
    "        count += 1\n",
    "print(count)"
   ]
  },
  {
   "cell_type": "markdown",
   "id": "d601b3bc",
   "metadata": {},
   "source": [
    "## Thank You"
   ]
  },
  {
   "cell_type": "code",
   "execution_count": null,
   "id": "e7668a9b",
   "metadata": {},
   "outputs": [],
   "source": []
  }
 ],
 "metadata": {
  "kernelspec": {
   "display_name": "Python 3 (ipykernel)",
   "language": "python",
   "name": "python3"
  },
  "language_info": {
   "codemirror_mode": {
    "name": "ipython",
    "version": 3
   },
   "file_extension": ".py",
   "mimetype": "text/x-python",
   "name": "python",
   "nbconvert_exporter": "python",
   "pygments_lexer": "ipython3",
   "version": "3.9.12"
  }
 },
 "nbformat": 4,
 "nbformat_minor": 5
}
