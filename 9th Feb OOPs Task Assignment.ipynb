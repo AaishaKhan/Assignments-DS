{
 "cells": [
  {
   "cell_type": "markdown",
   "id": "ee3deae0",
   "metadata": {},
   "source": [
    "# 9th Feb Assignment 2023"
   ]
  },
  {
   "cell_type": "markdown",
   "id": "85aae639",
   "metadata": {},
   "source": [
    "# OOPs Task\n"
   ]
  },
  {
   "cell_type": "markdown",
   "id": "8b4b3eae",
   "metadata": {},
   "source": [
    "#### Q1, Create a vehicle class with an init method having instance variables as name_of_vehicle, max_speed and average_of_vehicle"
   ]
  },
  {
   "cell_type": "code",
   "execution_count": 1,
   "id": "77b32eaa",
   "metadata": {},
   "outputs": [],
   "source": [
    "class Vehicle:\n",
    "    def __init__(self, name_of_vehicle, max_speed, average_of_vehicle):\n",
    "        self.name_of_vehicle = name_of_vehicle\n",
    "        self.max_speed = max_speed\n",
    "        self.average_of_vehicle = average_of_vehicle\n"
   ]
  },
  {
   "cell_type": "code",
   "execution_count": 2,
   "id": "96ff21a4",
   "metadata": {},
   "outputs": [],
   "source": [
    "car = Vehicle(\"Tesla Model S\", 250, 22)\n"
   ]
  },
  {
   "cell_type": "code",
   "execution_count": 3,
   "id": "b7161cdd",
   "metadata": {},
   "outputs": [
    {
     "name": "stdout",
     "output_type": "stream",
     "text": [
      "Tesla Model S\n",
      "250\n",
      "22\n"
     ]
    }
   ],
   "source": [
    "print(car.name_of_vehicle)        # Output: Tesla Model S\n",
    "print(car.max_speed)             # Output: 250\n",
    "print(car.average_of_vehicle)    # Output: 22\n"
   ]
  },
  {
   "cell_type": "markdown",
   "id": "49310192",
   "metadata": {},
   "source": [
    "#### Q2.  Create a child class car from the vehicle class created in Que 1, which will inherit the vehicle class. Create a method named seating_capacity which takes capacity as an argument and returns the name of the vehicle and its seating capacity."
   ]
  },
  {
   "cell_type": "code",
   "execution_count": 4,
   "id": "59b6b174",
   "metadata": {},
   "outputs": [],
   "source": [
    "class Car(Vehicle):\n",
    "    def seating_capacity(self, capacity):\n",
    "        return f\"{self.name_of_vehicle} has a seating capacity of {capacity} people\"\n"
   ]
  },
  {
   "cell_type": "code",
   "execution_count": 5,
   "id": "4be1d8d0",
   "metadata": {},
   "outputs": [],
   "source": [
    "#To create an instance of the Car class, we can call the class and pass in values for the name_of_vehicle,\n",
    "#max_speed, and average_of_vehicle instance variables:\n",
    "my_car = Car(\"Tesla Model 3\", 162, 20)\n"
   ]
  },
  {
   "cell_type": "code",
   "execution_count": 6,
   "id": "796b15a5",
   "metadata": {},
   "outputs": [
    {
     "name": "stdout",
     "output_type": "stream",
     "text": [
      "Tesla Model 3 has a seating capacity of 5 people\n"
     ]
    }
   ],
   "source": [
    "# This creates a new Car object named my_car, with name_of_vehicle set to \"Tesla Model 3\", max_speed set to 162, \n",
    "#and average_of_vehicle set to 20.\n",
    "print(my_car.seating_capacity(5))    # Output: Tesla Model 3 has a seating capacity of 5 people\n",
    "\n",
    "# We can then call the seating_capacity method on the my_car object to get the seating capacity of the car:"
   ]
  },
  {
   "cell_type": "markdown",
   "id": "1c9631a3",
   "metadata": {},
   "source": [
    "This shows that we have successfully created a Car class that inherits from the Vehicle class and adds a new method called seating_capacity."
   ]
  },
  {
   "cell_type": "markdown",
   "id": "2d44dfe6",
   "metadata": {},
   "source": [
    "#### Q3. What is multiple inheritance? Write a python code to demonstrate multiple inheritance."
   ]
  },
  {
   "cell_type": "markdown",
   "id": "e8b22e59",
   "metadata": {},
   "source": [
    "Multiple inheritance is a feature of object-oriented programming languages that allows a class to inherit from multiple parent classes. In multiple inheritance, a class can inherit the properties and methods of more than one class, combining them to create a new class with its own unique characteristics."
   ]
  },
  {
   "cell_type": "code",
   "execution_count": 7,
   "id": "cf2ba6e2",
   "metadata": {},
   "outputs": [
    {
     "name": "stdout",
     "output_type": "stream",
     "text": [
      "This is method A\n",
      "This is method B\n",
      "This is method C\n"
     ]
    }
   ],
   "source": [
    "class A:\n",
    "    def method_a(self):\n",
    "        print(\"This is method A\")\n",
    "\n",
    "class B:\n",
    "    def method_b(self):\n",
    "        print(\"This is method B\")\n",
    "\n",
    "class C(A, B):\n",
    "    def method_c(self):\n",
    "        print(\"This is method C\")\n",
    "\n",
    "my_object = C()\n",
    "my_object.method_a()    # Output: This is method A\n",
    "my_object.method_b()    # Output: This is method B\n",
    "my_object.method_c()    # Output: This is method C\n"
   ]
  },
  {
   "cell_type": "markdown",
   "id": "3b54d330",
   "metadata": {},
   "source": [
    "In this example, we define three classes: A, B, and C. A and B are the parent classes, and C is the child class that inherits from both A and B.\n",
    "\n",
    "Class A has a method called method_a, and class B has a method called method_b. Class C defines its own method called method_c, and also inherits from both A and B.\n",
    "\n",
    "We create an object my_object of the C class and call the methods on it. We can see that we can access methods from both parent classes A and B, as well as the child class C."
   ]
  },
  {
   "cell_type": "markdown",
   "id": "426501c4",
   "metadata": {},
   "source": [
    "#### Q4. What are getter and setter in python? Create a class and create a getter and a setter method in this class."
   ]
  },
  {
   "cell_type": "markdown",
   "id": "6db5d307",
   "metadata": {},
   "source": [
    "In Python, getters and setters are methods that allow us to access and modify the values of class attributes in a controlled way. Getters are methods that return the value of a class attribute, and setters are methods that set the value of a class attribute. By using getters and setters, we can enforce data encapsulation and prevent unauthorized changes to the state of our objects."
   ]
  },
  {
   "cell_type": "code",
   "execution_count": 8,
   "id": "1e311d34",
   "metadata": {},
   "outputs": [],
   "source": [
    "class Person:\n",
    "    def __init__(self, name):\n",
    "        self._name = name\n",
    "\n",
    "    def get_name(self):\n",
    "        return self._name\n",
    "\n",
    "    def set_name(self, name):\n",
    "        self._name = name\n"
   ]
  },
  {
   "cell_type": "code",
   "execution_count": 9,
   "id": "41b395eb",
   "metadata": {},
   "outputs": [
    {
     "name": "stdout",
     "output_type": "stream",
     "text": [
      "Ash\n",
      "sam\n"
     ]
    }
   ],
   "source": [
    "person = Person(\"Ash\")\n",
    "print(person.get_name())   # Output: Alice\n",
    "person.set_name(\"sam\")\n",
    "print(person.get_name())   # Output: Bob\n"
   ]
  },
  {
   "cell_type": "markdown",
   "id": "44f96f92",
   "metadata": {},
   "source": [
    "This shows that we can use the getter method to retrieve the value of the _name attribute, and the setter method to set the value of the _name attribute to a new value. By using getters and setters, we can control the access to the _name attribute and ensure that it is only modified in a controlled way."
   ]
  },
  {
   "cell_type": "markdown",
   "id": "24021afd",
   "metadata": {},
   "source": [
    "#### Q5.What is method overriding in python? Write a python code to demonstrate method overriding"
   ]
  },
  {
   "cell_type": "markdown",
   "id": "889bb398",
   "metadata": {},
   "source": [
    "Method overriding is a feature of object-oriented programming that allows a subclass to provide a different implementation of a method that is already defined in its parent class. When a method in the subclass has the same name, same parameters, and same return type as a method in the parent class, it overrides the method in the parent class."
   ]
  },
  {
   "cell_type": "code",
   "execution_count": 12,
   "id": "9d5e1dc2",
   "metadata": {},
   "outputs": [
    {
     "name": "stdout",
     "output_type": "stream",
     "text": [
      "Birds is speaking\n",
      "mayna is singing\n",
      "Sparrow is chirping\n"
     ]
    }
   ],
   "source": [
    "class Birds:\n",
    "    def speak(self):\n",
    "        print(\"Birds is speaking\")\n",
    "\n",
    "class mayna(Birds):\n",
    "    def speak(self):\n",
    "        print(\"mayna is singing\")\n",
    "\n",
    "class Sparrow(Birds):\n",
    "    def speak(self):\n",
    "        print(\"Sparrow is chirping\")\n",
    "\n",
    "birds = Birds()\n",
    "birds.speak()   # Output: Birds is speaking\n",
    "\n",
    "mayna = mayna()\n",
    "mayna.speak()      # Output: mayna is singing\n",
    "\n",
    "sparrow = Sparrow()\n",
    "sparrow.speak()      # Output: Sparrow is chirping\n"
   ]
  },
  {
   "cell_type": "markdown",
   "id": "abf72332",
   "metadata": {},
   "source": [
    "In this example, we define three classes: Birds, mayna, and sparrow. The Birds class has a method called speak, which prints the message \"Birds is speaking\". The mayna and sparrow classes both inherit from the bird class and override the speak method to provide their own implementation."
   ]
  },
  {
   "cell_type": "markdown",
   "id": "c97129c4",
   "metadata": {},
   "source": [
    "* This demonstrates how method overriding works in Python, allowing a subclass to provide a different implementation of a method that is already defined in its parent class. When we call the overridden method on an object of the subclass, the implementation in the subclass is used instead of the implementation in the parent class."
   ]
  },
  {
   "cell_type": "markdown",
   "id": "2f41aac0",
   "metadata": {},
   "source": [
    "## Thank You"
   ]
  },
  {
   "cell_type": "code",
   "execution_count": null,
   "id": "cb94d289",
   "metadata": {},
   "outputs": [],
   "source": []
  }
 ],
 "metadata": {
  "kernelspec": {
   "display_name": "Python 3 (ipykernel)",
   "language": "python",
   "name": "python3"
  },
  "language_info": {
   "codemirror_mode": {
    "name": "ipython",
    "version": 3
   },
   "file_extension": ".py",
   "mimetype": "text/x-python",
   "name": "python",
   "nbconvert_exporter": "python",
   "pygments_lexer": "ipython3",
   "version": "3.9.12"
  }
 },
 "nbformat": 4,
 "nbformat_minor": 5
}
