{
 "cells": [
  {
   "cell_type": "markdown",
   "id": "7a791395",
   "metadata": {},
   "source": [
    " #                                 16th Feb 2023 MySQL Assignment"
   ]
  },
  {
   "cell_type": "markdown",
   "id": "695d958e",
   "metadata": {},
   "source": [
    "### Q1. What is a database? Differentiate between SQL and NoSQL databases"
   ]
  },
  {
   "cell_type": "markdown",
   "id": "17e3075d",
   "metadata": {},
   "source": [
    "* A database is a structured collection of data that is organised and maintained in such a way that it allows for efficient data storage, retrieval, and modification. A database normally consists of one or more tables or data collections, each of which contains rows or documents representing individual records and columns or fields representing record properties."
   ]
  },
  {
   "cell_type": "markdown",
   "id": "826e5c97",
   "metadata": {},
   "source": [
    "There are two main types of databases: SQL and NoSQL.\n",
    "    \n",
    "    * SQL (Structured Query Language) databases are relational databases that employ a schema to specify the data structure and SQL to interact with it. SQL databases use a table-based data architecture in which data is organised into one or more tables, each with a predetermined schema that describes the columns or fields included in the table, as well as any relationships or restrictions between those tables.\n",
    "      :-Some examples of SQL databases include MySQL, PostgreSQL, Oracle, and Microsoft SQL Server.\n",
    "    \n",
    "    * In contrast, NoSQL (Not Just SQL) databases are non-relational databases that do not employ a set schema to describe the data structure. NoSQL databases may store unstructured, semi-structured, or structured data, and their data models are often document-based or key-value store. NoSQL databases are frequently used for applications requiring a high level of scalability, performance, and flexibility.\n",
    "      :-Some examples of NoSQL databases include MongoDB, Cassandra, Couchbase, and Redis."
   ]
  },
  {
   "cell_type": "markdown",
   "id": "6666b401",
   "metadata": {},
   "source": [
    "* SQL databases, in short, have a set structure, employ tables to store data, and rely on SQL for querying and management. NoSQL databases, on the other hand, have no predefined schema, may employ a variety of data models, and have their own query languages or APIs for interacting with the data."
   ]
  },
  {
   "cell_type": "markdown",
   "id": "4d9c187c",
   "metadata": {},
   "source": [
    "### Q2. What is DDL? Explain why CREATE, DROP, ALTER, and TRUNCATE are used with an example"
   ]
  },
  {
   "cell_type": "markdown",
   "id": "ec492104",
   "metadata": {},
   "source": [
    "* DDL is an abbreviation for Data Definition Language, which is a set of SQL instructions used to define a database's structure and schema. Database objects including as tables, indexes, views, and procedures are created, modified, and deleted using DDL instructions."
   ]
  },
  {
   "cell_type": "markdown",
   "id": "205d1eb3",
   "metadata": {},
   "source": [
    "* CREATE: This command creates a new database object such as a table, view, or index. To create a new table in a database, for example, we may use the SQL command:"
   ]
  },
  {
   "cell_type": "code",
   "execution_count": null,
   "id": "8a00f1a1",
   "metadata": {},
   "outputs": [],
   "source": [
    "CREATE TABLE customers (\n",
    "  id INT PRIMARY KEY,\n",
    "  name VARCHAR(50),\n",
    "  email VARCHAR(50)\n",
    ");\n",
    "\n",
    "#This command creates a new table called \"customers\" with three columns: \"id\", \"name\", \n",
    "#and \"email\". The \"id\" column is set as the primary key."
   ]
  },
  {
   "cell_type": "markdown",
   "id": "0762e99a",
   "metadata": {},
   "source": [
    "* DROP: The DROP command is used to destroy a previously created database object, such as a table, view, or index. To remove a table from a database, for example, we may use the SQL command:"
   ]
  },
  {
   "cell_type": "code",
   "execution_count": null,
   "id": "1fc2998d",
   "metadata": {},
   "outputs": [],
   "source": [
    "DROP TABLE customers;\n",
    "#This command deletes the \"customers\" table from the database."
   ]
  },
  {
   "cell_type": "markdown",
   "id": "104dbbf5",
   "metadata": {},
   "source": [
    "* ALTER: The ALTER command is used to change the structure of a previously created database object, such as a table or column. To add a new column to an existing table, for example, we may use the SQL command:"
   ]
  },
  {
   "cell_type": "code",
   "execution_count": null,
   "id": "96d0a553",
   "metadata": {},
   "outputs": [],
   "source": [
    "ALTER TABLE customers ADD address VARCHAR(100);\n",
    "#This command adds a new column called \"address\" to the \"customers\" table."
   ]
  },
  {
   "cell_type": "markdown",
   "id": "d841462f",
   "metadata": {},
   "source": [
    "* TRUNCATE: The TRUNCATE command deletes all data from a table. To remove all data from the \"customers\" database, for example, we may use the SQL command:"
   ]
  },
  {
   "cell_type": "code",
   "execution_count": null,
   "id": "40f1070c",
   "metadata": {},
   "outputs": [],
   "source": [
    "TRUNCATE TABLE customers;\n",
    "#This command removes all the data from the \"customers\" table, but keeps the structure of the table intact."
   ]
  },
  {
   "cell_type": "markdown",
   "id": "b2ef466b",
   "metadata": {},
   "source": [
    "* To summarize, DDL commands are used to define, change, and destroy a database's structure and schema. The CREATE command creates new database objects, the DROP command deletes existing objects, the ALTER command modifies the structure of existing objects, and the TRUNCATE command removes all data from a table while keeping its structure intact."
   ]
  },
  {
   "cell_type": "markdown",
   "id": "72a1974f",
   "metadata": {},
   "source": [
    "### Q3. What is DML? Explain INSERT, UPDATE, and DELETE with an example"
   ]
  },
  {
   "cell_type": "markdown",
   "id": "78b8df5d",
   "metadata": {},
   "source": [
    "DML is an abbreviation for Data Manipulation Language, a set of SQL instructions used to alter data contained in a database. DML commands are used to insert, update, and remove data from database tables or views.\n",
    "\n",
    "These are some examples of typical DML commands and their applications:"
   ]
  },
  {
   "cell_type": "markdown",
   "id": "37e87198",
   "metadata": {},
   "source": [
    "* The INSERT command is used to insert new information into a table. To add a new record to the \"customers\" table, for example, execute the SQL command:"
   ]
  },
  {
   "cell_type": "code",
   "execution_count": null,
   "id": "d80334c0",
   "metadata": {},
   "outputs": [],
   "source": [
    "INSERT INTO customers (id, name, email) VALUES (1, 'ash kasur', 'ashkasur@example.com');\n",
    "#This command adds a new record with an id of 1, name of \"ash kasur\", and email of \"ashkasur@example.com\" to the \"customers\" table."
   ]
  },
  {
   "cell_type": "markdown",
   "id": "c8d6961e",
   "metadata": {},
   "source": [
    "* UPDATE: The UPDATE command changes existing data in a table. For example, to change the email address for a record in the \"customers\" database with an id of 1, we may use the SQL command:"
   ]
  },
  {
   "cell_type": "code",
   "execution_count": null,
   "id": "9d4a0414",
   "metadata": {},
   "outputs": [],
   "source": [
    "UPDATE customers SET email = 'ashkasure@example.org' WHERE id = 1;\n",
    "#This command changes the email address of the record with an id of 1 to \"ashkasur@example.org\"."
   ]
  },
  {
   "cell_type": "markdown",
   "id": "0b24c7f6",
   "metadata": {},
   "source": [
    "* DELETE: Use the DELETE command to delete one or more records from a table. To remove a record with an id of 1 from the \"customers\" table, for example, execute the SQL command:"
   ]
  },
  {
   "cell_type": "code",
   "execution_count": null,
   "id": "a1c78ab5",
   "metadata": {},
   "outputs": [],
   "source": [
    "DELETE FROM customers WHERE id = 1;\n",
    "#This command removes the record with an id of 1 from the \"customers\" table."
   ]
  },
  {
   "cell_type": "markdown",
   "id": "8bccc4ca",
   "metadata": {},
   "source": [
    "* DML instructions, in general, are used to alter data contained in a database. The INSERT command adds new data to a table, the UPDATE command modifies existing data in a table, and the DELETE statement deletes one or more items from a table."
   ]
  },
  {
   "cell_type": "markdown",
   "id": "03331d08",
   "metadata": {},
   "source": [
    "### Q4. What is DQL? Explain SELECT with an example"
   ]
  },
  {
   "cell_type": "markdown",
   "id": "7333a92d",
   "metadata": {},
   "source": [
    "DQL is an abbreviation for Data Query Language, a collection of SQL instructions used to extract data from a database. DQL commands are used to query data contained in a database's tables or views.\n",
    "\n",
    "The following is an explanation of the most widely used DQL command and its application:"
   ]
  },
  {
   "cell_type": "markdown",
   "id": "ba5d243a",
   "metadata": {},
   "source": [
    "* The SELECT command is used to get information from one or more tables. To obtain all of the data from the \"customers\" database, for example, use the SQL command:"
   ]
  },
  {
   "cell_type": "code",
   "execution_count": null,
   "id": "a1ccdd9d",
   "metadata": {},
   "outputs": [],
   "source": [
    "SELECT * FROM customers;\n"
   ]
  },
  {
   "cell_type": "markdown",
   "id": "03d904f5",
   "metadata": {},
   "source": [
    "* This operation pulls all of the information from the \"customers\" database and displays it in a tabular style. The asterisk (*) indicates that you want to pick all columns in the table.\n",
    "\n",
    "By specifying the columns in the SELECT query, we can also indicate the columns we wish to obtain data from. As an example:"
   ]
  },
  {
   "cell_type": "code",
   "execution_count": null,
   "id": "22339949",
   "metadata": {},
   "outputs": [],
   "source": [
    "SELECT name, email FROM customers;\n"
   ]
  },
  {
   "cell_type": "markdown",
   "id": "f9867a51",
   "metadata": {},
   "source": [
    "This command retrieves and returns only the \"name\" and \"email\" columns from the \"customers\" database in tabular format.\n",
    "\n",
    "We may also use the SELECT statement with various clauses to filter, organize, and order the data returned. As an example:"
   ]
  },
  {
   "cell_type": "code",
   "execution_count": null,
   "id": "b5c9ed4a",
   "metadata": {},
   "outputs": [],
   "source": [
    "SELECT name, email FROM customers WHERE name LIKE 'J%';\n",
    "#This command retrieves only the \"name\" and \"email\" columns from the \"customers\" table for customers whose names start with the letter \"J\" and returns them in a tabular format."
   ]
  },
  {
   "cell_type": "code",
   "execution_count": null,
   "id": "1ac1da3f",
   "metadata": {},
   "outputs": [],
   "source": []
  },
  {
   "cell_type": "markdown",
   "id": "0a5742d4",
   "metadata": {},
   "source": [
    "### Q5. Explain Primary Key and Foreign Key."
   ]
  },
  {
   "cell_type": "markdown",
   "id": "c77b163b",
   "metadata": {},
   "source": [
    "* A primary key in SQL is a column or group of columns in a database that uniquely identifies each entry. It is used to verify data integrity and the uniqueness of each record in the table. In a table containing client data, for example, the main key may be the customer ID number. The main key can be used to construct relationships in other tables."
   ]
  },
  {
   "cell_type": "markdown",
   "id": "7abbac87",
   "metadata": {},
   "source": [
    "* A foreign key in a table is a column or combination of columns that relates to the primary key of another table. It is used to connect the two tables and guarantee referential integrity. In a table of orders, for example, the foreign key may be the customer ID, which relates to the customer table's primary key. This verifies that the client mentioned in the order is present in the customer table."
   ]
  },
  {
   "cell_type": "markdown",
   "id": "081bad09",
   "metadata": {},
   "source": [
    "* The primary key of one table is frequently used as a foreign key in another table to build a link between the two tables. You may design an organized and efficient database that correctly reflects your data and guarantees data integrity by employing primary and foreign keys."
   ]
  },
  {
   "cell_type": "markdown",
   "id": "c4ef4142",
   "metadata": {},
   "source": [
    "### Q6. Write a python code to connect MySQL to python. Explain the cursor() and execute() method"
   ]
  },
  {
   "cell_type": "code",
   "execution_count": null,
   "id": "f1752937",
   "metadata": {},
   "outputs": [],
   "source": [
    "import mysql.connector\n",
    "\n",
    "# Establish a connection to the MySQL server\n",
    "cnx = mysql.connector.connect(user='your_username', password='your_password',\n",
    "                              host='localhost',\n",
    "                              database='your_database_name')\n",
    "\n",
    "# Create a cursor object\n",
    "cursor = cnx.cursor()\n",
    "\n",
    "# Execute a SQL query\n",
    "query = \"SELECT * FROM your_table_name\"\n",
    "cursor.execute(query)\n",
    "\n",
    "# Fetch and display the results\n",
    "for row in cursor:\n",
    "    print(row)\n",
    "\n",
    "# Close the cursor and connection\n",
    "cursor.close()\n",
    "cnx.close()\n"
   ]
  },
  {
   "cell_type": "markdown",
   "id": "6c479166",
   "metadata": {},
   "source": [
    "To begin, we import the mysql.connector module and use it to connect to the MySQL server by providing the login, password, hostname, and database name. We generate a cursor object using the connection object's cursor() function after we have a connection object. The cursor object is used to run SQL queries and get the results.\n",
    "\n",
    "The cursor object's execute() function is then used to conduct a SQL query. The query is a string containing a SQL statement. In this example, we're going to pick all of the rows from a table."
   ]
  },
  {
   "cell_type": "markdown",
   "id": "6f4c9f2f",
   "metadata": {},
   "source": [
    "* Following the execution of the query, we utilize a loop to get and show the query's results. The cursor object functions as an iterator, allowing us to cycle over the query's results.\n",
    "\n",
    "Lastly, we use the close() function to close the cursor and connection objects."
   ]
  },
  {
   "cell_type": "markdown",
   "id": "328d4311",
   "metadata": {},
   "source": [
    "* The cursor() function returns a new cursor object that may be used to run SQL queries and retrieve results. The cursor object is used to communicate with the database and manage SQL query results."
   ]
  },
  {
   "cell_type": "markdown",
   "id": "1d95d032",
   "metadata": {},
   "source": [
    "* To run a SQL query or statement, use the execute() function. It accepts a string parameter containing a valid SQL statement. After the statement is run, it is delivered to the database, and the cursor object is used to manage the query's results."
   ]
  },
  {
   "cell_type": "markdown",
   "id": "8685e35a",
   "metadata": {},
   "source": [
    "### Q7. Give the order of execution of SQL clauses in an SQL query"
   ]
  },
  {
   "cell_type": "markdown",
   "id": "313ef315",
   "metadata": {},
   "source": [
    "* The FROM clause indicates which tables will be utilized in the query. The first phrase is executed, and it specifies the data's source.\n",
    "\n",
    "* WHERE: The WHERE clause is used to filter data based on certain criteria. It is run after the FROM clause and removes any rows that do not satisfy the stated criteria."
   ]
  },
  {
   "cell_type": "markdown",
   "id": "39f23d91",
   "metadata": {},
   "source": [
    "* GROUP BY: The GROUP BY clause is used to organize data into groups based on certain columns. It is run after the WHERE clause and constructs groups depending on the values of the columns given.\n",
    "\n",
    "* HAVING: The HAVING clause is used to filter the GROUP BY clause's groups depending on particular requirements. It is run after the GROUP BY clause and removes any groups that do not fit the set criteria."
   ]
  },
  {
   "cell_type": "markdown",
   "id": "5181f188",
   "metadata": {},
   "source": [
    "* The SELECT clause is used to specify which columns will be included in the query results. It is run after the HAVING clause and provides the query's final output columns.\n",
    "\n",
    "* ORDER BY: The ORDER BY phrase is used to order data according to certain columns. It runs after the SELECT clause and organizes the results according to the values of the supplied columns."
   ]
  },
  {
   "cell_type": "markdown",
   "id": "b0b8b8da",
   "metadata": {},
   "source": [
    "* The LIMIT clause is used to restrict the number of rows returned by the query. It is run after the ORDER BY clause and restricts the amount of rows in the query's final result.\n",
    "\n",
    "It's worth noting that not all of these clauses are necessary in every query, and some may be optional or removed based on the query's unique requirements. Nonetheless, this is the normal execution order for a typical SQL query containing all of these clauses."
   ]
  },
  {
   "cell_type": "markdown",
   "id": "fe5f2d7d",
   "metadata": {},
   "source": [
    "## Thank You"
   ]
  },
  {
   "cell_type": "code",
   "execution_count": null,
   "id": "ead9225f",
   "metadata": {},
   "outputs": [],
   "source": []
  }
 ],
 "metadata": {
  "kernelspec": {
   "display_name": "Python 3 (ipykernel)",
   "language": "python",
   "name": "python3"
  },
  "language_info": {
   "codemirror_mode": {
    "name": "ipython",
    "version": 3
   },
   "file_extension": ".py",
   "mimetype": "text/x-python",
   "name": "python",
   "nbconvert_exporter": "python",
   "pygments_lexer": "ipython3",
   "version": "3.9.12"
  }
 },
 "nbformat": 4,
 "nbformat_minor": 5
}
