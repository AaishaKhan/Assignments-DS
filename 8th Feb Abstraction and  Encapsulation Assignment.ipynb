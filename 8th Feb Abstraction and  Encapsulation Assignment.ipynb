{
 "cells": [
  {
   "cell_type": "markdown",
   "id": "716a2afa",
   "metadata": {},
   "source": [
    "# 8th feb Assignment 2023"
   ]
  },
  {
   "cell_type": "markdown",
   "id": "f61113eb",
   "metadata": {},
   "source": [
    "# * Abstraction and Encapsulation\n"
   ]
  },
  {
   "cell_type": "markdown",
   "id": "c1f145fb",
   "metadata": {},
   "source": [
    "### Q1. What is Abstraction in OOps? Explain with an example.\n"
   ]
  },
  {
   "cell_type": "markdown",
   "id": "cfe1af85",
   "metadata": {},
   "source": [
    "In Object-Oriented Programming, abstraction is a key notion (OOP). It is the process of concealing a class's implementation details and just displaying relevant information to the user. The goal of abstraction is to simplify large systems by breaking them down into smaller, more manageable components and making those components easier to utilise."
   ]
  },
  {
   "cell_type": "markdown",
   "id": "bbe4618c",
   "metadata": {},
   "source": [
    "* Abstraction in OOP is accomplished through the usage of abstract classes and interfaces. An abstract class is one that can have both abstract and non-abstract methods and cannot be instantiated. An abstract method is one that does not have an implementation and must be overridden by subclasses. Interfaces are similar to abstract classes in that only abstract methods can be included within them."
   ]
  },
  {
   "cell_type": "code",
   "execution_count": 1,
   "id": "045c44e0",
   "metadata": {},
   "outputs": [
    {
     "name": "stdout",
     "output_type": "stream",
     "text": [
      "Dog is running.\n",
      "Bird is flying.\n"
     ]
    }
   ],
   "source": [
    "# Creating an abstract class\n",
    "from abc import ABC, abstractmethod\n",
    "\n",
    "class Animal(ABC):\n",
    "    @abstractmethod\n",
    "    def move(self):\n",
    "        pass\n",
    "\n",
    "# Creating a concrete class that inherits from the abstract class\n",
    "class Dog(Animal):\n",
    "    def move(self):\n",
    "        print(\"Dog is running.\")\n",
    "\n",
    "# Creating a concrete class that inherits from the abstract class\n",
    "class Bird(Animal):\n",
    "    def move(self):\n",
    "        print(\"Bird is flying.\")\n",
    "\n",
    "# Using the concrete classes\n",
    "my_dog = Dog()\n",
    "my_dog.move()  # Output: \"Dog is running.\"\n",
    "\n",
    "my_bird = Bird()\n",
    "my_bird.move()  # Output: \"Bird is flying.\"\n"
   ]
  },
  {
   "cell_type": "markdown",
   "id": "41e9a0a2",
   "metadata": {},
   "source": [
    "### Q2. Differentiate between Abstraction and Encapsulation. Explain with an example."
   ]
  },
  {
   "cell_type": "markdown",
   "id": "3992363e",
   "metadata": {},
   "source": [
    "Abstraction and encapsulation are two important ideas in Object-Oriented Programming (OOP). Whilst these two notions are closely linked and frequently used interchangeably, they have significant variances."
   ]
  },
  {
   "cell_type": "markdown",
   "id": "c8a6cd5a",
   "metadata": {},
   "source": [
    "* Abstraction is the technique of concealing a class's implementation details and displaying just the necessary information to the user. It is a method of breaking down large systems into smaller, more manageable bits in order to simplify them. Abstract classes and interfaces are used to accomplish abstraction."
   ]
  },
  {
   "cell_type": "markdown",
   "id": "a2fe3361",
   "metadata": {},
   "source": [
    "* Encapsulation is the technique of concealing an object's interior characteristics from the outer world. It entails encapsulating the data and the procedures that act on it in a single unit and preventing access to the data from outside the unit. Encapsulation is accomplished by using access modifiers such as public, private, and protected."
   ]
  },
  {
   "cell_type": "code",
   "execution_count": 2,
   "id": "7c31a71f",
   "metadata": {},
   "outputs": [
    {
     "name": "stdout",
     "output_type": "stream",
     "text": [
      "Dog is running.\n",
      "Bird is flying.\n"
     ]
    }
   ],
   "source": [
    "# Example of Abstraction\n",
    "from abc import ABC, abstractmethod\n",
    "\n",
    "class Animal(ABC):\n",
    "    @abstractmethod\n",
    "    def move(self):\n",
    "        pass\n",
    "\n",
    "class Dog(Animal):\n",
    "    def move(self):\n",
    "        print(\"Dog is running.\")\n",
    "\n",
    "class Bird(Animal):\n",
    "    def move(self):\n",
    "        print(\"Bird is flying.\")\n",
    "\n",
    "my_dog = Dog()\n",
    "my_dog.move()  # Output: \"Dog is running.\"\n",
    "\n",
    "my_bird = Bird()\n",
    "my_bird.move()  # Output: \"Bird is flying.\"\n"
   ]
  },
  {
   "cell_type": "markdown",
   "id": "7c471d05",
   "metadata": {},
   "source": [
    "### Q3. What is abc module in python? Why is it used?"
   ]
  },
  {
   "cell_type": "markdown",
   "id": "544d42bf",
   "metadata": {},
   "source": [
    "* Encapsulation is the technique of concealing an object's interior characteristics from the outer world. It entails encapsulating the data and the procedures that act on it in a single unit and preventing access to the data from outside the unit. Encapsulation is accomplished by using access modifiers such as public, private, and protected."
   ]
  },
  {
   "cell_type": "markdown",
   "id": "ebb5c9ac",
   "metadata": {},
   "source": [
    "* In Python, the abc module is used to implement the idea of abstract base classes. This module includes the ABC class, which may be used to define abstract base classes as a base class. Methods can be designated as abstract by inheriting from the ABC class and using the @abstractmethod decorator, indicating that they must be implemented by subclasses."
   ]
  },
  {
   "cell_type": "markdown",
   "id": "dd611aa6",
   "metadata": {},
   "source": [
    "* The abc module is very useful for establishing interfaces or APIs, where a collection of methods that must be implemented by distinct classes must be specified. It is possible to build a common interface that can be used by many implementations by utilising abstract base classes, which can be beneficial for developing more general code that can operate with diverse objects that have a similar set of functions."
   ]
  },
  {
   "cell_type": "markdown",
   "id": "39e6ffde",
   "metadata": {},
   "source": [
    "* In summary, Python's abc module is used to construct abstract base classes, which allow the declaration of a set of methods that subclasses must implement. This is handy for building interfaces or APIs that can be used by several classes, as well as for developing more general code that can interact with multiple objects that share a similar set of methods."
   ]
  },
  {
   "cell_type": "markdown",
   "id": "990594dc",
   "metadata": {},
   "source": [
    "### Q4. How can we achieve data abstraction?"
   ]
  },
  {
   "cell_type": "markdown",
   "id": "d3c27d44",
   "metadata": {},
   "source": [
    "Data abstraction is a notion in object-oriented programming that allows the user to see only the essential information while masking implementation specifics. It is accomplished by creating classes that give a well-defined user interface while obscuring the intricacies of how data is saved and handled.\n",
    "\n",
    "These are several Python methods for achieving data abstraction:"
   ]
  },
  {
   "cell_type": "markdown",
   "id": "a2d38f69",
   "metadata": {},
   "source": [
    "* Encapsulation is a means of grouping data and procedures that operate on that data into a single unit, such as a class. Encapsulation may be achieved in Python by keeping data members private by prefixing them with a double underscore (e.g., __data member) and giving public methods to access and alter them."
   ]
  },
  {
   "cell_type": "markdown",
   "id": "9ed761b1",
   "metadata": {},
   "source": [
    "* Abstract Base Classes: Python includes the abc module for defining abstract basis classes. An abstract base class provides a set of methods that all of its subclasses must implement, but it does not offer an implementation for those methods. This lets the user to interact with the data using the methods specified by the abstract base class without having to worry about implementation specifics."
   ]
  },
  {
   "cell_type": "markdown",
   "id": "b5eaf4a1",
   "metadata": {},
   "source": [
    "* Data Hiding: Data hiding is a method that allows a class's data members to be hidden from the outside world. In Python, you can hide data by using the private access modifier or by prefixing the data member with a single underscore (e.g., _data member). This makes it more difficult for users to mistakenly change the data, resulting in more dependable programming."
   ]
  },
  {
   "cell_type": "markdown",
   "id": "f4581188",
   "metadata": {},
   "source": [
    "* Polymorphism is the ability of an item to take on several forms. Polymorphism is performed in Python by declaring methods in a base class that may be overridden in subclasses. This lets the same method name to be used in many classes with various implementations, making it easier to interact with different sorts of data without worrying about the underlying details."
   ]
  },
  {
   "cell_type": "markdown",
   "id": "b6d28cd7",
   "metadata": {},
   "source": [
    "### Q5. Can we create an instance of an abstract class? Explain your answer."
   ]
  },
  {
   "cell_type": "markdown",
   "id": "ed8a946b",
   "metadata": {},
   "source": [
    "With Python or any other object-oriented programming language, we cannot make an instance of an abstract class. A class that has one or more abstract methods, which are methods with a declaration but no implementation, is referred to as an abstract class."
   ]
  },
  {
   "cell_type": "markdown",
   "id": "ddee8f42",
   "metadata": {},
   "source": [
    "* An abstract class's aim is to offer a standard interface for its subclasses, which must implement the abstract methods in order to provide their own implementation. An abstract class itself cannot be instantiated, because it is not completely implemented and does not give enough information to construct an object."
   ]
  },
  {
   "cell_type": "markdown",
   "id": "025a1758",
   "metadata": {},
   "source": [
    "* An abstract class is constructed in Python using the abc module and the ABC class, which is a particular class that allows you to build abstract classes. We use the @abstractmethod decorator to indicate that a method is abstract and must be implemented by the subclass to establish an abstract method."
   ]
  },
  {
   "cell_type": "code",
   "execution_count": 3,
   "id": "21ae906f",
   "metadata": {},
   "outputs": [],
   "source": [
    "import abc\n",
    "\n",
    "class Animal(metaclass=abc.ABCMeta):\n",
    "    @abc.abstractmethod\n",
    "    def make_sound(self):\n",
    "        pass\n"
   ]
  },
  {
   "cell_type": "markdown",
   "id": "637bd887",
   "metadata": {},
   "source": [
    "Animal in this example is an abstract class with one abstract method named make sound. This method does not have an implementation, but rather acts as a statement that any Animal subclass must supply their own.\n",
    "\n",
    "When we try to create an instance of Animal, we receive the following error:"
   ]
  },
  {
   "cell_type": "code",
   "execution_count": 4,
   "id": "765dc08f",
   "metadata": {},
   "outputs": [
    {
     "ename": "TypeError",
     "evalue": "Can't instantiate abstract class Animal with abstract method make_sound",
     "output_type": "error",
     "traceback": [
      "\u001b[1;31m---------------------------------------------------------------------------\u001b[0m",
      "\u001b[1;31mTypeError\u001b[0m                                 Traceback (most recent call last)",
      "Input \u001b[1;32mIn [4]\u001b[0m, in \u001b[0;36m<cell line: 1>\u001b[1;34m()\u001b[0m\n\u001b[1;32m----> 1\u001b[0m a \u001b[38;5;241m=\u001b[39m \u001b[43mAnimal\u001b[49m\u001b[43m(\u001b[49m\u001b[43m)\u001b[49m\n",
      "\u001b[1;31mTypeError\u001b[0m: Can't instantiate abstract class Animal with abstract method make_sound"
     ]
    }
   ],
   "source": [
    "a = Animal() # TypeError: Can't instantiate abstract class Animal with abstract methods make_sound\n"
   ]
  },
  {
   "cell_type": "markdown",
   "id": "59d056c2",
   "metadata": {},
   "source": [
    "Because Animal is an abstract class that cannot be created, this error occurs. We can only make instances of its concrete subclasses, which implement the abstract methods on their own."
   ]
  },
  {
   "cell_type": "markdown",
   "id": "dd257f3b",
   "metadata": {},
   "source": [
    "* To summarise, we cannot build an abstract class instance in Python since it is not completely implemented and does not supply enough information to generate an object. An abstract class's aim is to offer a standard interface for its subclasses, which must implement the abstract methods in order to provide their own implementation."
   ]
  },
  {
   "cell_type": "markdown",
   "id": "2b3c8c67",
   "metadata": {},
   "source": [
    "## Thank You"
   ]
  }
 ],
 "metadata": {
  "kernelspec": {
   "display_name": "Python 3 (ipykernel)",
   "language": "python",
   "name": "python3"
  },
  "language_info": {
   "codemirror_mode": {
    "name": "ipython",
    "version": 3
   },
   "file_extension": ".py",
   "mimetype": "text/x-python",
   "name": "python",
   "nbconvert_exporter": "python",
   "pygments_lexer": "ipython3",
   "version": "3.9.12"
  }
 },
 "nbformat": 4,
 "nbformat_minor": 5
}
