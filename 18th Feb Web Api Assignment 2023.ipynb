{
 "cells": [
  {
   "cell_type": "markdown",
   "id": "d9adb15f",
   "metadata": {},
   "source": [
    "# 18th Feb Assignment 2023\n"
   ]
  },
  {
   "cell_type": "markdown",
   "id": "4904c32f",
   "metadata": {},
   "source": [
    "## Web Api\n"
   ]
  },
  {
   "cell_type": "markdown",
   "id": "c54c57b1",
   "metadata": {},
   "source": [
    "#### Q1. What is an API? Give an example, where an API is used in real life"
   ]
  },
  {
   "cell_type": "markdown",
   "id": "b3f95c10",
   "metadata": {},
   "source": [
    "An API (Application Programming Interface) is a set of protocols, procedures, and tools that govern how software components should communicate with one another. It basically allows various software systems to connect with one another."
   ]
  },
  {
   "cell_type": "markdown",
   "id": "a5fe3782",
   "metadata": {},
   "source": [
    "* When you use a weather app or website to check the current temperature in your city, you are utilising an API. To get temperature data, the app or website is most likely using an API offered by a weather data source, such as OpenWeatherMap or The Weather Company."
   ]
  },
  {
   "cell_type": "markdown",
   "id": "3343894a",
   "metadata": {},
   "source": [
    "* The API enables the weather data supplier to share their data with the app or website, which may subsequently display the user's temperature. Without the API, the app or website would have to collect the temperature data on its own, which would take a significant amount of time and resources."
   ]
  },
  {
   "cell_type": "markdown",
   "id": "99d1e2c9",
   "metadata": {},
   "source": [
    "#### Q2. Give advantages and disadvantages of using API."
   ]
  },
  {
   "cell_type": "markdown",
   "id": "b9f65a0e",
   "metadata": {},
   "source": [
    "##### The following are the benefits of utilising API:\n",
    "\n",
    "* APIs allow software programmes to communicate with one another in a standardised manner, which can increase efficiency by minimising the amount of manual intervention necessary.\n",
    "\n",
    "* APIs enable developers to incorporate functionality from other software systems into their own applications, giving end users greater capability and flexibility."
   ]
  },
  {
   "cell_type": "markdown",
   "id": "093dfcd0",
   "metadata": {},
   "source": [
    "* Cost Savings: By offering pre-built functionality that can be readily incorporated into new applications, APIs can cut development costs and time to market for new software applications.\n",
    "\n",
    "    \n",
    "* APIs can encourage innovation by allowing developers to create new apps and services that build on top of current software systems.\n",
    "\n",
    "\n",
    "* APIs can assist to improve user experience by allowing software programmes to connect with one another and share data in real time."
   ]
  },
  {
   "cell_type": "markdown",
   "id": "f9c011f6",
   "metadata": {},
   "source": [
    "##### The following are the disadvantages of utilising API:\n",
    "\n",
    "* Security Risks: If APIs are not adequately protected, they might expose critical data and functionality to unauthorised users, posing a security risk.\n",
    "\n",
    "* APIs can generate dependence on external systems, which might be a negative if those services have outage or performance difficulties."
   ]
  },
  {
   "cell_type": "markdown",
   "id": "4abe5004",
   "metadata": {},
   "source": [
    "* APIs may be difficult to create and manage, especially when working with several APIs from various suppliers.\n",
    "\n",
    "* Integration Difficulties: APIs may not always simply connect with current software applications, necessitating additional development work.\n",
    "\n",
    "* APIs may not always deliver the functionality that developers want, limiting their ability to create new apps and services."
   ]
  },
  {
   "cell_type": "markdown",
   "id": "7e60b12b",
   "metadata": {},
   "source": [
    "#### Q3. What is a Web API? Differentiate between API and Web API"
   ]
  },
  {
   "cell_type": "markdown",
   "id": "acb217b1",
   "metadata": {},
   "source": [
    "* A Web API (Application Programming Interface) is an API that is especially built for usage via the internet, often over the HTTP protocol. It enables various software systems to connect with one another using web-based technologies such as REST (Representational State Transfer) or SOAP (Simple Object Access Protocol). Web APIs enable software programmes to communicate with online services and gain access to resources such as databases, files, and other services."
   ]
  },
  {
   "cell_type": "markdown",
   "id": "f9a702bd",
   "metadata": {},
   "source": [
    "* The primary distinction between API and Web API is that an API may be used for any form of software system, but a Web API is built exclusively for usage via the internet. APIs can be used for a wide range of software applications, including desktop, mobile, and embedded systems, however Web APIs are just for web-based applications."
   ]
  },
  {
   "cell_type": "markdown",
   "id": "1224c50c",
   "metadata": {},
   "source": [
    "* While both APIs and Web APIs enable software systems to connect with one another, Web APIs are especially built for usage via the internet and are often used to access web-based resources such as databases, files, and other services."
   ]
  },
  {
   "cell_type": "markdown",
   "id": "eefdf5db",
   "metadata": {},
   "source": [
    "#### Q4. Explain REST and SOAP Architecture. Mention shortcomings of SOAP"
   ]
  },
  {
   "cell_type": "markdown",
   "id": "71982959",
   "metadata": {},
   "source": [
    "REST (Representational State Transfer) and SOAP (Simple Object Access Protocol) are two popular architectural paradigms for developing online services."
   ]
  },
  {
   "cell_type": "markdown",
   "id": "fe300dfb",
   "metadata": {},
   "source": [
    "* REST architecture is a type of web architecture that uses the HTTP protocol to request and transport data between web servers and clients. RESTful services offer a consistent interface for accessing and altering resources using HTTP methods like GET, POST, PUT, DELETE, and so on. RESTful services are stateless, which means that each request provides all of the information needed to process it, and the server does not keep any session data."
   ]
  },
  {
   "cell_type": "markdown",
   "id": "9ef827ea",
   "metadata": {},
   "source": [
    "* In contrast, SOAP architecture is a protocol-based architecture for transmitting structured information between online services. SOAP messages are often sent through HTTP, SMTP, or TCP protocols and are structured in XML format. SOAP services are often implemented using a contract-first method, which implies that the service contract, including messages and data formats, is established prior to implementation.* "
   ]
  },
  {
   "cell_type": "markdown",
   "id": "cac91575",
   "metadata": {},
   "source": [
    "The intricacy of SOAP architecture is one of its major flaws. SOAP messages may be lengthy and difficult to understand, and the protocol itself can be challenging to deploy and maintain. SOAP services, on average, need more overhead and processing resources than RESTful services, making them less efficient for some types of applications. Moreover, SOAP services are less flexible than RESTful services since they necessitate a rigid contract between the service and the client."
   ]
  },
  {
   "cell_type": "markdown",
   "id": "71e18b63",
   "metadata": {},
   "source": [
    ": While both REST and SOAP have advantages and disadvantages, RESTful services have grown in popularity because to their simplicity, flexibility, and efficiency, making them a popular choice for developing web services."
   ]
  },
  {
   "cell_type": "markdown",
   "id": "9199b0fd",
   "metadata": {},
   "source": [
    "#### Q5. Differentiate between REST and SOAP"
   ]
  },
  {
   "cell_type": "markdown",
   "id": "1db7cfb0",
   "metadata": {},
   "source": [
    "REST (Representational State Transfer) and SOAP (Simple Object Access Protocol) are two architectural paradigms often utilised in the development of online services. Here are some important distinctions between REST and SOAP:"
   ]
  },
  {
   "cell_type": "markdown",
   "id": "fb052ece",
   "metadata": {},
   "source": [
    "1. REST is commonly implemented using the HTTP protocol, although SOAP may be used with a number of communication protocols including HTTP, SMTP, and TCP.\n",
    "\n",
    "2. REST often employs lightweight data formats such as JSON (JavaScript Object Notation) or XML (eXtensible Markup Language) for data delivery, whereas SOAP only uses XML."
   ]
  },
  {
   "cell_type": "markdown",
   "id": "be13870e",
   "metadata": {},
   "source": [
    "3. REST is a client-server architecture in which the client and server communicate via standard HTTP techniques, whereas SOAP is a distributed computing architecture in which messages are exchanged between clients and servers.\n",
    "\n",
    "4. Message Size: As compared to SOAP, REST often employs smaller message sizes, which can result in quicker transfer times and lower overhead."
   ]
  },
  {
   "cell_type": "markdown",
   "id": "08974add",
   "metadata": {},
   "source": [
    "5. REST is more versatile than SOAP since it supports numerous data formats and can be readily linked with other web services. SOAP, on the other hand, has a more rigorous structure and necessitates a precise contract between the service provider and the client.\n",
    "\n",
    "6. Caching: REST provides resource caching, which can increase performance and reduce server load, but SOAP does not.\n",
    "\n",
    "* Ultimately, both REST and SOAP have advantages and disadvantages, and the decision between the two is determined by the application's unique requirements. REST is commonly used for lightweight and flexible applications, but SOAP is better suited for sophisticated distributed computing settings where dependability and security are crucial.\n",
    "\n",
    "\n",
    "\n"
   ]
  },
  {
   "cell_type": "markdown",
   "id": "092f6ace",
   "metadata": {},
   "source": [
    "## Thank You"
   ]
  },
  {
   "cell_type": "code",
   "execution_count": null,
   "id": "539ed0ce",
   "metadata": {},
   "outputs": [],
   "source": []
  }
 ],
 "metadata": {
  "kernelspec": {
   "display_name": "Python 3 (ipykernel)",
   "language": "python",
   "name": "python3"
  },
  "language_info": {
   "codemirror_mode": {
    "name": "ipython",
    "version": 3
   },
   "file_extension": ".py",
   "mimetype": "text/x-python",
   "name": "python",
   "nbconvert_exporter": "python",
   "pygments_lexer": "ipython3",
   "version": "3.9.12"
  }
 },
 "nbformat": 4,
 "nbformat_minor": 5
}
