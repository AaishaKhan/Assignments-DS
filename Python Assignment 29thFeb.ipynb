{
 "cells": [
  {
   "cell_type": "markdown",
   "id": "0f563040",
   "metadata": {},
   "source": [
    "##### Q1- Who Developed Python Programming?\n",
    ":- Python was created by Guido Van Rossum, and first released on February 20,1991.\n"
   ]
  },
  {
   "cell_type": "markdown",
   "id": "cd237760",
   "metadata": {},
   "source": [
    "##### Q2- which type of programming does python support?\n",
    "\n",
    ":-Python is a multi-paradigm programming language. And it supports Imperative, Functional, Procedural and Object-Oriented Programming."
   ]
  },
  {
   "cell_type": "markdown",
   "id": "45729694",
   "metadata": {},
   "source": [
    "#### Q3- Is Python is case sensitive when dealing with identifiers?\n",
    "\n",
    ":- Yes, Python is a case-sensitive language, because it differentiates between Upercase and Lowercase character during execution.\n",
    "* Python treats two terms differently if there case are change, even though the characters are same, and if we try to retrive the value we get an error.!!"
   ]
  },
  {
   "cell_type": "markdown",
   "id": "b411cfc3",
   "metadata": {},
   "source": [
    "#### Q4. what is correct extension of python file?\n",
    "\n",
    ":-Python is a general-purpose programming language, which means that, unlike HTML, CSS, and JavaScript, it can be used for more than only web development.\n",
    "\n",
    "* Python file extensions are:-\n",
    "\n",
    ".py\n",
    ".pyi\n",
    ".pyc\n",
    ".pyd\n",
    ".pyo\n",
    ".pyw\n",
    ".pyz"
   ]
  },
  {
   "cell_type": "markdown",
   "id": "d2882964",
   "metadata": {},
   "source": [
    "#### Q5. Is Python code compiled or interpreted?\n",
    "\n",
    ":-Python is an interpreted language, which means that the source code of a Python programme is translated into bytecode before being run by the Python virtual machine. Python differs from major compiled languages such as C and C + + in that Python code does not need to be generated and linked like code for these languages."
   ]
  },
  {
   "cell_type": "markdown",
   "id": "e8d71ca5",
   "metadata": {},
   "source": [
    "#### Q6. name a few blocks of code to define in python programming language?\n",
    "\n",
    ":-Functions: Functions were blocks of code that accomplish a specific purpose and can be repeated throughout a programme. They are declared with the \"def\" keyword, followed by the function name in parentheses and the function parameters.\n",
    "\n",
    "* Conditional statements: used to regulate the program's flow based on particular criteria.\n",
    "* Loops: Are code blocks that loop a set of commands a given number of times either until a specific condition is fulfilled. In Python, there are two sorts of loops: \"for\" loops and \"while\" loops.\n",
    "* Classes and objects: to define custom data types and create objects of that type."
   ]
  },
  {
   "cell_type": "markdown",
   "id": "305594b2",
   "metadata": {},
   "source": [
    "#### Q7. state character to give single line comment in python?\n",
    "\n",
    ":- In Python, comments are denoted by the hash symbol (#) and extend to the end of the line."
   ]
  },
  {
   "cell_type": "markdown",
   "id": "b12eb48c",
   "metadata": {},
   "source": [
    "#### Q8. find functions that can help to find versions of python?\n",
    "\n",
    ":- The function sys.version can assist us determine the Python version we're presently working on. For instance, 3.5.2, 2.7.3, and so on. This method also returns the current date, time, bits, and other information."
   ]
  },
  {
   "cell_type": "markdown",
   "id": "26fe1818",
   "metadata": {},
   "source": [
    "#### Q9.Python supports the creation of anonymous functions atruntime, using a construct called __________________\n",
    "\n",
    ":-called \"lambda\""
   ]
  },
  {
   "cell_type": "markdown",
   "id": "c8776841",
   "metadata": {},
   "source": [
    " #### Q10.what does pip stand for python?\n",
    " \n",
    " :-pip stands for \"preferred installer program\".\n",
    "\n"
   ]
  },
  {
   "cell_type": "markdown",
   "id": "ae325807",
   "metadata": {},
   "source": [
    "#### Q11. Mention few built in functions in python?\n",
    "\n",
    ":- type( ) function.\n",
    "* input( ) function.\n",
    "* print() function.\n",
    "* dict() function.\n",
    "* len() function.\n",
    "* list() function.\n",
    "* pow() function.\n",
    "* slice() function."
   ]
  },
  {
   "cell_type": "markdown",
   "id": "985d3164",
   "metadata": {},
   "source": [
    "#### Q12. maximum possible length of an identifier in python?\n",
    "\n",
    ":- In Python, an identifier can be up to 79 characters long."
   ]
  },
  {
   "cell_type": "markdown",
   "id": "0fcb7f13",
   "metadata": {},
   "source": [
    "#### Q13. benefits of using python?\n",
    "\n",
    ":- * Easy-to-learn and Easy-to-use!:\n",
    "        Python's syntax is comparable to that of the English language, making it exceedingly straightforward and simple for         anybody to read and understand its scripts.\n",
    "\n",
    "* Improves Productivity:\n",
    "    Another advantage of Python is that it is a very productive language, and because of its simplicity, Python programmers     can easily focus on problem solutions.\n",
    "\n",
    "* Interpreted Language:\n",
    "   Python, being an interpreted language, may run the code one line at a time. Furthermore, if a mistake occurs, rather        than continuing with the execution, it reports the problem that happened.\n",
    "   \n",
    "* Open-source:\n",
    "   Python has an open-source license and is available for users for free, allowing you to easily distribute it.\n",
    "   \n",
    "* Massive Libraries:\n",
    "   Python's standard library is extensive, and you can find all of the functions you need for any given task here. Python      is now independent of external libraries.\n",
    "   \n",
    "   "
   ]
  },
  {
   "cell_type": "markdown",
   "id": "e71cf2db",
   "metadata": {},
   "source": [
    "#### Q14. How is Memory Management in Python? \n",
    "\n",
    ":-Python's memory is handled by the Python private heap area. Python objects and data structures are all stored in their own heap. This private heap is managed by the Python Interpreter, and a programmer does not have access to it.\n",
    "* Python memory manager takes care of the allocation of Python private heap space.\n",
    "* Python's in-built garbage collector, which recycles and frees up all unneeded memory, makes RAM for Python private heap space accessible."
   ]
  },
  {
   "cell_type": "markdown",
   "id": "b11e2a0f",
   "metadata": {},
   "source": [
    "#### Q15. How to install Python on Windows and set path variables?\n",
    "\n",
    ":- Python should be added to the Windows path.\n",
    "After downloading Python, we must first determine where it is installed.\n",
    "* Click on open file location and you will be in a location where Python is installed, Copy the location path from the top by clicking over it.\n",
    "* Now, we have to add the above-copied path as a variable so that windows can recognize. Search for “Environmental Variable: There will be two categories namely “User” and “System”, we have to add it in Users, click on New button in the User section. Now, add a Variable Name and Path which we copied previously and click OK.\n",
    "\n",
    "* Check if the Environment variable is set or not- to do this open CMD and type Python. If the environment variable is set then the Python command will run otherwise not."
   ]
  },
  {
   "cell_type": "markdown",
   "id": "06d28b54",
   "metadata": {},
   "source": [
    "#### Q16. Is indentation required In python?\n",
    "\n",
    ":- Yes!In Python, indentation is essential to specify code blocks and scope. It is an important feature of the Python   syntax and is used to signify the beginning and end of code blocks. The amount of spaces used for indentation is left to  the programmer, although for uniformity among the Python community, 4 spaces per level of indentation is suggested."
   ]
  },
  {
   "cell_type": "markdown",
   "id": "bea1285c",
   "metadata": {},
   "source": [
    "### Thank you"
   ]
  }
 ],
 "metadata": {
  "kernelspec": {
   "display_name": "Python 3 (ipykernel)",
   "language": "python",
   "name": "python3"
  },
  "language_info": {
   "codemirror_mode": {
    "name": "ipython",
    "version": 3
   },
   "file_extension": ".py",
   "mimetype": "text/x-python",
   "name": "python",
   "nbconvert_exporter": "python",
   "pygments_lexer": "ipython3",
   "version": "3.9.12"
  }
 },
 "nbformat": 4,
 "nbformat_minor": 5
}
