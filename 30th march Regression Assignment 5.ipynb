{
 "cells": [
  {
   "cell_type": "markdown",
   "id": "86d49ee3",
   "metadata": {},
   "source": [
    "# 30th march Assignment 2023"
   ]
  },
  {
   "cell_type": "markdown",
   "id": "8df89a39",
   "metadata": {},
   "source": [
    "# Regression-5"
   ]
  },
  {
   "cell_type": "code",
   "execution_count": null,
   "id": "a1f3bb7b",
   "metadata": {},
   "outputs": [],
   "source": [
    "Q What is Elastic Net Regression and how does it differ from other regression techniques?"
   ]
  },
  {
   "cell_type": "code",
   "execution_count": null,
   "id": "a1b49a4f",
   "metadata": {},
   "outputs": [],
   "source": [
    "Q How do you choose the optimal values of the regularization parameters for Elastic Net Regression?"
   ]
  },
  {
   "cell_type": "code",
   "execution_count": null,
   "id": "8a5c3547",
   "metadata": {},
   "outputs": [],
   "source": [
    "Q What are the advantages and disadvantages of Elastic Net Regression?"
   ]
  },
  {
   "cell_type": "code",
   "execution_count": null,
   "id": "4f7043f9",
   "metadata": {},
   "outputs": [],
   "source": [
    "Q What are some common use cases for Elastic Net Regression?"
   ]
  },
  {
   "cell_type": "code",
   "execution_count": null,
   "id": "ad8884c6",
   "metadata": {},
   "outputs": [],
   "source": [
    "Q How do you interpret the coefficients in Elastic Net Regression?"
   ]
  },
  {
   "cell_type": "code",
   "execution_count": null,
   "id": "f531e21d",
   "metadata": {},
   "outputs": [],
   "source": [
    "Q How do you handle missing values when using Elastic Net Regression?"
   ]
  },
  {
   "cell_type": "code",
   "execution_count": null,
   "id": "aa787a1e",
   "metadata": {},
   "outputs": [],
   "source": [
    "Q How do you use Elastic Net Regression for feature selection?"
   ]
  },
  {
   "cell_type": "code",
   "execution_count": null,
   "id": "2e2915ce",
   "metadata": {},
   "outputs": [],
   "source": [
    "Q How do you pickle and unpickle a trained Elastic Net Regression model in Python?"
   ]
  },
  {
   "cell_type": "code",
   "execution_count": null,
   "id": "c31861a0",
   "metadata": {},
   "outputs": [],
   "source": [
    "Q What is the purpose of pickling a model in machine learning?"
   ]
  },
  {
   "cell_type": "code",
   "execution_count": null,
   "id": "16f9d31d",
   "metadata": {},
   "outputs": [],
   "source": [
    "Q "
   ]
  },
  {
   "cell_type": "code",
   "execution_count": null,
   "id": "7a91fedb",
   "metadata": {},
   "outputs": [],
   "source": []
  }
 ],
 "metadata": {
  "kernelspec": {
   "display_name": "Python 3 (ipykernel)",
   "language": "python",
   "name": "python3"
  },
  "language_info": {
   "codemirror_mode": {
    "name": "ipython",
    "version": 3
   },
   "file_extension": ".py",
   "mimetype": "text/x-python",
   "name": "python",
   "nbconvert_exporter": "python",
   "pygments_lexer": "ipython3",
   "version": "3.9.12"
  }
 },
 "nbformat": 4,
 "nbformat_minor": 5
}
