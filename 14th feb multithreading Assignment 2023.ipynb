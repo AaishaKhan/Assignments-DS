{
 "cells": [
  {
   "cell_type": "markdown",
   "id": "205db551",
   "metadata": {},
   "source": [
    "# 14th feb Assignment 2023"
   ]
  },
  {
   "cell_type": "markdown",
   "id": "ecd84c41",
   "metadata": {},
   "source": [
    "# Multithreading"
   ]
  },
  {
   "cell_type": "markdown",
   "id": "f8812b3c",
   "metadata": {},
   "source": [
    "## Q1. What is multithreading in python? why is it used? Name the module used to handle threads in python."
   ]
  },
  {
   "cell_type": "markdown",
   "id": "409d6541",
   "metadata": {},
   "source": [
    "* Multithreading in Python is a technique in which multiple threads in a process share their data space with the main thread, allowing multiple tasks to be executed concurrently within the same program. In simple terms, a thread is a separate flow of execution that runs concurrently with other threads."
   ]
  },
  {
   "cell_type": "markdown",
   "id": "406cd9ad",
   "metadata": {},
   "source": [
    "* Multithreading is used in Python to improve the performance of applications that involve CPU-bound or I/O-bound tasks. By running multiple threads concurrently, the program can make better use of the available resources and reduce the overall execution time."
   ]
  },
  {
   "cell_type": "markdown",
   "id": "644c3f79",
   "metadata": {},
   "source": [
    "* Python provides a built-in module called \"threading\" to handle threads. The \"threading\" module allows programmers to create and manage threads, set priorities for threads, synchronize access to shared resources, and more. The module provides a simple and intuitive interface for working with threads, making it easy to write multithreaded programs in Python."
   ]
  },
  {
   "cell_type": "markdown",
   "id": "24a55fe2",
   "metadata": {},
   "source": [
    "## Q2. Why threading module used? write the use of the following functions: activeCount(), currentThread(), enumerate()"
   ]
  },
  {
   "cell_type": "markdown",
   "id": "0c1830c0",
   "metadata": {},
   "source": [
    "* The threading module is used in Python to create and manage threads. Threads are lightweight processes that enable parallelism and concurrency in a program. Threads can run concurrently, executing different parts of the code at the same time, which can improve performance and responsiveness."
   ]
  },
  {
   "cell_type": "markdown",
   "id": "d481d289",
   "metadata": {},
   "source": [
    "* The following are the uses of some commonly used functions in the threading module:\n",
    "\n",
    "* activeCount(): This function returns the number of Thread objects that are currently alive. The count of alive threads is equal to the length of the list returned by the enumerate() function. The activeCount() function can be used to monitor the number of active threads in a program."
   ]
  },
  {
   "cell_type": "markdown",
   "id": "d80a2406",
   "metadata": {},
   "source": [
    "* currentThread(): This function returns the current thread object. The current thread object represents the thread that is calling this function. The currentThread() function can be used to identify the thread that is currently executing and perform some operations based on that."
   ]
  },
  {
   "cell_type": "markdown",
   "id": "ef2c26f6",
   "metadata": {},
   "source": [
    "* enumerate(): This function returns a list of all Thread objects that are currently alive. The list contains thread objects for all threads, including the main thread of the program. The enumerate() function can be used to iterate through all the threads in a program and perform some operations based on that."
   ]
  },
  {
   "cell_type": "markdown",
   "id": "b93d9c90",
   "metadata": {},
   "source": [
    "## Q3. Explain the following functions: run(), start(), join(), isAlive()"
   ]
  },
  {
   "cell_type": "markdown",
   "id": "a58d4a13",
   "metadata": {},
   "source": [
    "* run() - This method is called when the thread is started using the start() method. It contains the code that will be executed in the thread."
   ]
  },
  {
   "cell_type": "markdown",
   "id": "db214ab8",
   "metadata": {},
   "source": [
    "* start() - This method starts the thread by calling the run() method. Once the thread is started, it runs concurrently with the main program."
   ]
  },
  {
   "cell_type": "markdown",
   "id": "f6b4c233",
   "metadata": {},
   "source": [
    "* join() - This method blocks the calling thread until the thread being called upon is terminated. This is useful when the calling thread needs to wait for the completion of the target thread."
   ]
  },
  {
   "cell_type": "markdown",
   "id": "16b274c7",
   "metadata": {},
   "source": [
    "* isAlive() - This method returns a boolean value indicating whether the thread is currently running or not. It is typically used to check if the thread is still alive and has not yet completed its task."
   ]
  },
  {
   "cell_type": "markdown",
   "id": "28f67c0d",
   "metadata": {},
   "source": [
    "## Q4. Write a python program to create two threads. Thread one must print the list of squares and thread two must print the list of cubes."
   ]
  },
  {
   "cell_type": "code",
   "execution_count": 1,
   "id": "ba033809",
   "metadata": {},
   "outputs": [
    {
     "name": "stdout",
     "output_type": "stream",
     "text": [
      "1 squared is 1\n",
      "2 squared is 4\n",
      "3 squared is 9\n",
      "4 squared is 16\n",
      "1 cubed is 15 squared is 25\n",
      "\n",
      "2 cubed is 8\n",
      "6 squared is 36\n",
      "3 cubed is 27\n",
      "4 cubed is 64\n",
      "7 squared is 49\n",
      "8 squared is 64\n",
      "5 cubed is 125\n",
      "9 squared is 81\n",
      "10 squared is 100\n",
      "6 cubed is 216\n",
      "7 cubed is 343\n",
      "8 cubed is 512\n",
      "9 cubed is 729\n",
      "10 cubed is 1000\n",
      "Done printing squares and cubes!\n"
     ]
    }
   ],
   "source": [
    "import threading\n",
    "\n",
    "def print_squares():\n",
    "    for i in range(1, 11):\n",
    "        print(f\"{i} squared is {i*i}\")\n",
    "\n",
    "def print_cubes():\n",
    "    for i in range(1, 11):\n",
    "        print(f\"{i} cubed is {i*i*i}\")\n",
    "\n",
    "# create two threads\n",
    "t1 = threading.Thread(target=print_squares)\n",
    "t2 = threading.Thread(target=print_cubes)\n",
    "\n",
    "# start the threads\n",
    "t1.start()\n",
    "t2.start()\n",
    "\n",
    "# wait for the threads to finish\n",
    "t1.join()\n",
    "t2.join()\n",
    "\n",
    "print(\"Done printing squares and cubes!\")\n"
   ]
  },
  {
   "cell_type": "markdown",
   "id": "ec13549f",
   "metadata": {},
   "source": [
    "## Q5. State advantages and disadvantages of multithreading."
   ]
  },
  {
   "cell_type": "markdown",
   "id": "40af6495",
   "metadata": {},
   "source": [
    "Multithreading is a programming technique that allows multiple threads of execution to run simultaneously within a single program. Here are the advantages and disadvantages of using multithreading:"
   ]
  },
  {
   "cell_type": "markdown",
   "id": "15b8a523",
   "metadata": {},
   "source": [
    "* Advantages:\n",
    "\n",
    "* Enhanced Performance: Multithreading can improve program performance by allowing the program to execute multiple tasks simultaneously. This can reduce the overall processing time of the program, resulting in faster execution.\n",
    "\n",
    "\n",
    "* Simplified Coding: Multithreading can simplify program coding, as it allows developers to break down complex tasks into smaller, more manageable pieces. This can make the code easier to read, understand, and maintain."
   ]
  },
  {
   "cell_type": "markdown",
   "id": "76413b98",
   "metadata": {},
   "source": [
    "* Reduced Development Time: Multithreading can reduce development time by allowing developers to write code that is more modular and easier to test."
   ]
  },
  {
   "cell_type": "markdown",
   "id": "87515b54",
   "metadata": {},
   "source": [
    "* Disadvantages:\n",
    "\n",
    "* Careful Synchronization: Multithreading requires careful synchronization to ensure that multiple threads do not attempt to access the same resource at the same time. This can be a complex and error-prone process.\n",
    "\n",
    "    \n",
    "* Consumes Large Space of Blocked Threads: Multithreading can consume a large amount of system resources, especially if threads are blocked waiting for resources to become available."
   ]
  },
  {
   "cell_type": "markdown",
   "id": "5fc0b6a9",
   "metadata": {},
   "source": [
    "* Requires Support for Thread Management: Multithreading requires support for thread management, which may not be available on all platforms or may require additional programming effort."
   ]
  },
  {
   "cell_type": "markdown",
   "id": "1f941168",
   "metadata": {},
   "source": [
    "## Q6. Explain deadlocks and race conditions."
   ]
  },
  {
   "cell_type": "markdown",
   "id": "49a89d8f",
   "metadata": {},
   "source": [
    "* A race condition is a programming issue that happens when two or more threads of execution try to access and manipulate a shared resource concurrently, resulting in unexpected or unpredictable behavior. This can cause data corruption or inconsistencies, as each thread may try to read or write to the resource at the same time, without proper synchronization."
   ]
  },
  {
   "cell_type": "markdown",
   "id": "a60319da",
   "metadata": {},
   "source": [
    "* On the other hand, a deadlock is a scenario in which two or more threads are blocked and unable to proceed, because each of them is waiting for the other to release a resource that they need. This creates a situation where none of the threads can make progress, and the program becomes stuck. Deadlocks often arise when multiple threads compete for limited resources, such as locks or semaphores, without following a proper ordering or acquiring and releasing them in a consistent manner."
   ]
  },
  {
   "cell_type": "markdown",
   "id": "b4b520d9",
   "metadata": {},
   "source": [
    "## Thank You"
   ]
  },
  {
   "cell_type": "code",
   "execution_count": null,
   "id": "2758e7b1",
   "metadata": {},
   "outputs": [],
   "source": []
  }
 ],
 "metadata": {
  "kernelspec": {
   "display_name": "Python 3 (ipykernel)",
   "language": "python",
   "name": "python3"
  },
  "language_info": {
   "codemirror_mode": {
    "name": "ipython",
    "version": 3
   },
   "file_extension": ".py",
   "mimetype": "text/x-python",
   "name": "python",
   "nbconvert_exporter": "python",
   "pygments_lexer": "ipython3",
   "version": "3.9.12"
  }
 },
 "nbformat": 4,
 "nbformat_minor": 5
}
