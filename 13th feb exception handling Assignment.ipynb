{
 "cells": [
  {
   "cell_type": "markdown",
   "id": "90f22251",
   "metadata": {},
   "source": [
    "# 13th feb assignment 2023"
   ]
  },
  {
   "cell_type": "markdown",
   "id": "3120e103",
   "metadata": {},
   "source": [
    "## Q1. Explain why we have to use the Exception class while creating a Custom Exception."
   ]
  },
  {
   "cell_type": "markdown",
   "id": "f563ed18",
   "metadata": {},
   "source": [
    "* In Python, exceptions are used to handle errors and unexpected situations in a program. Custom exceptions allow developers to define their own error messages and conditions to handle specific scenarios."
   ]
  },
  {
   "cell_type": "markdown",
   "id": "7590bbc6",
   "metadata": {},
   "source": [
    "* To create a custom exception in Python, we need to define a new class that is derived from the built-in Exception class. This is because all built-in exceptions in Python are derived from the Exception class."
   ]
  },
  {
   "cell_type": "markdown",
   "id": "07fa1173",
   "metadata": {},
   "source": [
    "* the Exception class is a base class for all built-in and user-defined exceptions in Python. It defines the basic functionality of an exception, including methods to retrieve the error message, the traceback, and other important information."
   ]
  },
  {
   "cell_type": "markdown",
   "id": "05fad85f",
   "metadata": {},
   "source": [
    "## Q2. Write a python program to print Python Exception Hierarchy."
   ]
  },
  {
   "cell_type": "code",
   "execution_count": 2,
   "id": "c05eeca9",
   "metadata": {},
   "outputs": [
    {
     "name": "stdout",
     "output_type": "stream",
     "text": [
      "BaseException\n",
      "object\n"
     ]
    }
   ],
   "source": [
    "# Get the base Exception class\n",
    "base_exception = BaseException\n",
    "\n",
    "# Loop through the exception hierarchy and print each exception class\n",
    "while base_exception:\n",
    "    print(base_exception.__name__)\n",
    "    base_exception = base_exception.__base__\n"
   ]
  },
  {
   "cell_type": "markdown",
   "id": "17161d96",
   "metadata": {},
   "source": [
    "## Q3. What errors are defined in the ArithmeticError class? Explain any two with an example."
   ]
  },
  {
   "cell_type": "markdown",
   "id": "75f57c2f",
   "metadata": {},
   "source": [
    "* In Python, the ArithmeticError class is the base class for built-in exceptions that are raised for various arithmetic errors, such as OverflowError, ZeroDivisionError, FloatingPointError, etc. Here are two examples of arithmetic errors defined in the ArithmeticError class:"
   ]
  },
  {
   "cell_type": "code",
   "execution_count": 3,
   "id": "910f626e",
   "metadata": {},
   "outputs": [
    {
     "ename": "ZeroDivisionError",
     "evalue": "division by zero",
     "output_type": "error",
     "traceback": [
      "\u001b[1;31m---------------------------------------------------------------------------\u001b[0m",
      "\u001b[1;31mZeroDivisionError\u001b[0m                         Traceback (most recent call last)",
      "Input \u001b[1;32mIn [3]\u001b[0m, in \u001b[0;36m<cell line: 3>\u001b[1;34m()\u001b[0m\n\u001b[0;32m      1\u001b[0m a \u001b[38;5;241m=\u001b[39m \u001b[38;5;241m10\u001b[39m\n\u001b[0;32m      2\u001b[0m b \u001b[38;5;241m=\u001b[39m \u001b[38;5;241m0\u001b[39m\n\u001b[1;32m----> 3\u001b[0m c \u001b[38;5;241m=\u001b[39m \u001b[43ma\u001b[49m\u001b[38;5;241;43m/\u001b[39;49m\u001b[43mb\u001b[49m\n\u001b[0;32m      4\u001b[0m \u001b[38;5;28mprint\u001b[39m(c)\n",
      "\u001b[1;31mZeroDivisionError\u001b[0m: division by zero"
     ]
    }
   ],
   "source": [
    "#This error is raised when we try to divide a number by zero. For example:ZeroDivisionError\n",
    "a = 10\n",
    "b = 0\n",
    "c = a/b\n",
    "print(c)"
   ]
  },
  {
   "cell_type": "markdown",
   "id": "4528b5b9",
   "metadata": {},
   "source": [
    "* OverflowError: This error occurs when the result of an arithmetic operation exceeds the maximum representable value for a numeric type."
   ]
  },
  {
   "cell_type": "code",
   "execution_count": 5,
   "id": "dd10e7b7",
   "metadata": {},
   "outputs": [
    {
     "name": "stdout",
     "output_type": "stream",
     "text": [
      "999999999999999999999999999999999999999999999999999999999999999999999999999999999999999999999999999999999999999999999999999999999999999999999998000000000000000000000000000000000000000000000000000000000000000000000000000000000000000000000000000000000000000000000000000000000000000000000001\n"
     ]
    }
   ],
   "source": [
    "a = 999999999999999999999999999999999999999999999999999999999999999999999999999999999999999999999999999999999999999999999999999999999999999999999999\n",
    "b = 999999999999999999999999999999999999999999999999999999999999999999999999999999999999999999999999999999999999999999999999999999999999999999999999\n",
    "c = a * b\n",
    "print(c)\n",
    "#In this code, we are trying to multiply two very large numbers, which will result in an overflow error because the result will be \n",
    "#larger than the maximum value that can be stored in the data type being used."
   ]
  },
  {
   "cell_type": "markdown",
   "id": "f9224ea7",
   "metadata": {},
   "source": [
    "## Q4. Why LookupError class is used? Explain with an example KeyError and IndexError."
   ]
  },
  {
   "cell_type": "markdown",
   "id": "3a13309f",
   "metadata": {},
   "source": [
    "The LookupError class is used as the base class for exceptions that are raised when an index or key used on a sequence or mapping is invalid. It is a subclass of the built-in Exception class in Python."
   ]
  },
  {
   "cell_type": "markdown",
   "id": "2d744425",
   "metadata": {},
   "source": [
    "Two common subclasses of the LookupError class are the IndexError and KeyError classes.\n",
    "\n",
    "* The IndexError class is raised when an index used to access an element in a sequence (such as a list or tuple) is out of range. For example:"
   ]
  },
  {
   "cell_type": "code",
   "execution_count": 6,
   "id": "e91fcaf2",
   "metadata": {},
   "outputs": [
    {
     "ename": "IndexError",
     "evalue": "list index out of range",
     "output_type": "error",
     "traceback": [
      "\u001b[1;31m---------------------------------------------------------------------------\u001b[0m",
      "\u001b[1;31mIndexError\u001b[0m                                Traceback (most recent call last)",
      "Input \u001b[1;32mIn [6]\u001b[0m, in \u001b[0;36m<cell line: 2>\u001b[1;34m()\u001b[0m\n\u001b[0;32m      1\u001b[0m my_list \u001b[38;5;241m=\u001b[39m [\u001b[38;5;241m1\u001b[39m, \u001b[38;5;241m2\u001b[39m, \u001b[38;5;241m3\u001b[39m]\n\u001b[1;32m----> 2\u001b[0m \u001b[38;5;28mprint\u001b[39m(\u001b[43mmy_list\u001b[49m\u001b[43m[\u001b[49m\u001b[38;5;241;43m3\u001b[39;49m\u001b[43m]\u001b[49m)\n",
      "\u001b[1;31mIndexError\u001b[0m: list index out of range"
     ]
    }
   ],
   "source": [
    "my_list = [1, 2, 3]\n",
    "print(my_list[3])\n",
    "#In this example, we are trying to access the fourth element of the my_list list, \n",
    "#which does not exist, hence the IndexError."
   ]
  },
  {
   "cell_type": "markdown",
   "id": "fd3d0482",
   "metadata": {},
   "source": [
    "* The KeyError class is raised when a key used to access a value in a dictionary is not found. For example:"
   ]
  },
  {
   "cell_type": "code",
   "execution_count": 7,
   "id": "4197533f",
   "metadata": {},
   "outputs": [
    {
     "ename": "KeyError",
     "evalue": "'d'",
     "output_type": "error",
     "traceback": [
      "\u001b[1;31m---------------------------------------------------------------------------\u001b[0m",
      "\u001b[1;31mKeyError\u001b[0m                                  Traceback (most recent call last)",
      "Input \u001b[1;32mIn [7]\u001b[0m, in \u001b[0;36m<cell line: 2>\u001b[1;34m()\u001b[0m\n\u001b[0;32m      1\u001b[0m my_dict \u001b[38;5;241m=\u001b[39m {\u001b[38;5;124m'\u001b[39m\u001b[38;5;124ma\u001b[39m\u001b[38;5;124m'\u001b[39m: \u001b[38;5;241m1\u001b[39m, \u001b[38;5;124m'\u001b[39m\u001b[38;5;124mb\u001b[39m\u001b[38;5;124m'\u001b[39m: \u001b[38;5;241m2\u001b[39m, \u001b[38;5;124m'\u001b[39m\u001b[38;5;124mc\u001b[39m\u001b[38;5;124m'\u001b[39m: \u001b[38;5;241m3\u001b[39m}\n\u001b[1;32m----> 2\u001b[0m \u001b[38;5;28mprint\u001b[39m(\u001b[43mmy_dict\u001b[49m\u001b[43m[\u001b[49m\u001b[38;5;124;43m'\u001b[39;49m\u001b[38;5;124;43md\u001b[39;49m\u001b[38;5;124;43m'\u001b[39;49m\u001b[43m]\u001b[49m)\n",
      "\u001b[1;31mKeyError\u001b[0m: 'd'"
     ]
    }
   ],
   "source": [
    "my_dict = {'a': 1, 'b': 2, 'c': 3}\n",
    "print(my_dict['d'])\n",
    "#In this example, we are trying to access the value for the key 'd' in the my_dict dictionary, \n",
    "#which does not exist, hence the KeyError."
   ]
  },
  {
   "cell_type": "markdown",
   "id": "5af5b232",
   "metadata": {},
   "source": [
    "* Both IndexError and KeyError are subclasses of the LookupError class. Hence, we can use the LookupError exception class to handle both IndexError and KeyError exceptions."
   ]
  },
  {
   "cell_type": "markdown",
   "id": "a40b715b",
   "metadata": {},
   "source": [
    "## Q5. Explain ImportError. What is ModuleNotFoundError?"
   ]
  },
  {
   "cell_type": "markdown",
   "id": "1b724a91",
   "metadata": {},
   "source": [
    "* In Python, when you try to import a module that cannot be found by Python, you will encounter an ImportError. This error occurs when you attempt to use a module that has not been installed or is not available in the current working directory or any of the directories listed in the PYTHONPATH environment variable."
   ]
  },
  {
   "cell_type": "markdown",
   "id": "7c163ff3",
   "metadata": {},
   "source": [
    "* Starting from Python 3.6, the ImportError error has been renamed to ModuleNotFoundError, which is a more specific type of ImportError that indicates that the module you're trying to import doesn't exist."
   ]
  },
  {
   "cell_type": "markdown",
   "id": "5271c091",
   "metadata": {},
   "source": [
    "## Q6. List down some best practices for exception handling in python."
   ]
  },
  {
   "cell_type": "markdown",
   "id": "9e0725e0",
   "metadata": {},
   "source": [
    "* Use Exceptions for Exceptional Cases: Exceptions should be used for handling unexpected or exceptional scenarios, such as when a file is not found or a network connection fails. Avoid using exceptions for flow control or to indicate expected behavior"
   ]
  },
  {
   "cell_type": "markdown",
   "id": "b06941a1",
   "metadata": {},
   "source": [
    "* Always Clean Up Resources in a Finally Block: Resources like files or network connections should be properly closed or released, even if an exception occurs. The finally block can be used for this purpose to ensure that cleanup code is executed regardless of whether an exception is raised."
   ]
  },
  {
   "cell_type": "markdown",
   "id": "f927df6a",
   "metadata": {},
   "source": [
    "* Catch Specific Exceptions: Catching specific exceptions allows you to handle each exception type differently and provide appropriate error messages. Avoid catching generic exceptions as they can hide the actual error and make debugging harder."
   ]
  },
  {
   "cell_type": "markdown",
   "id": "995bfefd",
   "metadata": {},
   "source": [
    "## Thank You"
   ]
  },
  {
   "cell_type": "code",
   "execution_count": null,
   "id": "c18590e3",
   "metadata": {},
   "outputs": [],
   "source": []
  }
 ],
 "metadata": {
  "kernelspec": {
   "display_name": "Python 3 (ipykernel)",
   "language": "python",
   "name": "python3"
  },
  "language_info": {
   "codemirror_mode": {
    "name": "ipython",
    "version": 3
   },
   "file_extension": ".py",
   "mimetype": "text/x-python",
   "name": "python",
   "nbconvert_exporter": "python",
   "pygments_lexer": "ipython3",
   "version": "3.9.12"
  }
 },
 "nbformat": 4,
 "nbformat_minor": 5
}
