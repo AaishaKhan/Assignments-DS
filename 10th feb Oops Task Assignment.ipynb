{
 "cells": [
  {
   "cell_type": "markdown",
   "id": "9138c1d3",
   "metadata": {},
   "source": [
    "# 10th Feb Assignment 2023"
   ]
  },
  {
   "cell_type": "markdown",
   "id": "a682f980",
   "metadata": {},
   "source": [
    "# OOPs assignment\n"
   ]
  },
  {
   "cell_type": "markdown",
   "id": "f9904d38",
   "metadata": {},
   "source": [
    "### Q1. Which function is used to open a file? What are the different modes of opening a file? Explain each mode of file opening"
   ]
  },
  {
   "cell_type": "markdown",
   "id": "70cf9258",
   "metadata": {},
   "source": [
    "To open a file in Python, use the open() function. The open() method accepts two arguments: the name of the file to be opened and the mode in which the file should be opened. The open() function's fundamental syntax is as follows:"
   ]
  },
  {
   "cell_type": "code",
   "execution_count": 1,
   "id": "d5ed773a",
   "metadata": {},
   "outputs": [
    {
     "ename": "ValueError",
     "evalue": "invalid mode: 'mode'",
     "output_type": "error",
     "traceback": [
      "\u001b[1;31m---------------------------------------------------------------------------\u001b[0m",
      "\u001b[1;31mValueError\u001b[0m                                Traceback (most recent call last)",
      "Input \u001b[1;32mIn [1]\u001b[0m, in \u001b[0;36m<cell line: 1>\u001b[1;34m()\u001b[0m\n\u001b[1;32m----> 1\u001b[0m file \u001b[38;5;241m=\u001b[39m \u001b[38;5;28;43mopen\u001b[39;49m\u001b[43m(\u001b[49m\u001b[38;5;124;43m\"\u001b[39;49m\u001b[38;5;124;43mfilename\u001b[39;49m\u001b[38;5;124;43m\"\u001b[39;49m\u001b[43m,\u001b[49m\u001b[43m \u001b[49m\u001b[38;5;124;43m\"\u001b[39;49m\u001b[38;5;124;43mmode\u001b[39;49m\u001b[38;5;124;43m\"\u001b[39;49m\u001b[43m)\u001b[49m\n",
      "\u001b[1;31mValueError\u001b[0m: invalid mode: 'mode'"
     ]
    }
   ],
   "source": [
    "file = open(\"filename\", \"mode\")\n"
   ]
  },
  {
   "cell_type": "markdown",
   "id": "3d8a79e8",
   "metadata": {},
   "source": [
    "In this case, filename is the name of the file to be opened, and mode is a string indicating the mode in which the file should be opened. A file can be opened in numerous modes, each of which defines how the file behaves when it is opened. In Python, there are several ways to open a file."
   ]
  },
  {
   "cell_type": "markdown",
   "id": "dda03178",
   "metadata": {},
   "source": [
    "* \"r\" (read mode): This mode is used to read a file. An exception will be thrown if the file does not exist or cannot be opened. In this mode, the file pointer is at the beginning of the file, and any attempts to write to it will result in an IOError. As an example, file = open ('example.txt', 'r')"
   ]
  },
  {
   "cell_type": "markdown",
   "id": "f1d56083",
   "metadata": {},
   "source": [
    "* The \"w\" mode (write mode) is used to open a file for writing. The file will be created if it does not already exist. If it exists, the contents will be trimmed to zero length before being written. The file pointer is positioned at the beginning of the file in this mode. As an example, file = open (\"example.txt\", \"w\") Formalized paraphrase"
   ]
  },
  {
   "cell_type": "markdown",
   "id": "38499377",
   "metadata": {},
   "source": [
    "* \"a\" (append mode): This mode is used to open a file for writing, but instead of overwriting old data, new data is added to the end of the file. The file will be created if it does not already exist. The file pointer is at the end of the file in this mode. As an example, file = open (\"a\", \"example.txt\")"
   ]
  },
  {
   "cell_type": "markdown",
   "id": "04377564",
   "metadata": {},
   "source": [
    "* \"x\" (exclusive creation mode): Opens a file for writing, but fails if the file already exists. The file will be created if it does not already exist. The file pointer is positioned at the beginning of the file in this mode. As an example, file = open (\"example.txt\", \"x\")"
   ]
  },
  {
   "cell_type": "markdown",
   "id": "f1d2effb",
   "metadata": {},
   "source": [
    "* \"b\" (binary mode): Use this mode to open a binary file. This is used for non-text files such as photos, movies, and music. As an example, file = open (\"example.png\", \"rb\")"
   ]
  },
  {
   "cell_type": "markdown",
   "id": "e6f47501",
   "metadata": {},
   "source": [
    "* \"t\" (text mode): This mode is used to open a text-only file. This is the format for text files. file = open(\"example.txt\", \"rt\");"
   ]
  },
  {
   "cell_type": "markdown",
   "id": "d16ea818",
   "metadata": {},
   "source": [
    "* The \"+\" symbol (read/write mode) is used to open a file for both reading and writing. file = open(\"example.txt\", \"r+\") as an example"
   ]
  },
  {
   "cell_type": "markdown",
   "id": "bb7e405f",
   "metadata": {},
   "source": [
    "If no mode is given, the file is opened in read-only mode by default (\"r\").\n",
    "\n",
    "When we have finished dealing with the file, we must properly shut it by invoking the close() function on the file object. Instead, we can use the with statement to guarantee that the file is automatically closed after we are through using it."
   ]
  },
  {
   "cell_type": "code",
   "execution_count": null,
   "id": "133b6968",
   "metadata": {},
   "outputs": [],
   "source": []
  },
  {
   "cell_type": "code",
   "execution_count": null,
   "id": "ed36d742",
   "metadata": {},
   "outputs": [],
   "source": []
  },
  {
   "cell_type": "markdown",
   "id": "1bea8305",
   "metadata": {},
   "source": [
    "### Q2. Why close() function is used? Why is it important to close a file?"
   ]
  },
  {
   "cell_type": "markdown",
   "id": "e2b14a40",
   "metadata": {},
   "source": [
    "* The close() method in Python is used to close a file that was opened with the open() function. The close() method frees all resources that the file was using, including as file descriptors, buffer space, and memory."
   ]
  },
  {
   "cell_type": "markdown",
   "id": "cf2cd3f6",
   "metadata": {},
   "source": [
    "* It is critical to shut a file after it has been opened for the following reasons:\n",
    "\n",
    "Resource Management: When you open a file, the operating system assigns resources to handle it. If the file is not correctly closed, the resources may not be released, resulting in problems such as running out of file descriptors, running out of memory, or being unable to access the file in the future."
   ]
  },
  {
   "cell_type": "markdown",
   "id": "ce651988",
   "metadata": {},
   "source": [
    "* Data Integrity: Typically, when data is written to a file, it is buffered in memory before being copied to the file on disc. If the file is not correctly closed, data may not be written to disc, resulting in data loss or damage.\n",
    "\n",
    "Performance concerns might arise when a significant number of files are left open on the system. This may be avoided by closing the file once it has been utilised."
   ]
  },
  {
   "cell_type": "code",
   "execution_count": 2,
   "id": "b4e53f02",
   "metadata": {},
   "outputs": [
    {
     "ename": "FileNotFoundError",
     "evalue": "[Errno 2] No such file or directory: 'example.txt'",
     "output_type": "error",
     "traceback": [
      "\u001b[1;31m---------------------------------------------------------------------------\u001b[0m",
      "\u001b[1;31mFileNotFoundError\u001b[0m                         Traceback (most recent call last)",
      "Input \u001b[1;32mIn [2]\u001b[0m, in \u001b[0;36m<cell line: 1>\u001b[1;34m()\u001b[0m\n\u001b[1;32m----> 1\u001b[0m \u001b[38;5;28;01mwith\u001b[39;00m \u001b[38;5;28;43mopen\u001b[39;49m\u001b[43m(\u001b[49m\u001b[38;5;124;43m\"\u001b[39;49m\u001b[38;5;124;43mexample.txt\u001b[39;49m\u001b[38;5;124;43m\"\u001b[39;49m\u001b[43m,\u001b[49m\u001b[43m \u001b[49m\u001b[38;5;124;43m\"\u001b[39;49m\u001b[38;5;124;43mr\u001b[39;49m\u001b[38;5;124;43m\"\u001b[39;49m\u001b[43m)\u001b[49m \u001b[38;5;28;01mas\u001b[39;00m file:\n\u001b[0;32m      2\u001b[0m     contents \u001b[38;5;241m=\u001b[39m file\u001b[38;5;241m.\u001b[39mread()\n\u001b[0;32m      3\u001b[0m     \u001b[38;5;28mprint\u001b[39m(contents)\n",
      "\u001b[1;31mFileNotFoundError\u001b[0m: [Errno 2] No such file or directory: 'example.txt'"
     ]
    }
   ],
   "source": [
    "with open(\"example.txt\", \"r\") as file:\n",
    "    contents = file.read()\n",
    "    print(contents)\n",
    "# file is automatically closed at the end of the block\n"
   ]
  },
  {
   "cell_type": "markdown",
   "id": "54bb09c2",
   "metadata": {},
   "source": [
    "In this example, the file is automatically closed when the with block is exited, even if an exception is raised. This ensures that the file is always closed properly, regardless of any errors that may occur."
   ]
  },
  {
   "cell_type": "markdown",
   "id": "eb1930b3",
   "metadata": {},
   "source": [
    "### Q3. Write a python program to create a text file. Write ‘I want to become a Data Scientist’ in that file. Then close the file. Open this file and read the content of the file. "
   ]
  },
  {
   "cell_type": "code",
   "execution_count": 3,
   "id": "f9a4fd3f",
   "metadata": {},
   "outputs": [
    {
     "name": "stdout",
     "output_type": "stream",
     "text": [
      "I want to become a Data Scientist\n"
     ]
    }
   ],
   "source": [
    "# Open the file in write mode\n",
    "file = open(\"example.txt\", \"w\")\n",
    "\n",
    "# Write a string to the file\n",
    "file.write(\"I want to become a Data Scientist\")\n",
    "\n",
    "# Close the file\n",
    "file.close()\n",
    "\n",
    "# Open the file in read mode\n",
    "file = open(\"example.txt\", \"r\")\n",
    "\n",
    "# Read the contents of the file\n",
    "contents = file.read()\n",
    "\n",
    "# Print the contents of the file\n",
    "print(contents)\n",
    "\n",
    "# Close the file\n",
    "file.close()\n"
   ]
  },
  {
   "cell_type": "code",
   "execution_count": null,
   "id": "13b5d783",
   "metadata": {},
   "outputs": [],
   "source": []
  },
  {
   "cell_type": "code",
   "execution_count": null,
   "id": "a3657e50",
   "metadata": {},
   "outputs": [],
   "source": []
  },
  {
   "cell_type": "markdown",
   "id": "d075061b",
   "metadata": {},
   "source": [
    "### Q4. Explain the following with python code: read(), readline() and readlines()"
   ]
  },
  {
   "cell_type": "markdown",
   "id": "458a30bc",
   "metadata": {},
   "source": [
    "In Python, the read(), readline(), and readlines() methods are used to read the contents of a file. Here's an explanation of each method along with some example code:\n",
    "\n",
    "read(): The read() method reads the entire contents of a file as a string."
   ]
  },
  {
   "cell_type": "code",
   "execution_count": 4,
   "id": "80702a33",
   "metadata": {},
   "outputs": [
    {
     "name": "stdout",
     "output_type": "stream",
     "text": [
      "I want to become a Data Scientist\n"
     ]
    }
   ],
   "source": [
    "# Open a file in read mode\n",
    "file = open(\"example.txt\", \"r\")\n",
    "\n",
    "# Read the entire contents of the file\n",
    "contents = file.read()\n",
    "\n",
    "# Print the contents of the file\n",
    "print(contents)\n",
    "\n",
    "# Close the file\n",
    "file.close()\n"
   ]
  },
  {
   "cell_type": "markdown",
   "id": "b26df257",
   "metadata": {},
   "source": [
    "* readline(): The readline() method reads a single line from a file as a string. Each time it is called, it reads the next line of the file."
   ]
  },
  {
   "cell_type": "code",
   "execution_count": 5,
   "id": "9720e325",
   "metadata": {},
   "outputs": [
    {
     "name": "stdout",
     "output_type": "stream",
     "text": [
      "I want to become a Data Scientist\n",
      "\n"
     ]
    }
   ],
   "source": [
    "# Open a file in read mode\n",
    "file = open(\"example.txt\", \"r\")\n",
    "\n",
    "# Read the first line of the file\n",
    "line1 = file.readline()\n",
    "\n",
    "# Read the second line of the file\n",
    "line2 = file.readline()\n",
    "\n",
    "# Print the first two lines of the file\n",
    "print(line1)\n",
    "print(line2)\n",
    "\n",
    "# Close the file\n",
    "file.close()\n"
   ]
  },
  {
   "cell_type": "markdown",
   "id": "54a8f864",
   "metadata": {},
   "source": [
    "* readlines(): The readlines() method reads all the lines of a file and returns a list of strings, where each string is a line from the file."
   ]
  },
  {
   "cell_type": "code",
   "execution_count": 6,
   "id": "ee188e92",
   "metadata": {},
   "outputs": [
    {
     "name": "stdout",
     "output_type": "stream",
     "text": [
      "I want to become a Data Scientist\n"
     ]
    }
   ],
   "source": [
    "# Open a file in read mode\n",
    "file = open(\"example.txt\", \"r\")\n",
    "\n",
    "# Read all the lines of the file\n",
    "lines = file.readlines()\n",
    "\n",
    "# Print each line of the file\n",
    "for line in lines:\n",
    "    print(line)\n",
    "\n",
    "# Close the file\n",
    "file.close()\n"
   ]
  },
  {
   "cell_type": "code",
   "execution_count": null,
   "id": "683c4ec0",
   "metadata": {},
   "outputs": [],
   "source": [
    "# In this example, the readlines() method is used to read all the lines of the file \"example.txt\". The contents of each line are stored as a list of strings in the variable lines, which is then printed to the console using a for loop."
   ]
  },
  {
   "cell_type": "markdown",
   "id": "d77faea4",
   "metadata": {},
   "source": [
    "### Q5. Explain why with statement is used with open(). What is the advantage of using with statement and open() together?"
   ]
  },
  {
   "cell_type": "markdown",
   "id": "40b8016b",
   "metadata": {},
   "source": [
    "In Python, the with statement is used in conjunction with the open() function to handle file opening and closing automatically. The term \"open source\" refers to software that allows users to create their own open source projects. If the close() function is not invoked, the file is left open, which may result in errors or other problems.\n",
    "\n"
   ]
  },
  {
   "cell_type": "markdown",
   "id": "fd323f70",
   "metadata": {},
   "source": [
    "* The with statement allows you to automatically shut a file when you exit a block of code, whether by normal completion or an exception. It is a more secure and convenient method of opening and closing files since it assures that the file is closed regardless of what happens in the block of code."
   ]
  },
  {
   "cell_type": "code",
   "execution_count": 7,
   "id": "cd884a5a",
   "metadata": {},
   "outputs": [
    {
     "name": "stdout",
     "output_type": "stream",
     "text": [
      "I want to become a Data Scientist\n"
     ]
    }
   ],
   "source": [
    "with open('example.txt', 'r') as file:\n",
    "    # Do something with the file\n",
    "    contents = file.read()\n",
    "    print(contents)\n"
   ]
  },
  {
   "cell_type": "markdown",
   "id": "5bc796d4",
   "metadata": {},
   "source": [
    "* The with statement is used in this example to open the file \"example.txt\" in read mode. The variable file is given the file object. The with statement guarantees that the file is automatically closed when the block of code is exited, eliminating the need to manually execute the close() function."
   ]
  },
  {
   "cell_type": "markdown",
   "id": "33512662",
   "metadata": {},
   "source": [
    "* The with statement with the open() function has the advantage of making it simpler to develop safer and more dependable code that avoids typical mistakes such as forgetting to shut a file. It also makes the code simpler by removing the requirement for a try/finally block to guarantee that the file is closed."
   ]
  },
  {
   "cell_type": "code",
   "execution_count": null,
   "id": "7bf61a77",
   "metadata": {},
   "outputs": [],
   "source": []
  },
  {
   "cell_type": "markdown",
   "id": "463e7709",
   "metadata": {},
   "source": [
    "### Q6. Explain the write() and writelines() functions. Give a suitable example."
   ]
  },
  {
   "cell_type": "markdown",
   "id": "312a6573",
   "metadata": {},
   "source": [
    "The write() and writelines() methods in Python are used to write data to a file. Here is an explanation of each function, as well as some sample code:\n",
    "\n",
    "* The write():- method saves a string to a file. It returns the amount of characters that have been written to the file."
   ]
  },
  {
   "cell_type": "code",
   "execution_count": 8,
   "id": "48ee73d0",
   "metadata": {},
   "outputs": [],
   "source": [
    "# Open a file in write mode\n",
    "file = open(\"example.txt\", \"w\")\n",
    "\n",
    "# Write a string to the file\n",
    "file.write(\"I want to become a Data Scientist\")\n",
    "\n",
    "# Close the file\n",
    "file.close()\n"
   ]
  },
  {
   "cell_type": "markdown",
   "id": "6b5372be",
   "metadata": {},
   "source": [
    "The word for the day is \"Paint\". The write() method returns the number of characters sent to the file.\n",
    "\n",
    "* writelines(): The writelines() method saves a string list to a file. Each string is written as a single line to the file."
   ]
  },
  {
   "cell_type": "code",
   "execution_count": 9,
   "id": "8fbd4b12",
   "metadata": {},
   "outputs": [],
   "source": [
    "# Open a file in write mode\n",
    "file = open(\"example.txt\", \"w\")\n",
    "\n",
    "# Write a list of strings to the file\n",
    "lines = [\"I want to become a Data Scientist\", \"I love Python\", \"Machine Learning is awesome\"]\n",
    "file.writelines(lines)\n",
    "\n",
    "# Close the file\n",
    "file.close()\n"
   ]
  },
  {
   "cell_type": "markdown",
   "id": "7bc7196c",
   "metadata": {},
   "source": [
    "The writelines() method is used in this example to write a list of strings to the file \"example.txt\" in write mode. Each string in the list is written as a distinct line to the file. Because the writelines() function does not insert line breaks between strings, you must include them in the strings."
   ]
  },
  {
   "cell_type": "markdown",
   "id": "e85c1748",
   "metadata": {},
   "source": [
    "The write() and writelines() methods have the benefit of allowing you to write data to a file in a simple and plain manner. You may quickly create and write to files in Python by combining them with the open() function and the with statement."
   ]
  },
  {
   "cell_type": "markdown",
   "id": "e83d19c0",
   "metadata": {},
   "source": [
    "## Thank YOU"
   ]
  },
  {
   "cell_type": "code",
   "execution_count": null,
   "id": "417b80af",
   "metadata": {},
   "outputs": [],
   "source": []
  }
 ],
 "metadata": {
  "kernelspec": {
   "display_name": "Python 3 (ipykernel)",
   "language": "python",
   "name": "python3"
  },
  "language_info": {
   "codemirror_mode": {
    "name": "ipython",
    "version": 3
   },
   "file_extension": ".py",
   "mimetype": "text/x-python",
   "name": "python",
   "nbconvert_exporter": "python",
   "pygments_lexer": "ipython3",
   "version": "3.9.12"
  }
 },
 "nbformat": 4,
 "nbformat_minor": 5
}
