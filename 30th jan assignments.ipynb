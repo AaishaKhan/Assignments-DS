{
 "cells": [
  {
   "cell_type": "markdown",
   "id": "7a640614",
   "metadata": {},
   "source": [
    "# 30th JAN Assignment"
   ]
  },
  {
   "cell_type": "markdown",
   "id": "a9d41b9c",
   "metadata": {},
   "source": [
    "### Q.write a program to accept percentage from user and display the grade"
   ]
  },
  {
   "cell_type": "code",
   "execution_count": 1,
   "id": "ab396ebe",
   "metadata": {},
   "outputs": [
    {
     "name": "stdout",
     "output_type": "stream",
     "text": [
      "please enter your percentage: 88\n",
      "you got an B- one grade point away to Ace!!\n"
     ]
    }
   ],
   "source": [
    "percentage = int(input(\"please enter your percentage: \"))\n",
    "\n",
    "if percentage > 90 and percentage <= 100 :\n",
    "    print ('you got an A- keep it Up')\n",
    "    \n",
    "elif percentage <= 90 and percentage > 80 :\n",
    "    print ('you got an B- one grade point away to Ace!!')  \n",
    "    \n",
    "elif percentage <= 80 and percentage >= 60 :\n",
    "    print (\"you got an C- push a bit harder to ace your goal\")\n",
    "    \n",
    "elif percentage < 60 :\n",
    "    print (\"you got an D- need to workhard on studies\")\n"
   ]
  },
  {
   "cell_type": "markdown",
   "id": "5539fac2",
   "metadata": {},
   "source": [
    "### Q.Write a program to accept the cost price of a bike and display the road tax to be paid"
   ]
  },
  {
   "cell_type": "code",
   "execution_count": 2,
   "id": "fb8b1dab",
   "metadata": {},
   "outputs": [
    {
     "name": "stdout",
     "output_type": "stream",
     "text": [
      "please enter your Bike Price: 60000\n",
      "you have to pay 10% road tax, \"Thank You- Have a great day\" \n"
     ]
    }
   ],
   "source": [
    "bike_cost = int(input(\"please enter your Bike Price: \"))\n",
    "\n",
    "if bike_cost > 100000 :\n",
    "    print ('you have to pay 15% road tax, \"Thank You- Have a great day\"')\n",
    "    \n",
    "elif bike_cost >= 50000 and bike_cost <=100000:\n",
    "    print ('you have to pay 10% road tax, \"Thank You- Have a great day\" ')  \n",
    "    \n",
    "elif bike_cost <= 50000 :\n",
    "    print ('you have to pay 5% road tax, \"Thank You- Have a great day\" ')"
   ]
  },
  {
   "cell_type": "markdown",
   "id": "735c521c",
   "metadata": {},
   "source": [
    "### Q3.Accept any city from the user and display monuments of that city."
   ]
  },
  {
   "cell_type": "code",
   "execution_count": 3,
   "id": "33cb7ee9",
   "metadata": {},
   "outputs": [
    {
     "name": "stdout",
     "output_type": "stream",
     "text": [
      "please enter city name: Agra\n",
      "Taj Mahal is the monument of the city you have mentioned\n"
     ]
    }
   ],
   "source": [
    "city = input(\"please enter city name: \")\n",
    "\n",
    "if city == 'Delhi':\n",
    "    print('Red Fort is the monument of the city you have mentioned')\n",
    "\n",
    "elif city == 'Agra':\n",
    "    print('Taj Mahal is the monument of the city you have mentioned')\n",
    "\n",
    "elif city == 'Jaipur':\n",
    "    print('Jal Mahal is the monument of the city you have mentioned')\n",
    "else:\n",
    "    print('invalid input mentioned')"
   ]
  },
  {
   "cell_type": "markdown",
   "id": "d3ba7857",
   "metadata": {},
   "source": [
    "### Q4. Check how many times a given number can be divided by 3 before it is less than or equal to 10. "
   ]
  },
  {
   "cell_type": "code",
   "execution_count": 4,
   "id": "9ca834de",
   "metadata": {},
   "outputs": [
    {
     "name": "stdout",
     "output_type": "stream",
     "text": [
      "enter a number: 700\n",
      "the number can be divided by:  4\n"
     ]
    }
   ],
   "source": [
    "num = int(input('enter a number: '))\n",
    "count = 0\n",
    "while num >= 10 :\n",
    "    num = num/3\n",
    "    count+= 1 \n",
    "print('the number can be divided by: ', count)"
   ]
  },
  {
   "cell_type": "markdown",
   "id": "67a3f16c",
   "metadata": {},
   "source": [
    "### Q5.Why and When to Use while Loop in Python give a detailed description with example "
   ]
  },
  {
   "cell_type": "markdown",
   "id": "94b8b43f",
   "metadata": {},
   "source": [
    "In programming language, loops are used to repeat a block of code. for eg. if we want to show something more than one time\n",
    "we can use a loop.\n",
    "* python while loop is used to run a block, code until a certain condition met, like here in example!!"
   ]
  },
  {
   "cell_type": "code",
   "execution_count": 20,
   "id": "2114d43a",
   "metadata": {},
   "outputs": [
    {
     "name": "stdout",
     "output_type": "stream",
     "text": [
      "1\n",
      "2\n",
      "3\n",
      "4\n",
      "5\n",
      "6\n",
      "7\n",
      "8\n",
      "9\n",
      "10\n",
      "11\n",
      "12\n",
      "13\n",
      "14\n",
      "15\n",
      "16\n",
      "17\n",
      "18\n",
      "19\n",
      "20\n"
     ]
    }
   ],
   "source": [
    "a= 1 #starting point\n",
    "\n",
    "while a <= 20 :  #till the condition met like here it count till 20 and after that it will break\n",
    "    print(a)\n",
    "    a = a +1"
   ]
  },
  {
   "cell_type": "markdown",
   "id": "e5ee98cb",
   "metadata": {},
   "source": [
    "### Q6.Use nested while loop to print 3 different pattern."
   ]
  },
  {
   "cell_type": "code",
   "execution_count": 21,
   "id": "ee46d41a",
   "metadata": {},
   "outputs": [
    {
     "name": "stdout",
     "output_type": "stream",
     "text": [
      "enter the number: 7\n",
      " *\n",
      " * *\n",
      " * * *\n",
      " * * * *\n",
      " * * * * *\n",
      " * * * * * *\n",
      " * * * * * * *\n"
     ]
    }
   ],
   "source": [
    "# 1st pattern\n",
    "p = int(input('enter the number: '))\n",
    "i=0 #rows\n",
    "while(i<p):\n",
    "    j=i+1 #stars\n",
    "    while(j>0):\n",
    "        print(\" *\",end=\"\")\n",
    "        j=j-1\n",
    "    i=i+1\n",
    "    print()"
   ]
  },
  {
   "cell_type": "code",
   "execution_count": 6,
   "id": "684b3f39",
   "metadata": {},
   "outputs": [
    {
     "name": "stdout",
     "output_type": "stream",
     "text": [
      "enter the number: 5\n",
      " * * * *\n",
      " * * * *\n",
      " * * * *\n",
      " * * * *\n",
      " * * * *\n"
     ]
    }
   ],
   "source": [
    "#2nd pattern\n",
    "p = int(input('enter the number: '))\n",
    "i=0 #rows\n",
    "while(i<p):\n",
    "    j=p-1\n",
    "    while(j>=1):\n",
    "        print(\" *\",end=\"\")\n",
    "        j=j-1\n",
    "    i=i+1\n",
    "    print()"
   ]
  },
  {
   "cell_type": "code",
   "execution_count": 7,
   "id": "dab1ccf6",
   "metadata": {},
   "outputs": [
    {
     "name": "stdout",
     "output_type": "stream",
     "text": [
      "enter the number: 6\n",
      "  &  &  &  & *\n",
      "  &  &  &  & * *\n",
      "  &  &  &  & * * *\n",
      "  &  &  &  & * * * *\n",
      "  &  &  &  & * * * * *\n",
      "  &  &  &  & * * * * * *\n"
     ]
    }
   ],
   "source": [
    "#3rd pattern\n",
    "p = int(input('enter the number: '))\n",
    "i=0 #rows\n",
    "while(i<p):\n",
    "    k =(p-1)-1\n",
    "    while(k>0):\n",
    "        print(\"  &\",end=\"\")\n",
    "        k=k-1\n",
    "    j =i+1    \n",
    "    while(j>0):\n",
    "        print(\" *\",end=\"\")\n",
    "        j=j-1\n",
    "    i=i+1\n",
    "    print()"
   ]
  },
  {
   "cell_type": "markdown",
   "id": "84aed2bf",
   "metadata": {},
   "source": [
    "### Q7.Reverse a while loop to display numbers from 10 to 1 "
   ]
  },
  {
   "cell_type": "code",
   "execution_count": 8,
   "id": "deb7d14c",
   "metadata": {},
   "outputs": [
    {
     "name": "stdout",
     "output_type": "stream",
     "text": [
      "10 9 8 7 6 5 4 3 2 1 "
     ]
    }
   ],
   "source": [
    "num = 10\n",
    "while( num > 0):\n",
    "    print(num, end=\" \")\n",
    "    num = num-1"
   ]
  },
  {
   "cell_type": "markdown",
   "id": "92e6079f",
   "metadata": {},
   "source": [
    "## Thank You"
   ]
  },
  {
   "cell_type": "code",
   "execution_count": null,
   "id": "22a97c98",
   "metadata": {},
   "outputs": [],
   "source": []
  }
 ],
 "metadata": {
  "kernelspec": {
   "display_name": "Python 3 (ipykernel)",
   "language": "python",
   "name": "python3"
  },
  "language_info": {
   "codemirror_mode": {
    "name": "ipython",
    "version": 3
   },
   "file_extension": ".py",
   "mimetype": "text/x-python",
   "name": "python",
   "nbconvert_exporter": "python",
   "pygments_lexer": "ipython3",
   "version": "3.9.12"
  }
 },
 "nbformat": 4,
 "nbformat_minor": 5
}
